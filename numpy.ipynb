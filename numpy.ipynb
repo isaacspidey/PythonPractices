{
 "cells": [
  {
   "cell_type": "markdown",
   "metadata": {},
   "source": [
    "># Introducción a numpy\n",
    ">Más sobre las funciones matemáticas básicas de numpy en <a>hhttps://numpy.org/doc/stable/reference/routines.math.html</a>\n",
    "\n",
    ">Más sobre cómo escribir en markdown en <a>https://www.datacamp.com/community/tutorials/markdown-in-jupyter-notebook</a>"
   ]
  },
  {
   "cell_type": "markdown",
   "metadata": {},
   "source": [
    ">### Arrays\n",
    "Los arrays en Python se asemejan a los vectores de $n$ componentes, es decir, elementos de $\\R^n$, pero las operaciones se hacen *element-wise*, es decir, elemento a elemento, por eso los vectores y los arrays son dos cosas fundamentalmente distintas. Digamos que con las funciones que nos proporciona python, un array es un vector en esteroides. De hecho, ya se verá más adelante que gracias a las funciones de numpy, puedo tratar a los arrays para que hagan operaciones de producto escalar, vectorial y to la pesca.\n",
    "\n",
    "Por ahora importamos numpy, que es una librería con un montón de funciones matemáticas superútiles y matplotlib, que sirve para dibujar."
   ]
  },
  {
   "cell_type": "code",
   "execution_count": 247,
   "metadata": {},
   "outputs": [],
   "source": [
    "import numpy as np\n",
    "import matplotlib.pyplot as plt"
   ]
  },
  {
   "cell_type": "markdown",
   "metadata": {},
   "source": [
    "Vamos a ver varios tipos de arrays que podemos generar"
   ]
  },
  {
   "cell_type": "code",
   "execution_count": 248,
   "metadata": {},
   "outputs": [],
   "source": [
    "a1 = np.array([3,5,4,9]) #a los arrays se les feedea con listas, es decir, elementos entre brackets\n",
    "a2 = np.zeros(5) #crea un array de cinco ceros\n",
    "a3 = np.ones(5) #este de 1's\n",
    "a4 = np.random.random(10) #numeros random entre 0 y 1\n",
    "a5 = np.random.randn(1000) #numeros random con distribucion gaussiana\n"
   ]
  },
  {
   "cell_type": "markdown",
   "metadata": {},
   "source": [
    "Par ver que lo último es cierto, vamos a plotear el histograma para ver que la distribucion de valores de $a_5$ es una gaussiana"
   ]
  },
  {
   "cell_type": "code",
   "execution_count": 311,
   "metadata": {},
   "outputs": [
    {
     "data": {
      "text/plain": [
       "(array([  2.,   1.,   3.,   4.,   8.,   8.,  14.,  12.,  27.,  43.,  49.,\n",
       "         68.,  72.,  72., 103.,  88.,  72.,  89.,  56.,  56.,  51.,  36.,\n",
       "         26.,  16.,  11.,   3.,   5.,   2.,   1.,   2.]),\n",
       " array([-3.38119366, -3.15992657, -2.93865948, -2.71739238, -2.49612529,\n",
       "        -2.2748582 , -2.05359111, -1.83232402, -1.61105692, -1.38978983,\n",
       "        -1.16852274, -0.94725565, -0.72598855, -0.50472146, -0.28345437,\n",
       "        -0.06218728,  0.15907982,  0.38034691,  0.601614  ,  0.82288109,\n",
       "         1.04414819,  1.26541528,  1.48668237,  1.70794946,  1.92921655,\n",
       "         2.15048365,  2.37175074,  2.59301783,  2.81428492,  3.03555202,\n",
       "         3.25681911]),\n",
       " <BarContainer object of 30 artists>)"
      ]
     },
     "execution_count": 311,
     "metadata": {},
     "output_type": "execute_result"
    },
    {
     "data": {
      "image/png": "[encoded data removed]",
      "text/plain": [
       "<Figure size 432x288 with 1 Axes>"
      ]
     },
     "metadata": {
      "needs_background": "light"
     },
     "output_type": "display_data"
    }
   ],
   "source": [
    "plt.hist(a5, bins =30) #bins es el numero de columnas que quiero que haya en el histograma"
   ]
  },
  {
   "cell_type": "markdown",
   "metadata": {},
   "source": [
    "Mentir, no he mentido. Si yo le digo a python que me cree un histograma con mas barras se va a ver mejor la gaussiana, y si le feedeo mas valores a mi array se va a ver ultraperfe. Pero vaya, se ve como coge la forma de campana gaussiana, con lo cual guay"
   ]
  },
  {
   "cell_type": "code",
   "execution_count": 250,
   "metadata": {},
   "outputs": [],
   "source": [
    "a6 = np.linspace(0,10, 100) #te genera un array de evenly spaced\n",
    "#numbers desde tal hasta tal. El ultimo parámetro te indica cuantos\n",
    "#valores quieres que tome. Por defecto son 50\n",
    "#esto es megaútil si queremos plotear porque nos genera los valores\n",
    "#que va a tomar el eje de las abcisas\n",
    "\n",
    "a7= np.arange(0,10,0.02) #parecido al linspace pero aqui no te\n",
    "#digo en cuantos pasos lo quiero, te digo como de espaciados los\n",
    "#quiero y el ya se encarga de darle el tamaño al array que necesite"
   ]
  },
  {
   "cell_type": "markdown",
   "metadata": {},
   "source": [
    "Estos arrays que hemos aprendido son importantisimos porque los vamos a estar usando todo el puto rato. Pero por que usamos arrays en vez de lists? Es que los arrays tienen propiedades muy chulas. Vamos a verlo:"
   ]
  },
  {
   "cell_type": "code",
   "execution_count": 251,
   "metadata": {},
   "outputs": [
    {
     "data": {
      "text/plain": [
       "array([ 6, 10,  8, 18])"
      ]
     },
     "execution_count": 251,
     "metadata": {},
     "output_type": "execute_result"
    }
   ],
   "source": [
    "2*a1 #multiplica cada elemento por 2. Las hace elemento a elemento"
   ]
  },
  {
   "cell_type": "markdown",
   "metadata": {},
   "source": [
    "Y dividir por un \"vector\"? (cuidao con llamarle vector a los arrays porque un vector es una serie de numeros que tiene ciertas propiedades matemáticas. Por eso yo no puedo dividir un real entre un vector pero con un array puedo hacerlo porque es otra entidad completamente distinta aunque a la vista sean iguales)"
   ]
  },
  {
   "cell_type": "code",
   "execution_count": 252,
   "metadata": {},
   "outputs": [
    {
     "data": {
      "text/plain": [
       "array([0.33333333, 0.2       , 0.25      , 0.11111111])"
      ]
     },
     "execution_count": 252,
     "metadata": {},
     "output_type": "execute_result"
    }
   ],
   "source": [
    "1/a1 #Python lo trata como un \"te hago la inversa de cada elemento\n",
    "#del array y lo meto en otro array\""
   ]
  },
  {
   "cell_type": "markdown",
   "metadata": {},
   "source": [
    "Lo guapo de esto es que  con las operaciones de arrays vamos a poder aplicar unas pocas de operaciones al mismo tiempo para un monton de elementos. Todo a la vez.\n",
    "\n",
    "Las operaciones booleanas tambien son canela en rama. Veamos:\n"
   ]
  },
  {
   "cell_type": "code",
   "execution_count": 253,
   "metadata": {},
   "outputs": [
    {
     "data": {
      "text/plain": [
       "array([False,  True, False,  True])"
      ]
     },
     "execution_count": 253,
     "metadata": {},
     "output_type": "execute_result"
    }
   ],
   "source": [
    "#veamos los elementos de a1 que son > 4\n",
    "a1>4 #=Para todos los i en el array, es a1(i)>4?"
   ]
  },
  {
   "cell_type": "markdown",
   "metadata": {},
   "source": [
    "Esto lo que nos devuelve es un array de verdaderos y falsos que no es que tenga mucha utilidad en si, pero nos va a permitir *indexar*. Básicamente filtrar resultados.\n",
    "\n",
    "Por ejemplo \"muéstrame los elementos de $a_1$ que son $>4$\""
   ]
  },
  {
   "cell_type": "code",
   "execution_count": 254,
   "metadata": {},
   "outputs": [
    {
     "data": {
      "text/plain": [
       "array([5, 9])"
      ]
     },
     "execution_count": 254,
     "metadata": {},
     "output_type": "execute_result"
    }
   ],
   "source": [
    "a1[a1>4]"
   ]
  },
  {
   "cell_type": "markdown",
   "metadata": {},
   "source": [
    "En general puedo hacer operaciones mezclando arrays y tal. Ejemplo:"
   ]
  },
  {
   "cell_type": "code",
   "execution_count": 255,
   "metadata": {},
   "outputs": [
    {
     "data": {
      "text/plain": [
       "array([11.33333333, 17.2       , 14.25      , 29.11111111])"
      ]
     },
     "execution_count": 255,
     "metadata": {},
     "output_type": "execute_result"
    }
   ],
   "source": [
    "1/a1+2 + 3*a1"
   ]
  },
  {
   "cell_type": "markdown",
   "metadata": {},
   "source": [
    "Dijimos que todo esto estaba de puta madre para plotear. Veamos.\n",
    "Supongamos que quiero plotear la funcion $x^2$, entonces vamos a crear los valores de 0 a 1 y vamos a darle 100 puntos para que se vea smooth"
   ]
  },
  {
   "cell_type": "code",
   "execution_count": 256,
   "metadata": {},
   "outputs": [
    {
     "data": {
      "text/plain": [
       "[<matplotlib.lines.Line2D at 0x116e9c9d0>]"
      ]
     },
     "execution_count": 256,
     "metadata": {},
     "output_type": "execute_result"
    },
    {
     "data": {
      "image/png": "[encoded data removed]",
      "text/plain": [
       "<Figure size 432x288 with 1 Axes>"
      ]
     },
     "metadata": {
      "needs_background": "light"
     },
     "output_type": "display_data"
    }
   ],
   "source": [
    "x = np.linspace(0,1,100)\n",
    "y = x**2\n",
    "plt.plot(x, y) #plotear y(x), osea el array y en funcion del x"
   ]
  },
  {
   "cell_type": "markdown",
   "metadata": {},
   "source": [
    "Definamos una función"
   ]
  },
  {
   "cell_type": "code",
   "execution_count": 257,
   "metadata": {},
   "outputs": [],
   "source": [
    "def f(x):#toma una x pero no es exact. la x que hemos definido antes\n",
    "    return x**2 * np.sin(x)/np.exp(-x)"
   ]
  },
  {
   "cell_type": "markdown",
   "metadata": {},
   "source": [
    "En una función normal yo le meto un número y sale un número. Pero es que con los arrays puedo hacer estas operaciones a muchos muchos valores del tirón a la misma vez."
   ]
  },
  {
   "cell_type": "code",
   "execution_count": 258,
   "metadata": {},
   "outputs": [
    {
     "data": {
      "text/plain": [
       "[<matplotlib.lines.Line2D at 0x116f00850>]"
      ]
     },
     "execution_count": 258,
     "metadata": {},
     "output_type": "execute_result"
    },
    {
     "data": {
      "image/png": "[encoded data removed]",
      "text/plain": [
       "<Figure size 432x288 with 1 Axes>"
      ]
     },
     "metadata": {
      "needs_background": "light"
     },
     "output_type": "display_data"
    }
   ],
   "source": [
    "a = np.linspace(1,10,100)\n",
    "b = f(a) #f se evalúa en cada valor del array a al mismo tiempo\n",
    "#en vez de coger un for loop para loopear entre los distintos valores\n",
    "#puedo hacerlo así\n",
    "\n",
    "plt.plot(a,b)"
   ]
  },
  {
   "cell_type": "markdown",
   "metadata": {},
   "source": [
    ">### Array indexing"
   ]
  },
  {
   "cell_type": "markdown",
   "metadata": {},
   "source": [
    "Vamos a hacer cosas mas complicadas. Supongamos un array"
   ]
  },
  {
   "cell_type": "code",
   "execution_count": 259,
   "metadata": {},
   "outputs": [
    {
     "data": {
      "text/plain": [
       "2"
      ]
     },
     "execution_count": 259,
     "metadata": {},
     "output_type": "execute_result"
    }
   ],
   "source": [
    "v1= np.array([2,4,6,8,10])\n",
    "#Vamos a mirar al primer elemento, indexado en el 0\n",
    "v1[0]"
   ]
  },
  {
   "cell_type": "markdown",
   "metadata": {},
   "source": [
    "Supongamos que yo sólo quiero una parte del array. Por ejemplo, a partir del tercer elemento. Se hace con el elemento a partir del que quieres empezar a contar (inclusive) y dos puntos (:)"
   ]
  },
  {
   "cell_type": "code",
   "execution_count": 260,
   "metadata": {},
   "outputs": [
    {
     "data": {
      "text/plain": [
       "array([ 6,  8, 10])"
      ]
     },
     "execution_count": 260,
     "metadata": {},
     "output_type": "execute_result"
    }
   ],
   "source": [
    "v1[2:]"
   ]
  },
  {
   "cell_type": "markdown",
   "metadata": {},
   "source": [
    "Si quiero coger desde el principio hasta cierto elemento entremedias del vector, tambien lo puedo hacer. Ejemplo \"coge y me enseñas todos los elementos hasta el antepenúltimo inclusive"
   ]
  },
  {
   "cell_type": "code",
   "execution_count": 261,
   "metadata": {},
   "outputs": [
    {
     "data": {
      "text/plain": [
       "array([2, 4, 6])"
      ]
     },
     "execution_count": 261,
     "metadata": {},
     "output_type": "execute_result"
    }
   ],
   "source": [
    "v1[:-2]"
   ]
  },
  {
   "cell_type": "markdown",
   "metadata": {},
   "source": [
    "O por ejemplo si quiero desde el segundo elemento hasta el antepenúltimo:"
   ]
  },
  {
   "cell_type": "code",
   "execution_count": 262,
   "metadata": {},
   "outputs": [
    {
     "data": {
      "text/plain": [
       "array([4, 6])"
      ]
     },
     "execution_count": 262,
     "metadata": {},
     "output_type": "execute_result"
    }
   ],
   "source": [
    "v1[1:-2]"
   ]
  },
  {
   "cell_type": "markdown",
   "metadata": {},
   "source": [
    "O por ejemplo hasta el tercer elemento"
   ]
  },
  {
   "cell_type": "code",
   "execution_count": 263,
   "metadata": {},
   "outputs": [
    {
     "data": {
      "text/plain": [
       "array([2, 4])"
      ]
     },
     "execution_count": 263,
     "metadata": {},
     "output_type": "execute_result"
    }
   ],
   "source": [
    "v1[:2]"
   ]
  },
  {
   "cell_type": "markdown",
   "metadata": {},
   "source": [
    "O por ejemplo los dos últimos"
   ]
  },
  {
   "cell_type": "code",
   "execution_count": 264,
   "metadata": {},
   "outputs": [
    {
     "data": {
      "text/plain": [
       "array([ 8, 10])"
      ]
     },
     "execution_count": 264,
     "metadata": {},
     "output_type": "execute_result"
    }
   ],
   "source": [
    "v1[-2:]"
   ]
  },
  {
   "cell_type": "markdown",
   "metadata": {},
   "source": [
    "El indexado booleano es la herramienta potente para un montón de aplicaciones. Cuidao porque esto es importante. Es super útil.\n",
    "\n",
    "Ejemplo: \"En $v_1$ enséñame los elementos que son $>3$\""
   ]
  },
  {
   "cell_type": "code",
   "execution_count": 265,
   "metadata": {},
   "outputs": [
    {
     "data": {
      "text/plain": [
       "array([ 4,  6,  8, 10])"
      ]
     },
     "execution_count": 265,
     "metadata": {},
     "output_type": "execute_result"
    }
   ],
   "source": [
    "v1[v1>3]"
   ]
  },
  {
   "cell_type": "markdown",
   "metadata": {},
   "source": [
    "Esto es útil cuando estamos manejando un montón de datos. Por ejemplo, de una lista de nombres vámos a ver cuáles empiezan con la letra J. Pongámosla del tirón y la vamos explicando por partes:"
   ]
  },
  {
   "cell_type": "code",
   "execution_count": 266,
   "metadata": {},
   "outputs": [],
   "source": [
    "nombres= np.array(['Jim','Pam','Michael','Dwight','Creed','Kevin','Óscar','Angela','Kelly','Meredith','Ryan','Jan'])\n",
    "primera_letra_J= np.vectorize(lambda s: s[0])(nombres)=='J'"
   ]
  },
  {
   "cell_type": "markdown",
   "metadata": {},
   "source": [
    "·Lambda es una funcion anonima que coge un array cualquiera 's' y me devuelve el primer elemento"
   ]
  },
  {
   "cell_type": "code",
   "execution_count": 267,
   "metadata": {},
   "outputs": [
    {
     "data": {
      "text/plain": [
       "'g'"
      ]
     },
     "execution_count": 267,
     "metadata": {},
     "output_type": "execute_result"
    }
   ],
   "source": [
    "g = lambda s: s[0]\n",
    "g('gilipollas')"
   ]
  },
  {
   "cell_type": "markdown",
   "metadata": {},
   "source": [
    "·El 'vectorize' lo que hace es crear un loop que coge el array\n",
    "que le pasamos en el otro paréntesis y le aplica la función\n",
    "de su argumento. En este caso \"para cada elemento en el array \"nombres\", aplico la función 'coger la primera letra del elemento s' \"\n",
    "\n",
    "Vamos a ver entonces que hasta ahora, esto que hemos descrito es lo que hace la función. Nos tendrían que salir la primera letra de todos los nombres de la lista"
   ]
  },
  {
   "cell_type": "code",
   "execution_count": 268,
   "metadata": {},
   "outputs": [
    {
     "data": {
      "text/plain": [
       "array(['J', 'P', 'M', 'D', 'C', 'K', 'Ó', 'A', 'K', 'M', 'R', 'J'],\n",
       "      dtype='<U1')"
      ]
     },
     "execution_count": 268,
     "metadata": {},
     "output_type": "execute_result"
    }
   ],
   "source": [
    "np.vectorize(lambda s: s[0])(nombres)"
   ]
  },
  {
   "cell_type": "markdown",
   "metadata": {},
   "source": [
    "Veamos que funciona usando el valor que le hemos dado a la variable:"
   ]
  },
  {
   "cell_type": "code",
   "execution_count": 269,
   "metadata": {},
   "outputs": [
    {
     "data": {
      "text/plain": [
       "array(['J', 'P', 'M', 'D', 'C', 'K', 'Ó', 'A', 'K', 'M', 'R', 'J'],\n",
       "      dtype='<U1')"
      ]
     },
     "execution_count": 269,
     "metadata": {},
     "output_type": "execute_result"
    }
   ],
   "source": [
    "np.vectorize(g)(nombres)"
   ]
  },
  {
   "cell_type": "markdown",
   "metadata": {},
   "source": [
    "Así que lo que tenemos aquí es un array, es otro array de hecho.\n",
    "Con el \" =='J' \" lo que hago es indexarlo booleanamente. Lo que quiero decir con esto es \"dime para cada elemento del array si es verdadero o falso que empieza por la letra J\" . Veamos:"
   ]
  },
  {
   "cell_type": "code",
   "execution_count": 270,
   "metadata": {},
   "outputs": [
    {
     "data": {
      "text/plain": [
       "array([ True, False, False, False, False, False, False, False, False,\n",
       "       False, False,  True])"
      ]
     },
     "execution_count": 270,
     "metadata": {},
     "output_type": "execute_result"
    }
   ],
   "source": [
    "primera_letra_J"
   ]
  },
  {
   "cell_type": "markdown",
   "metadata": {},
   "source": [
    "Efectivamente me ha devuelto un array que me dice qué nombres empiezan por J y cuáles no. Pero ahora quiero filtrarlo. Entonces vamos a hacer como hacíamos cuando queríamos ver qué  elementos de un array tenían un valor >4. Se hace igual, vaya:"
   ]
  },
  {
   "cell_type": "code",
   "execution_count": 271,
   "metadata": {},
   "outputs": [
    {
     "data": {
      "text/plain": [
       "array(['Jim', 'Jan'], dtype='<U8')"
      ]
     },
     "execution_count": 271,
     "metadata": {},
     "output_type": "execute_result"
    }
   ],
   "source": [
    "nombres[primera_letra_J]"
   ]
  },
  {
   "cell_type": "markdown",
   "metadata": {},
   "source": [
    "Esto es una herramienta poderosísima cuando tenemos muchos datos y como se ve, esto numpy te lo hace en un plis y en una línea pero de primeras hacer esto como que no. Esto lo vas cogiendo con maestría y con tiempo."
   ]
  },
  {
   "cell_type": "markdown",
   "metadata": {},
   "source": [
    "Inciso sobre las funciones $\\lambda$ :\n",
    "\n",
    " las funciones Lambda se definen como una línea que ejecuta una sola expresión. Este tipo de funciones pueden tomar cualquier número de argumentos, pero solo pueden tener una expresión."
   ]
  },
  {
   "cell_type": "code",
   "execution_count": 272,
   "metadata": {},
   "outputs": [
    {
     "data": {
      "text/plain": [
       "8"
      ]
     },
     "execution_count": 272,
     "metadata": {},
     "output_type": "execute_result"
    }
   ],
   "source": [
    "#Ejemplo para caracterizar:\n",
    "\n",
    "#Aquí tenemos una función creada para sumar.\n",
    "\n",
    "def suma(q,p):\n",
    "    return(q + p)\n",
    "    \n",
    "#Aquí tenemos una función Lambda que también suma.\n",
    "lambda q,p : q + p\n",
    "\n",
    "#Para poder utilizarla necesitamos guardarla en una variable.\n",
    "suma_dos = lambda q,p : q + p\n",
    "suma_dos(3,5)"
   ]
  },
  {
   "cell_type": "markdown",
   "metadata": {},
   "source": [
    "Sigamos con operaciones basicas de arrays."
   ]
  },
  {
   "cell_type": "code",
   "execution_count": 273,
   "metadata": {},
   "outputs": [
    {
     "data": {
      "text/plain": [
       "array([3, 1, 0, 1])"
      ]
     },
     "execution_count": 273,
     "metadata": {},
     "output_type": "execute_result"
    }
   ],
   "source": [
    "a1%4 #divide a1 entre 4 y dime cuanto vale el resto"
   ]
  },
  {
   "cell_type": "code",
   "execution_count": 274,
   "metadata": {},
   "outputs": [
    {
     "data": {
      "text/plain": [
       "array([False, False,  True, False])"
      ]
     },
     "execution_count": 274,
     "metadata": {},
     "output_type": "execute_result"
    }
   ],
   "source": [
    "a1%4 == 0 #son los elementos de a1 divisibles entre 4?"
   ]
  },
  {
   "cell_type": "code",
   "execution_count": 275,
   "metadata": {},
   "outputs": [
    {
     "data": {
      "text/plain": [
       "array([4])"
      ]
     },
     "execution_count": 275,
     "metadata": {},
     "output_type": "execute_result"
    }
   ],
   "source": [
    "a1[a1%4 == 0] #cuales son divisibles entre 4?\n"
   ]
  },
  {
   "cell_type": "markdown",
   "metadata": {},
   "source": [
    "Donde brilla numpy es en el calculo y la estadistica. Es muy rapido y muy potente."
   ]
  },
  {
   "cell_type": "code",
   "execution_count": 276,
   "metadata": {},
   "outputs": [],
   "source": [
    "v2 = 2*np.random.randn(10000)+10\n",
    "#si la funcion randn nos producia numeros con desviacion estandar uno\n",
    "#  y media cero, multiplicar el array por 2 hace que la desviacion\n",
    "#  estandar sea 2 y sumarle 10 nos traslada la media a 10"
   ]
  },
  {
   "cell_type": "code",
   "execution_count": 277,
   "metadata": {},
   "outputs": [
    {
     "data": {
      "text/plain": [
       "10.030828880959179"
      ]
     },
     "execution_count": 277,
     "metadata": {},
     "output_type": "execute_result"
    }
   ],
   "source": [
    "np.mean(v2) #la media"
   ]
  },
  {
   "cell_type": "code",
   "execution_count": 278,
   "metadata": {},
   "outputs": [
    {
     "data": {
      "text/plain": [
       "2.016104380785659"
      ]
     },
     "execution_count": 278,
     "metadata": {},
     "output_type": "execute_result"
    }
   ],
   "source": [
    "np.std(v2) #desviacion estandard"
   ]
  },
  {
   "cell_type": "markdown",
   "metadata": {},
   "source": [
    "Los percentiles: cuantos numeros son mas grandes que cierto valor?"
   ]
  },
  {
   "cell_type": "code",
   "execution_count": 279,
   "metadata": {},
   "outputs": [
    {
     "data": {
      "text/plain": [
       "11.722206340980248"
      ]
     },
     "execution_count": 279,
     "metadata": {},
     "output_type": "execute_result"
    }
   ],
   "source": [
    "np.percentile(v2, 80) #el número para el cual el 80 por \n",
    "#ciento de los valores del array son menores que ese número"
   ]
  },
  {
   "cell_type": "markdown",
   "metadata": {},
   "source": [
    "> ## Integrales y derivadas"
   ]
  },
  {
   "cell_type": "code",
   "execution_count": 382,
   "metadata": {},
   "outputs": [
    {
     "data": {
      "text/plain": [
       "[<matplotlib.lines.Line2D at 0x11910e670>]"
      ]
     },
     "execution_count": 382,
     "metadata": {},
     "output_type": "execute_result"
    },
    {
     "data": {
      "image/png": "[encoded data removed]",
      "text/plain": [
       "<Figure size 432x288 with 1 Axes>"
      ]
     },
     "metadata": {
      "needs_background": "light"
     },
     "output_type": "display_data"
    }
   ],
   "source": [
    "n = np.linspace(1,10,100)\n",
    "m = 1/n**2 * np.sin(n)\n",
    "\n",
    "plt.plot(n,m, color='grey')"
   ]
  },
  {
   "cell_type": "markdown",
   "metadata": {},
   "source": [
    "Encontrar las derivadas y las integrales a mano es un puto coñazo. Vamos a encontrarlas numericamente y las vamos a dibujar"
   ]
  },
  {
   "cell_type": "code",
   "execution_count": 281,
   "metadata": {},
   "outputs": [
    {
     "data": {
      "text/plain": [
       "[<matplotlib.lines.Line2D at 0x116fc10d0>]"
      ]
     },
     "execution_count": 281,
     "metadata": {},
     "output_type": "execute_result"
    },
    {
     "data": {
      "image/png": "[encoded data removed]",
      "text/plain": [
       "<Figure size 432x288 with 1 Axes>"
      ]
     },
     "metadata": {
      "needs_background": "light"
     },
     "output_type": "display_data"
    }
   ],
   "source": [
    "dmdn= np.gradient(m,n) #derivada\n",
    "plt.plot(n,dmdn, color='green')"
   ]
  },
  {
   "cell_type": "code",
   "execution_count": 282,
   "metadata": {},
   "outputs": [
    {
     "data": {
      "text/plain": [
       "[<matplotlib.lines.Line2D at 0x117026af0>]"
      ]
     },
     "execution_count": 282,
     "metadata": {},
     "output_type": "execute_result"
    },
    {
     "data": {
      "image/png": "[encoded data removed]",
      "text/plain": [
       "<Figure size 432x288 with 1 Axes>"
      ]
     },
     "metadata": {
      "needs_background": "light"
     },
     "output_type": "display_data"
    }
   ],
   "source": [
    "intm = np.cumsum(m)*(n[1]-n[0]) #integral. El término de la diferencia es el diferencial dx\n",
    "#cumsum es la suma cumulativa de los elementos de un array, son los elementos de la serie\n",
    "plt.plot(n,intm, color='red')"
   ]
  },
  {
   "cell_type": "markdown",
   "metadata": {},
   "source": [
    "Realmente la funcion integral en cada punto es la suma cumulativa de cada uno de los puntos de la funcion original multiplicados por la longitud diferencial. Es decir, una suma de rectángulos."
   ]
  },
  {
   "cell_type": "markdown",
   "metadata": {},
   "source": [
    "Vamos a plotearlo todo"
   ]
  },
  {
   "cell_type": "code",
   "execution_count": 283,
   "metadata": {},
   "outputs": [
    {
     "data": {
      "text/plain": [
       "<matplotlib.legend.Legend at 0x116ffc2e0>"
      ]
     },
     "execution_count": 283,
     "metadata": {},
     "output_type": "execute_result"
    },
    {
     "data": {
      "image/png": "[encoded data removed]",
      "text/plain": [
       "<Figure size 432x288 with 1 Axes>"
      ]
     },
     "metadata": {
      "needs_background": "light"
     },
     "output_type": "display_data"
    }
   ],
   "source": [
    "\n",
    "plt.plot(n, m, color='grey')\n",
    "plt.plot(n, dmdn, color='green')\n",
    "plt.plot(n,intm, color='red')\n",
    "plt.legend(('m','dmdn','intm'),loc='best') #esto va con dos parentesis no se por que"
   ]
  },
  {
   "cell_type": "markdown",
   "metadata": {},
   "source": [
    ">## Problemas"
   ]
  },
  {
   "cell_type": "markdown",
   "metadata": {},
   "source": [
    "> ### *Problema 1*\n",
    "\n",
    "Sea $y=e^\\frac{-x}{10}sin(x)$ definida en el intervalo $x \\in [0,10]$.\n",
    "\n",
    "1.- Dibuje la función\n",
    "\n",
    "2.- Calcule la media y la desviación estandar para el intervalo $x \\in [4,7]$\n",
    "\n",
    "3.- Para $x \\in [4,7]$ encuentre el valor $y_m$ tal que el 80% de los valores de $y$ son $<y_m$\n",
    "\n",
    "4.- Compute su derivada\n",
    "\n",
    "5.- Encuentre los puntos donde la derivada se anula"
   ]
  },
  {
   "cell_type": "code",
   "execution_count": 284,
   "metadata": {},
   "outputs": [
    {
     "data": {
      "text/plain": [
       "[<matplotlib.lines.Line2D at 0x117101880>]"
      ]
     },
     "execution_count": 284,
     "metadata": {},
     "output_type": "execute_result"
    },
    {
     "data": {
      "image/png": "[encoded data removed]",
      "text/plain": [
       "<Figure size 432x288 with 1 Axes>"
      ]
     },
     "metadata": {
      "needs_background": "light"
     },
     "output_type": "display_data"
    }
   ],
   "source": [
    "#ejercicio 1\n",
    "N=10000\n",
    "x = np.linspace(0,10, N+1)\n",
    "y = np.exp(-x/10)*np.sin(x)\n",
    "plt.plot(x,y)"
   ]
  },
  {
   "cell_type": "code",
   "execution_count": 285,
   "metadata": {},
   "outputs": [
    {
     "data": {
      "text/plain": [
       "-0.2956023068963138"
      ]
     },
     "execution_count": 285,
     "metadata": {},
     "output_type": "execute_result"
    }
   ],
   "source": [
    "#ejercicio 2\n",
    "(x>=4)*(x<=7)#condición booleana para seleccionar el intervalo\n",
    "restriccion=y[(x>=4)*(x<=7)]#indexado\n",
    "np.mean(y[(x>=4)*(x<=7)])#media"
   ]
  },
  {
   "cell_type": "code",
   "execution_count": 286,
   "metadata": {},
   "outputs": [
    {
     "data": {
      "text/plain": [
       "0.31448753875085117"
      ]
     },
     "execution_count": 286,
     "metadata": {},
     "output_type": "execute_result"
    }
   ],
   "source": [
    "np.std(y[(x>=4)*(x<=7)])#desviación estandar"
   ]
  },
  {
   "cell_type": "code",
   "execution_count": 287,
   "metadata": {},
   "outputs": [
    {
     "data": {
      "text/plain": [
       "0.06145551274590662"
      ]
     },
     "execution_count": 287,
     "metadata": {},
     "output_type": "execute_result"
    }
   ],
   "source": [
    "#ejercicio 3\n",
    "np.percentile(restriccion, 80)"
   ]
  },
  {
   "cell_type": "code",
   "execution_count": 288,
   "metadata": {},
   "outputs": [
    {
     "data": {
      "text/plain": [
       "[<matplotlib.lines.Line2D at 0x11716f220>]"
      ]
     },
     "execution_count": 288,
     "metadata": {},
     "output_type": "execute_result"
    },
    {
     "data": {
      "image/png": "[encoded data removed]",
      "text/plain": [
       "<Figure size 432x288 with 1 Axes>"
      ]
     },
     "metadata": {
      "needs_background": "light"
     },
     "output_type": "display_data"
    }
   ],
   "source": [
    "#ejercicio 4\n",
    "derivada=np.gradient(y,x)\n",
    "plt.plot(x,derivada)"
   ]
  },
  {
   "cell_type": "markdown",
   "metadata": {},
   "source": [
    "Para el último ejercicio vamos a discutir algunas formas de hacerlo y por qué no funcionan, ya que es interesante para entender como opera el ordenador discretamente."
   ]
  },
  {
   "cell_type": "code",
   "execution_count": 289,
   "metadata": {},
   "outputs": [
    {
     "data": {
      "text/plain": [
       "array([], dtype=float64)"
      ]
     },
     "execution_count": 289,
     "metadata": {},
     "output_type": "execute_result"
    }
   ],
   "source": [
    "derivada[derivada==0]"
   ]
  },
  {
   "cell_type": "markdown",
   "metadata": {},
   "source": [
    "Indexarlo así estaría de puta madre pero es que numericamente el linspace sólo nos crea un grupo finito de valores los cuales los evaluamos por la funcion $y$ , entonces lo más normal será que la derivada numéricamente no se anule la gran mayoría de las veces por que no caerá en el 0 numérico exacto (por eso nos devuelve un array vacío). \n",
    "\n",
    "Lo que observaríamos es un puntito arriba del eje x y otro puntito debajo. En teoría la función ha pasado por ahí pero sólo tenemos un número finito de valores que podemos plotear."
   ]
  },
  {
   "cell_type": "code",
   "execution_count": 290,
   "metadata": {},
   "outputs": [
    {
     "data": {
      "text/plain": [
       "array([1.471, 4.612, 4.613, 7.754, 7.755])"
      ]
     },
     "execution_count": 290,
     "metadata": {},
     "output_type": "execute_result"
    }
   ],
   "source": [
    "x[(derivada>-0.0005) * (derivada<0.0005)]"
   ]
  },
  {
   "cell_type": "markdown",
   "metadata": {},
   "source": [
    "Aquí lo que le hemos metido es un intervalo de tolerancia pero esto a ojo hay que calcularlo muy bien porque depende de los puntos que generemos con el linspace.\n",
    "\n",
    " Y aquí no nos va a salir el punto exacto donde la derivada se anula, sino la pareja de puntos que arriba y abajo del eje $x$ y eso si tenemos suerte de que el espaciado del linspace quepa en el intervalo de tolerancia, porque lo mismo nos saltamos un cero y no nos damos ni cuenta. Aquí nos aproximamos pero la interpretación del resultado no es exacta. \n",
    "\n",
    "Podemos intentar hacer la media entre resultados que estén muy cerca. Por ejemplo, arriba tendríamos que los ceros de la derivada están en 1.471, 4.612(5), 7.754(5)"
   ]
  },
  {
   "cell_type": "markdown",
   "metadata": {},
   "source": [
    "________________________\n",
    "Probemos ahora a multiplicar elementos consecutivos del array de $\\frac{dy}{dx}$\n",
    "\n",
    "Si truncamos el array derivada del primer elemento no inclusive palante y lo multiplicamos por el array derivada truncado hasta el penúltimo elemento, estamos multiplicando elementos consecutivos (dibuja una serie de puntos consecutivos y quítate el primero y coge los demas, ese es tu primer array. Despues dibuja abajo otra vez la misma serie de puntos y quítate el último y ese es tu otro array. Une con una línea diagonal el primer punto de tu array de arriba con el de abajo y vas a ver cómo se están multiplicando aquí los arrays). Si los elementos son de distinto signo (un punto arriba del eje y otro abajo, es decir, habiendo cruzado el cero), la multiplicación sale negativa. Sólo tendremos que hacer un indexado booleano y filtrarlo."
   ]
  },
  {
   "cell_type": "code",
   "execution_count": 291,
   "metadata": {},
   "outputs": [
    {
     "data": {
      "text/plain": [
       "array([False, False, False, ..., False, False, False])"
      ]
     },
     "execution_count": 291,
     "metadata": {},
     "output_type": "execute_result"
    }
   ],
   "source": [
    "derivada[1:]*derivada[:-1]<0 #el producto del valor i y su consecutivo\n",
    "#es negativo?\n",
    "\n",
    "\n",
    "#este es el método que mejor nos va a funcionar. Atenshon:\n",
    "# x[derivada[1:]*derivada[:-1]<0] así no me va a dejar indexarlo\n",
    "#ni de coña porque al array derivada que era del mismo tamaño\n",
    "#que el array x,le hemos cortado los extremos y el array booleano\n",
    "# mide un elemento menos de x. Veámoslo"
   ]
  },
  {
   "cell_type": "code",
   "execution_count": 292,
   "metadata": {},
   "outputs": [
    {
     "data": {
      "text/plain": [
       "10001"
      ]
     },
     "execution_count": 292,
     "metadata": {},
     "output_type": "execute_result"
    }
   ],
   "source": [
    "np.size(x)"
   ]
  },
  {
   "cell_type": "code",
   "execution_count": 293,
   "metadata": {},
   "outputs": [
    {
     "data": {
      "text/plain": [
       "10000"
      ]
     },
     "execution_count": 293,
     "metadata": {},
     "output_type": "execute_result"
    }
   ],
   "source": [
    "np.size(derivada[1:]*derivada[:-1]<0)"
   ]
  },
  {
   "cell_type": "code",
   "execution_count": 294,
   "metadata": {},
   "outputs": [
    {
     "data": {
      "text/plain": [
       "array([1.472, 4.613, 7.755])"
      ]
     },
     "execution_count": 294,
     "metadata": {},
     "output_type": "execute_result"
    }
   ],
   "source": [
    "#entonces hagamos lo siguiente\n",
    "x[1:][derivada[1:]*derivada[:-1]<0] #dime cuales de los valores de las \n",
    "#x se corresponden con el producto negativo de elementos consecutivos"
   ]
  },
  {
   "cell_type": "markdown",
   "metadata": {},
   "source": [
    "Vamos a calcular la integral por pura curiosidad y vamos a ver donde se anula, que lo mismo nos llevamos una sorpresita."
   ]
  },
  {
   "cell_type": "code",
   "execution_count": 295,
   "metadata": {},
   "outputs": [
    {
     "data": {
      "text/plain": [
       "[<matplotlib.lines.Line2D at 0x1171db220>]"
      ]
     },
     "execution_count": 295,
     "metadata": {},
     "output_type": "execute_result"
    },
    {
     "data": {
      "image/png": "[encoded data removed]",
      "text/plain": [
       "<Figure size 432x288 with 1 Axes>"
      ]
     },
     "metadata": {
      "needs_background": "light"
     },
     "output_type": "display_data"
    }
   ],
   "source": [
    "integral= np.cumsum(y)*(x[1]-x[0])\n",
    "plt.plot(integral)"
   ]
  },
  {
   "cell_type": "code",
   "execution_count": 296,
   "metadata": {},
   "outputs": [
    {
     "data": {
      "text/plain": [
       "array([], dtype=float64)"
      ]
     },
     "execution_count": 296,
     "metadata": {},
     "output_type": "execute_result"
    }
   ],
   "source": [
    "x[1:][integral[1:]*integral[:-1]<0]"
   ]
  },
  {
   "cell_type": "markdown",
   "metadata": {},
   "source": [
    "VAYA. Parece que la integral se anula en el 0 pero como nosotros en el indexado hemos truncado la x en el primer elemento, nos estamos comiendo el valor $Y(x=0)=0$ y por eso python me devuelve el array indexado como vacío\n",
    "\n",
    "Moraleja: CHEQUEAR SI LA FUNCIÓN SE ANULA EN LOS EXTREMOS DEL INTERVALO\n",
    "\n",
    "Esto es lo mismo que el método de bipartición para encontrar los ceros por Bolzano pero en vez de bipartir los intervalos, chequeamos par a par de puntos si se da la condición del signo. Pero el problema de mirar si los extremos de los intervalos se anulan lo seguimos teniendo. Mucho ojito. El ordenador no se equivoca haciendo cuentas pero nosotros tenemos que tener siempre el ojo puesto en lo que hacemos.\n",
    "\n",
    "\n",
    "Creo que esto último tiene solución si le metemos la condición de menor o igual: (no echar muchas cuentas de esto)"
   ]
  },
  {
   "cell_type": "code",
   "execution_count": 297,
   "metadata": {},
   "outputs": [
    {
     "data": {
      "text/plain": [
       "array([0.001])"
      ]
     },
     "execution_count": 297,
     "metadata": {},
     "output_type": "execute_result"
    }
   ],
   "source": [
    "x[1:][integral[1:]*integral[:-1]<=0]"
   ]
  },
  {
   "cell_type": "code",
   "execution_count": 298,
   "metadata": {},
   "outputs": [
    {
     "data": {
      "text/plain": [
       "array([0.00000000e+00, 9.99899838e-07])"
      ]
     },
     "execution_count": 298,
     "metadata": {},
     "output_type": "execute_result"
    }
   ],
   "source": [
    "integral[:2]\n",
    "#esta tratando el segundo valor del array integral como cero porqu es pequeñisimo. Tendríamos el cero exacto y el cero por truncado"
   ]
  },
  {
   "cell_type": "markdown",
   "metadata": {},
   "source": [
    "______\n",
    "\n",
    "> ### *Problema 2*\n",
    "\n",
    "Sume todos los números desde 0 hasta 10000 excepto aquellos divisibles entre 4 o 7. Hágalo en una sóla línea de código"
   ]
  },
  {
   "cell_type": "code",
   "execution_count": 299,
   "metadata": {},
   "outputs": [
    {
     "data": {
      "text/plain": [
       "32147142"
      ]
     },
     "execution_count": 299,
     "metadata": {},
     "output_type": "execute_result"
    }
   ],
   "source": [
    "pic = np.arange(0, 10001,1) #usamos esta línea por limpieza\n",
    "np.cumsum(pic[(pic%4 != 0) * (pic%7 != 0)])[-1] #los elementos de pic\n",
    "# para los cuales el resto de dividirlo por 4 NO es cero O el resto\n",
    "# de dividirlo por 7 NO es cero. Hazme la suma cumulativa de todos \n",
    "# esos elementos y coge el ultimo elemento\n",
    "\n",
    "#o bien...\n",
    "sum(pic[(pic%4 != 0) * (pic%7 != 0)])"
   ]
  },
  {
   "cell_type": "markdown",
   "metadata": {},
   "source": [
    "> ### *Problema 3*\n",
    "\n",
    "Considere el pétalo de flores $r(\\theta)=1+\\frac{3}{4}sin(3\\theta)$ para $0\\le\\theta\\le2\\pi$\n",
    "\n",
    "1- Dibuje el pétalo\n",
    "\n",
    "2- Compute el área usando $ Area = \\int_{0}^{2\\pi} \\frac{1}{2}r^2d\\theta$\n",
    "\n",
    "3- Calcule la longitud de arco usando $ L = \\int_{0}^{2\\pi} \\sqrt{(\\frac{dr}{d\\theta})^2 + r^2} d\\theta$"
   ]
  },
  {
   "cell_type": "code",
   "execution_count": 300,
   "metadata": {},
   "outputs": [
    {
     "data": {
      "text/plain": [
       "[<matplotlib.lines.Line2D at 0x117239f10>]"
      ]
     },
     "execution_count": 300,
     "metadata": {},
     "output_type": "execute_result"
    },
    {
     "data": {
      "image/png": "[encoded data removed]",
      "text/plain": [
       "<Figure size 432x288 with 1 Axes>"
      ]
     },
     "metadata": {
      "needs_background": "light"
     },
     "output_type": "display_data"
    }
   ],
   "source": [
    "#ejercicio 1\n",
    "theta= np.linspace(0,2*np.pi,1000)\n",
    "r_theta=1+0.75*np.sin(3*theta)\n",
    "plt.plot(theta,r_theta)\n",
    "\n",
    "#facil no?"
   ]
  },
  {
   "cell_type": "markdown",
   "metadata": {},
   "source": [
    "VAYA. \n",
    "\n",
    "Resulta que tú te imaginas que porque tu variable se llame $\\theta$ ya se hace todo en coordenadas polares. Y es que python te dibuja las cosas en cartesianas por defecto. Así que le da igual que lo llames $x$ o $\\theta$. Tienes que aplicar una transformación a las variables. Si te acuerdas como eran las transformaciones entre polares y cartesianas, que iban con seno y coseno, es hora de usarlas."
   ]
  },
  {
   "cell_type": "code",
   "execution_count": 301,
   "metadata": {},
   "outputs": [
    {
     "data": {
      "text/plain": [
       "[<matplotlib.lines.Line2D at 0x1172a4250>]"
      ]
     },
     "execution_count": 301,
     "metadata": {},
     "output_type": "execute_result"
    },
    {
     "data": {
      "image/png": "[encoded data removed]",
      "text/plain": [
       "<Figure size 432x288 with 1 Axes>"
      ]
     },
     "metadata": {
      "needs_background": "light"
     },
     "output_type": "display_data"
    }
   ],
   "source": [
    "#Vamos a transformar DE POLARES A CARTESIANAS\n",
    "x = r_theta* np.cos(theta)\n",
    "y = r_theta* np.sin(theta)\n",
    "\n",
    "plt.plot(x,y)"
   ]
  },
  {
   "cell_type": "code",
   "execution_count": 302,
   "metadata": {},
   "outputs": [
    {
     "data": {
      "text/plain": [
       "array([3.14473739e-03, 6.37910355e-03, 9.70432528e-03, 1.31215950e-02,\n",
       "       1.66320690e-02, 2.02368658e-02, 2.39370642e-02, 2.77337017e-02,\n",
       "       3.16277728e-02, 3.56202275e-02, 3.97119693e-02, 4.39038541e-02,\n",
       "       4.81966882e-02, 5.25912271e-02, 5.70881738e-02, 6.16881775e-02,\n",
       "       6.63918322e-02, 7.11996754e-02, 7.61121864e-02, 8.11297858e-02,\n",
       "       8.62528336e-02, 9.14816283e-02, 9.68164061e-02, 1.02257339e-01,\n",
       "       1.07804536e-01, 1.13458039e-01, 1.19217824e-01, 1.25083800e-01,\n",
       "       1.31055809e-01, 1.37133623e-01, 1.43316946e-01, 1.49605413e-01,\n",
       "       1.55998588e-01, 1.62495964e-01, 1.69096966e-01, 1.75800945e-01,\n",
       "       1.82607183e-01, 1.89514891e-01, 1.96523207e-01, 2.03631200e-01,\n",
       "       2.10837868e-01, 2.18142136e-01, 2.25542862e-01, 2.33038831e-01,\n",
       "       2.40628760e-01, 2.48311297e-01, 2.56085023e-01, 2.63948447e-01,\n",
       "       2.71900015e-01, 2.79938106e-01, 2.88061033e-01, 2.96267045e-01,\n",
       "       3.04554328e-01, 3.12921005e-01, 3.21365139e-01, 3.29884733e-01,\n",
       "       3.38477732e-01, 3.47142024e-01, 3.55875440e-01, 3.64675758e-01,\n",
       "       3.73540705e-01, 3.82467955e-01, 3.91455134e-01, 4.00499819e-01,\n",
       "       4.09599543e-01, 4.18751796e-01, 4.27954023e-01, 4.37203633e-01,\n",
       "       4.46497993e-01, 4.55834438e-01, 4.65210267e-01, 4.74622747e-01,\n",
       "       4.84069116e-01, 4.93546585e-01, 5.03052341e-01, 5.12583545e-01,\n",
       "       5.22137340e-01, 5.31710850e-01, 5.41301182e-01, 5.50905431e-01,\n",
       "       5.60520679e-01, 5.70144001e-01, 5.79772463e-01, 5.89403130e-01,\n",
       "       5.99033061e-01, 6.08659320e-01, 6.18278972e-01, 6.27889086e-01,\n",
       "       6.37486740e-01, 6.47069023e-01, 6.56633036e-01, 6.66175894e-01,\n",
       "       6.75694730e-01, 6.85186696e-01, 6.94648966e-01, 7.04078737e-01,\n",
       "       7.13473235e-01, 7.22829711e-01, 7.32145449e-01, 7.41417766e-01,\n",
       "       7.50644011e-01, 7.59821572e-01, 7.68947877e-01, 7.78020393e-01,\n",
       "       7.87036631e-01, 7.95994145e-01, 8.04890537e-01, 8.13723457e-01,\n",
       "       8.22490606e-01, 8.31189734e-01, 8.39818647e-01, 8.48375204e-01,\n",
       "       8.56857322e-01, 8.65262973e-01, 8.73590191e-01, 8.81837069e-01,\n",
       "       8.90001761e-01, 8.98082485e-01, 9.06077521e-01, 9.13985216e-01,\n",
       "       9.21803981e-01, 9.29532295e-01, 9.37168701e-01, 9.44711815e-01,\n",
       "       9.52160319e-01, 9.59512963e-01, 9.66768569e-01, 9.73926029e-01,\n",
       "       9.80984305e-01, 9.87942429e-01, 9.94799505e-01, 1.00155471e+00,\n",
       "       1.00820728e+00, 1.01475655e+00, 1.02120189e+00, 1.02754277e+00,\n",
       "       1.03377872e+00, 1.03990933e+00, 1.04593427e+00, 1.05185329e+00,\n",
       "       1.05766618e+00, 1.06337284e+00, 1.06897318e+00, 1.07446724e+00,\n",
       "       1.07985508e+00, 1.08513684e+00, 1.09031273e+00, 1.09538301e+00,\n",
       "       1.10034801e+00, 1.10520814e+00, 1.10996382e+00, 1.11461558e+00,\n",
       "       1.11916398e+00, 1.12360964e+00, 1.12795323e+00, 1.13219549e+00,\n",
       "       1.13633720e+00, 1.14037919e+00, 1.14432234e+00, 1.14816757e+00,\n",
       "       1.15191586e+00, 1.15556823e+00, 1.15912572e+00, 1.16258945e+00,\n",
       "       1.16596055e+00, 1.16924020e+00, 1.17242959e+00, 1.17552998e+00,\n",
       "       1.17854265e+00, 1.18146889e+00, 1.18431004e+00, 1.18706746e+00,\n",
       "       1.18974254e+00, 1.19233667e+00, 1.19485129e+00, 1.19728784e+00,\n",
       "       1.19964779e+00, 1.20193261e+00, 1.20414380e+00, 1.20628286e+00,\n",
       "       1.20835130e+00, 1.21035065e+00, 1.21228244e+00, 1.21414820e+00,\n",
       "       1.21594947e+00, 1.21768778e+00, 1.21936469e+00, 1.22098171e+00,\n",
       "       1.22254040e+00, 1.22404227e+00, 1.22548886e+00, 1.22688167e+00,\n",
       "       1.22822223e+00, 1.22951201e+00, 1.23075251e+00, 1.23194521e+00,\n",
       "       1.23309155e+00, 1.23419299e+00, 1.23525095e+00, 1.23626684e+00,\n",
       "       1.23724205e+00, 1.23817795e+00, 1.23907591e+00, 1.23993724e+00,\n",
       "       1.24076326e+00, 1.24155525e+00, 1.24231448e+00, 1.24304219e+00,\n",
       "       1.24373959e+00, 1.24440788e+00, 1.24504821e+00, 1.24566173e+00,\n",
       "       1.24624956e+00, 1.24681277e+00, 1.24735244e+00, 1.24786959e+00,\n",
       "       1.24836523e+00, 1.24884035e+00, 1.24929590e+00, 1.24973281e+00,\n",
       "       1.25015197e+00, 1.25055428e+00, 1.25094057e+00, 1.25131167e+00,\n",
       "       1.25166838e+00, 1.25201148e+00, 1.25234171e+00, 1.25265980e+00,\n",
       "       1.25296647e+00, 1.25326238e+00, 1.25354820e+00, 1.25382456e+00,\n",
       "       1.25409209e+00, 1.25435138e+00, 1.25460302e+00, 1.25484756e+00,\n",
       "       1.25508555e+00, 1.25531753e+00, 1.25554400e+00, 1.25576546e+00,\n",
       "       1.25598241e+00, 1.25619532e+00, 1.25640465e+00, 1.25661087e+00,\n",
       "       1.25681441e+00, 1.25701572e+00, 1.25721523e+00, 1.25741336e+00,\n",
       "       1.25761055e+00, 1.25780722e+00, 1.25800377e+00, 1.25820065e+00,\n",
       "       1.25839826e+00, 1.25859703e+00, 1.25879738e+00, 1.25899975e+00,\n",
       "       1.25920457e+00, 1.25941229e+00, 1.25962335e+00, 1.25983822e+00,\n",
       "       1.26005737e+00, 1.26028128e+00, 1.26051044e+00, 1.26074535e+00,\n",
       "       1.26098656e+00, 1.26123458e+00, 1.26148997e+00, 1.26175331e+00,\n",
       "       1.26202518e+00, 1.26230619e+00, 1.26259697e+00, 1.26289818e+00,\n",
       "       1.26321047e+00, 1.26353454e+00, 1.26387111e+00, 1.26422092e+00,\n",
       "       1.26458473e+00, 1.26496332e+00, 1.26535752e+00, 1.26576814e+00,\n",
       "       1.26619607e+00, 1.26664218e+00, 1.26710740e+00, 1.26759266e+00,\n",
       "       1.26809893e+00, 1.26862721e+00, 1.26917852e+00, 1.26975391e+00,\n",
       "       1.27035444e+00, 1.27098123e+00, 1.27163540e+00, 1.27231809e+00,\n",
       "       1.27303050e+00, 1.27377381e+00, 1.27454927e+00, 1.27535811e+00,\n",
       "       1.27620163e+00, 1.27708110e+00, 1.27799787e+00, 1.27895326e+00,\n",
       "       1.27994863e+00, 1.28098538e+00, 1.28206490e+00, 1.28318862e+00,\n",
       "       1.28435795e+00, 1.28557437e+00, 1.28683933e+00, 1.28815431e+00,\n",
       "       1.28952080e+00, 1.29094032e+00, 1.29241436e+00, 1.29394444e+00,\n",
       "       1.29553211e+00, 1.29717888e+00, 1.29888630e+00, 1.30065590e+00,\n",
       "       1.30248922e+00, 1.30438780e+00, 1.30635318e+00, 1.30838689e+00,\n",
       "       1.31049045e+00, 1.31266538e+00, 1.31491320e+00, 1.31723540e+00,\n",
       "       1.31963346e+00, 1.32210887e+00, 1.32466306e+00, 1.32729749e+00,\n",
       "       1.33001356e+00, 1.33281268e+00, 1.33569621e+00, 1.33866549e+00,\n",
       "       1.34172186e+00, 1.34486660e+00, 1.34810097e+00, 1.35142619e+00,\n",
       "       1.35484346e+00, 1.35835393e+00, 1.36195873e+00, 1.36565893e+00,\n",
       "       1.36945556e+00, 1.37334964e+00, 1.37734209e+00, 1.38143383e+00,\n",
       "       1.38562572e+00, 1.38991855e+00, 1.39431309e+00, 1.39881004e+00,\n",
       "       1.40341004e+00, 1.40811369e+00, 1.41292154e+00, 1.41783405e+00,\n",
       "       1.42285165e+00, 1.42797470e+00, 1.43320349e+00, 1.43853827e+00,\n",
       "       1.44397920e+00, 1.44952640e+00, 1.45517990e+00, 1.46093969e+00,\n",
       "       1.46680566e+00, 1.47277767e+00, 1.47885549e+00, 1.48503881e+00,\n",
       "       1.49132728e+00, 1.49772045e+00, 1.50421783e+00, 1.51081883e+00,\n",
       "       1.51752281e+00, 1.52432905e+00, 1.53123675e+00, 1.53824507e+00,\n",
       "       1.54535306e+00, 1.55255973e+00, 1.55986400e+00, 1.56726472e+00,\n",
       "       1.57476069e+00, 1.58235062e+00, 1.59003316e+00, 1.59780689e+00,\n",
       "       1.60567031e+00, 1.61362188e+00, 1.62165997e+00, 1.62978290e+00,\n",
       "       1.63798891e+00, 1.64627619e+00, 1.65464287e+00, 1.66308700e+00,\n",
       "       1.67160660e+00, 1.68019959e+00, 1.68886389e+00, 1.69759730e+00,\n",
       "       1.70639762e+00, 1.71526257e+00, 1.72418982e+00, 1.73317700e+00,\n",
       "       1.74222168e+00, 1.75132141e+00, 1.76047366e+00, 1.76967589e+00,\n",
       "       1.77892550e+00, 1.78821986e+00, 1.79755630e+00, 1.80693213e+00,\n",
       "       1.81634461e+00, 1.82579098e+00, 1.83526845e+00, 1.84477420e+00,\n",
       "       1.85430541e+00, 1.86385920e+00, 1.87343271e+00, 1.88302304e+00,\n",
       "       1.89262729e+00, 1.90224254e+00, 1.91186586e+00, 1.92149433e+00,\n",
       "       1.93112499e+00, 1.94075492e+00, 1.95038118e+00, 1.96000083e+00,\n",
       "       1.96961095e+00, 1.97920860e+00, 1.98879089e+00, 1.99835490e+00,\n",
       "       2.00789776e+00, 2.01741659e+00, 2.02690856e+00, 2.03637083e+00,\n",
       "       2.04580060e+00, 2.05519510e+00, 2.06455157e+00, 2.07386731e+00,\n",
       "       2.08313963e+00, 2.09236587e+00, 2.10154343e+00, 2.11066974e+00,\n",
       "       2.11974226e+00, 2.12875849e+00, 2.13771601e+00, 2.14661240e+00,\n",
       "       2.15544532e+00, 2.16421247e+00, 2.17291160e+00, 2.18154051e+00,\n",
       "       2.19009707e+00, 2.19857918e+00, 2.20698484e+00, 2.21531205e+00,\n",
       "       2.22355893e+00, 2.23172362e+00, 2.23980435e+00, 2.24779938e+00,\n",
       "       2.25570708e+00, 2.26352584e+00, 2.27125416e+00, 2.27889056e+00,\n",
       "       2.28643368e+00, 2.29388218e+00, 2.30123483e+00, 2.30849043e+00,\n",
       "       2.31564789e+00, 2.32270617e+00, 2.32966429e+00, 2.33652137e+00,\n",
       "       2.34327657e+00, 2.34992915e+00, 2.35647841e+00, 2.36292376e+00,\n",
       "       2.36926463e+00, 2.37550058e+00, 2.38163119e+00, 2.38765613e+00,\n",
       "       2.39357515e+00, 2.39938805e+00, 2.40509470e+00, 2.41069505e+00,\n",
       "       2.41618910e+00, 2.42157694e+00, 2.42685870e+00, 2.43203459e+00,\n",
       "       2.43710487e+00, 2.44206988e+00, 2.44693000e+00, 2.45168568e+00,\n",
       "       2.45633744e+00, 2.46088584e+00, 2.46533150e+00, 2.46967509e+00,\n",
       "       2.47391735e+00, 2.47805906e+00, 2.48210105e+00, 2.48604420e+00,\n",
       "       2.48988943e+00, 2.49363772e+00, 2.49729009e+00, 2.50084759e+00,\n",
       "       2.50431132e+00, 2.50768241e+00, 2.51096206e+00, 2.51415145e+00,\n",
       "       2.51725185e+00, 2.52026451e+00, 2.52319075e+00, 2.52603191e+00,\n",
       "       2.52878933e+00, 2.53146440e+00, 2.53405853e+00, 2.53657315e+00,\n",
       "       2.53900970e+00, 2.54136965e+00, 2.54365447e+00, 2.54586566e+00,\n",
       "       2.54800472e+00, 2.55007316e+00, 2.55207251e+00, 2.55400430e+00,\n",
       "       2.55587006e+00, 2.55767133e+00, 2.55940965e+00, 2.56108655e+00,\n",
       "       2.56270357e+00, 2.56426226e+00, 2.56576413e+00, 2.56721072e+00,\n",
       "       2.56860354e+00, 2.56994409e+00, 2.57123387e+00, 2.57247437e+00,\n",
       "       2.57366707e+00, 2.57481341e+00, 2.57591485e+00, 2.57697281e+00,\n",
       "       2.57798870e+00, 2.57896391e+00, 2.57989982e+00, 2.58079777e+00,\n",
       "       2.58165910e+00, 2.58248512e+00, 2.58327711e+00, 2.58403635e+00,\n",
       "       2.58476405e+00, 2.58546146e+00, 2.58612974e+00, 2.58677007e+00,\n",
       "       2.58738360e+00, 2.58797142e+00, 2.58853463e+00, 2.58907430e+00,\n",
       "       2.58959145e+00, 2.59008709e+00, 2.59056221e+00, 2.59101776e+00,\n",
       "       2.59145467e+00, 2.59187384e+00, 2.59227614e+00, 2.59266243e+00,\n",
       "       2.59303353e+00, 2.59339024e+00, 2.59373334e+00, 2.59406357e+00,\n",
       "       2.59438167e+00, 2.59468833e+00, 2.59498424e+00, 2.59527006e+00,\n",
       "       2.59554642e+00, 2.59581395e+00, 2.59607324e+00, 2.59632488e+00,\n",
       "       2.59656942e+00, 2.59680742e+00, 2.59703939e+00, 2.59726586e+00,\n",
       "       2.59748733e+00, 2.59770427e+00, 2.59791718e+00, 2.59812652e+00,\n",
       "       2.59833273e+00, 2.59853627e+00, 2.59873758e+00, 2.59893709e+00,\n",
       "       2.59913522e+00, 2.59933241e+00, 2.59952908e+00, 2.59972564e+00,\n",
       "       2.59992251e+00, 2.60012012e+00, 2.60031889e+00, 2.60051924e+00,\n",
       "       2.60072161e+00, 2.60092644e+00, 2.60113415e+00, 2.60134522e+00,\n",
       "       2.60156009e+00, 2.60177923e+00, 2.60200314e+00, 2.60223230e+00,\n",
       "       2.60246722e+00, 2.60270842e+00, 2.60295644e+00, 2.60321183e+00,\n",
       "       2.60347517e+00, 2.60374704e+00, 2.60402805e+00, 2.60431884e+00,\n",
       "       2.60462004e+00, 2.60493233e+00, 2.60525640e+00, 2.60559298e+00,\n",
       "       2.60594279e+00, 2.60630659e+00, 2.60668519e+00, 2.60707938e+00,\n",
       "       2.60749001e+00, 2.60791793e+00, 2.60836405e+00, 2.60882926e+00,\n",
       "       2.60931452e+00, 2.60982080e+00, 2.61034908e+00, 2.61090039e+00,\n",
       "       2.61147577e+00, 2.61207631e+00, 2.61270309e+00, 2.61335726e+00,\n",
       "       2.61403995e+00, 2.61475236e+00, 2.61549567e+00, 2.61627113e+00,\n",
       "       2.61707998e+00, 2.61792349e+00, 2.61880297e+00, 2.61971973e+00,\n",
       "       2.62067512e+00, 2.62167050e+00, 2.62270725e+00, 2.62378677e+00,\n",
       "       2.62491048e+00, 2.62607982e+00, 2.62729623e+00, 2.62856119e+00,\n",
       "       2.62987617e+00, 2.63124267e+00, 2.63266218e+00, 2.63413622e+00,\n",
       "       2.63566631e+00, 2.63725397e+00, 2.63890074e+00, 2.64060816e+00,\n",
       "       2.64237776e+00, 2.64421108e+00, 2.64610966e+00, 2.64807504e+00,\n",
       "       2.65010875e+00, 2.65221231e+00, 2.65438725e+00, 2.65663506e+00,\n",
       "       2.65895726e+00, 2.66135533e+00, 2.66383073e+00, 2.66638493e+00,\n",
       "       2.66901935e+00, 2.67173542e+00, 2.67453454e+00, 2.67741807e+00,\n",
       "       2.68038736e+00, 2.68344372e+00, 2.68658846e+00, 2.68982283e+00,\n",
       "       2.69314805e+00, 2.69656532e+00, 2.70007579e+00, 2.70368059e+00,\n",
       "       2.70738079e+00, 2.71117743e+00, 2.71507150e+00, 2.71906395e+00,\n",
       "       2.72315569e+00, 2.72734758e+00, 2.73164041e+00, 2.73603495e+00,\n",
       "       2.74053190e+00, 2.74513190e+00, 2.74983556e+00, 2.75464340e+00,\n",
       "       2.75955591e+00, 2.76457351e+00, 2.76969656e+00, 2.77492535e+00,\n",
       "       2.78026013e+00, 2.78570106e+00, 2.79124826e+00, 2.79690176e+00,\n",
       "       2.80266155e+00, 2.80852752e+00, 2.81449953e+00, 2.82057735e+00,\n",
       "       2.82676067e+00, 2.83304914e+00, 2.83944231e+00, 2.84593969e+00,\n",
       "       2.85254069e+00, 2.85924467e+00, 2.86605091e+00, 2.87295862e+00,\n",
       "       2.87996693e+00, 2.88707493e+00, 2.89428159e+00, 2.90158586e+00,\n",
       "       2.90898659e+00, 2.91648256e+00, 2.92407248e+00, 2.93175502e+00,\n",
       "       2.93952875e+00, 2.94739217e+00, 2.95534374e+00, 2.96338183e+00,\n",
       "       2.97150476e+00, 2.97971077e+00, 2.98799805e+00, 2.99636473e+00,\n",
       "       3.00480886e+00, 3.01332846e+00, 3.02192146e+00, 3.03058575e+00,\n",
       "       3.03931916e+00, 3.04811948e+00, 3.05698443e+00, 3.06591168e+00,\n",
       "       3.07489886e+00, 3.08394354e+00, 3.09304327e+00, 3.10219552e+00,\n",
       "       3.11139775e+00, 3.12064736e+00, 3.12994172e+00, 3.13927816e+00,\n",
       "       3.14865399e+00, 3.15806647e+00, 3.16751284e+00, 3.17699031e+00,\n",
       "       3.18649607e+00, 3.19602727e+00, 3.20558107e+00, 3.21515457e+00,\n",
       "       3.22474491e+00, 3.23434916e+00, 3.24396440e+00, 3.25358773e+00,\n",
       "       3.26321619e+00, 3.27284685e+00, 3.28247679e+00, 3.29210305e+00,\n",
       "       3.30172270e+00, 3.31133281e+00, 3.32093046e+00, 3.33051275e+00,\n",
       "       3.34007676e+00, 3.34961962e+00, 3.35913846e+00, 3.36863042e+00,\n",
       "       3.37809269e+00, 3.38752246e+00, 3.39691696e+00, 3.40627344e+00,\n",
       "       3.41558917e+00, 3.42486149e+00, 3.43408774e+00, 3.44326530e+00,\n",
       "       3.45239160e+00, 3.46146412e+00, 3.47048036e+00, 3.47943787e+00,\n",
       "       3.48833426e+00, 3.49716718e+00, 3.50593433e+00, 3.51463346e+00,\n",
       "       3.52326237e+00, 3.53181893e+00, 3.54030105e+00, 3.54870670e+00,\n",
       "       3.55703392e+00, 3.56528079e+00, 3.57344549e+00, 3.58152621e+00,\n",
       "       3.58952125e+00, 3.59742894e+00, 3.60524771e+00, 3.61297602e+00,\n",
       "       3.62061243e+00, 3.62815554e+00, 3.63560404e+00, 3.64295669e+00,\n",
       "       3.65021229e+00, 3.65736975e+00, 3.66442803e+00, 3.67138615e+00,\n",
       "       3.67824323e+00, 3.68499843e+00, 3.69165101e+00, 3.69820027e+00,\n",
       "       3.70464562e+00, 3.71098650e+00, 3.71722244e+00, 3.72335305e+00,\n",
       "       3.72937800e+00, 3.73529701e+00, 3.74110991e+00, 3.74681656e+00,\n",
       "       3.75241691e+00, 3.75791096e+00, 3.76329880e+00, 3.76858056e+00,\n",
       "       3.77375645e+00, 3.77882673e+00, 3.78379174e+00, 3.78865186e+00,\n",
       "       3.79340755e+00, 3.79805930e+00, 3.80260770e+00, 3.80705336e+00,\n",
       "       3.81139696e+00, 3.81563922e+00, 3.81978093e+00, 3.82382291e+00,\n",
       "       3.82776606e+00, 3.83161129e+00, 3.83535959e+00, 3.83901195e+00,\n",
       "       3.84256945e+00, 3.84603318e+00, 3.84940428e+00, 3.85268392e+00,\n",
       "       3.85587332e+00, 3.85897371e+00, 3.86198637e+00, 3.86491262e+00,\n",
       "       3.86775377e+00, 3.87051119e+00, 3.87318626e+00, 3.87578040e+00,\n",
       "       3.87829502e+00, 3.88073157e+00, 3.88309151e+00, 3.88537633e+00,\n",
       "       3.88758752e+00, 3.88972658e+00, 3.89179502e+00, 3.89379438e+00,\n",
       "       3.89572616e+00, 3.89759192e+00, 3.89939319e+00, 3.90113151e+00,\n",
       "       3.90280841e+00, 3.90442544e+00, 3.90598412e+00, 3.90748600e+00,\n",
       "       3.90893258e+00, 3.91032540e+00, 3.91166595e+00, 3.91295573e+00,\n",
       "       3.91419624e+00, 3.91538893e+00, 3.91653528e+00, 3.91763671e+00,\n",
       "       3.91869467e+00, 3.91971056e+00, 3.92068577e+00, 3.92162168e+00,\n",
       "       3.92251963e+00, 3.92338097e+00, 3.92420698e+00, 3.92499898e+00,\n",
       "       3.92575821e+00, 3.92648592e+00, 3.92718332e+00, 3.92785160e+00,\n",
       "       3.92849194e+00, 3.92910546e+00, 3.92969328e+00, 3.93025650e+00,\n",
       "       3.93079616e+00, 3.93131331e+00, 3.93180896e+00, 3.93228408e+00,\n",
       "       3.93273963e+00, 3.93317653e+00, 3.93359570e+00, 3.93399800e+00,\n",
       "       3.93438429e+00, 3.93475539e+00, 3.93511210e+00, 3.93545520e+00,\n",
       "       3.93578543e+00, 3.93610353e+00, 3.93641019e+00, 3.93670610e+00,\n",
       "       3.93699192e+00, 3.93726828e+00, 3.93753581e+00, 3.93779511e+00,\n",
       "       3.93804674e+00, 3.93829129e+00, 3.93852928e+00, 3.93876125e+00,\n",
       "       3.93898772e+00, 3.93920919e+00, 3.93942614e+00, 3.93963905e+00,\n",
       "       3.93984838e+00, 3.94005459e+00, 3.94025813e+00, 3.94045944e+00,\n",
       "       3.94065895e+00, 3.94085709e+00, 3.94105428e+00, 3.94125094e+00,\n",
       "       3.94144750e+00, 3.94164437e+00, 3.94184198e+00, 3.94204075e+00,\n",
       "       3.94224111e+00, 3.94244348e+00, 3.94264830e+00, 3.94285602e+00,\n",
       "       3.94306708e+00, 3.94328195e+00, 3.94350110e+00, 3.94372500e+00,\n",
       "       3.94395416e+00, 3.94418908e+00, 3.94443028e+00, 3.94467830e+00,\n",
       "       3.94493369e+00, 3.94519703e+00, 3.94546890e+00, 3.94574991e+00,\n",
       "       3.94604070e+00, 3.94634190e+00, 3.94665419e+00, 3.94697827e+00,\n",
       "       3.94731484e+00, 3.94766465e+00, 3.94802846e+00, 3.94840705e+00,\n",
       "       3.94880124e+00, 3.94921187e+00, 3.94963979e+00, 3.95008591e+00,\n",
       "       3.95055112e+00, 3.95103639e+00, 3.95154266e+00, 3.95207094e+00,\n",
       "       3.95262225e+00, 3.95319763e+00, 3.95379817e+00, 3.95442496e+00,\n",
       "       3.95507912e+00, 3.95576182e+00, 3.95647422e+00, 3.95721754e+00,\n",
       "       3.95799299e+00, 3.95880184e+00, 3.95964535e+00, 3.96052483e+00,\n",
       "       3.96144159e+00, 3.96239698e+00, 3.96339236e+00, 3.96442911e+00,\n",
       "       3.96550863e+00, 3.96663234e+00, 3.96780168e+00, 3.96901809e+00,\n",
       "       3.97028305e+00, 3.97159803e+00, 3.97296453e+00, 3.97438404e+00,\n",
       "       3.97585808e+00, 3.97738817e+00, 3.97897583e+00, 3.98062261e+00,\n",
       "       3.98233002e+00, 3.98409962e+00, 3.98593295e+00, 3.98783153e+00,\n",
       "       3.98979691e+00, 3.99183061e+00, 3.99393417e+00, 3.99610911e+00,\n",
       "       3.99835693e+00, 4.00067912e+00, 4.00307719e+00, 4.00555259e+00,\n",
       "       4.00810679e+00, 4.01074121e+00, 4.01345729e+00, 4.01625640e+00,\n",
       "       4.01913993e+00, 4.02210922e+00, 4.02516559e+00, 4.02831032e+00])"
      ]
     },
     "execution_count": 302,
     "metadata": {},
     "output_type": "execute_result"
    }
   ],
   "source": [
    "#ejercicio 2\n",
    "\n",
    "np.cumsum(0.5*r_theta**2)*(theta[1]-theta[0])"
   ]
  },
  {
   "cell_type": "markdown",
   "metadata": {},
   "source": [
    "VAYA.\n",
    "\n",
    "Pero si yo lo que quería era un número, no un array.\n",
    "\n",
    "Pues es que se nos ha metido en la cabeza que la integral se hace con *np.cumsum* y a juir y nos olvidamos de que trabajamos con arrays por algo. Cuando aplicamos *cumsum* nos sale el array con los valores de la primitiva. \n",
    "\n",
    "Realmente como lo hemos hecho está bien porque sólo nos tendríamos que quedar con el último valor del array anterior, que es 4.028 que es el valor del área que estamos buscando, pero es poco elegante. \n",
    "\n",
    "Moraleja: Utilicemos *cumsum* cuando estemos pensando en el plot de la función primitiva y utilicemos *sum* cuando queramos una cifra, que es la suma de los valores del array.\n",
    "\n",
    "Como lo que queremos es sumar, pues sumemos, joder. (Igual que en el ejercicio anterior)"
   ]
  },
  {
   "cell_type": "code",
   "execution_count": 303,
   "metadata": {},
   "outputs": [
    {
     "data": {
      "text/plain": [
       "4.028310324802908"
      ]
     },
     "execution_count": 303,
     "metadata": {},
     "output_type": "execute_result"
    }
   ],
   "source": [
    "Area = 0.5 * sum(r_theta**2) * (theta[1]-theta[0]) #la suma llega hasta 2pi porque los limites de integracion estan definidos en el propio array de theta\n",
    "\n",
    "Area"
   ]
  },
  {
   "cell_type": "code",
   "execution_count": 304,
   "metadata": {},
   "outputs": [
    {
     "data": {
      "text/plain": [
       "11.64002156901387"
      ]
     },
     "execution_count": 304,
     "metadata": {},
     "output_type": "execute_result"
    }
   ],
   "source": [
    "Arco = sum(np.sqrt(r_theta**2 + np.gradient(r_theta, theta)**2)) * (theta[1]-theta[0])\n",
    "\n",
    "Arco"
   ]
  },
  {
   "cell_type": "markdown",
   "metadata": {},
   "source": [
    "Aquí podíamos haber computado el tema utiizando *cumsum*, pero no se nos debe olvidar que la derivada que estamos haciendo es numérica y que por lo tanto es otro array. Sólo nos tenemos que currar el argumento de *sum* un poquito más y ya está, recuerda que sólo necesitamos un número, no un array."
   ]
  },
  {
   "cell_type": "markdown",
   "metadata": {},
   "source": [
    "\n",
    "> ### *Problema 4*\n",
    "\n",
    "La potencia enmitida por un cuerpo negro es de la forma $P=A \\sigma \\epsilon T^4 $\n",
    "\n",
    " Después de medir la temperatura de una estrella se encuentra que la Temperatura tiene una dependencia temporal como $T(t)=\\frac{T_0}{1+e^{-kt}}$\n",
    "\n",
    "Dibuje la energía total emitida por la estrella como función del tiempo, la cual tiene una expresión de la forma $E(t)=\\int_{t'=0}^{t'=t} P(t')dt'$"
   ]
  },
  {
   "cell_type": "markdown",
   "metadata": {},
   "source": [
    "........................"
   ]
  },
  {
   "cell_type": "markdown",
   "metadata": {},
   "source": [
    "Bueno, aquí hay un viaje de cosas que no sabemos. Por lo pronto no sabemos el valor de las constantes, pero reescribamos el término de potencia.\n",
    "\n",
    "$$P=A \\sigma \\epsilon(\\frac{T_0}{1+e^{-kt}})^4$$\n",
    "\n",
    "Entonces cómo vamos a dibujar la energia si no sabemos las constantes? Utilicemos cantidades adimensionales, porque eso es lo único que podemos manejar.\n",
    "\n",
    "Realmente ya con $P$ no podemos lidiar, pero podemos trabajar con $$ \\frac{P}{A \\sigma \\epsilon}= (\\frac{T_0}{1+e^{-kt}})^4$$\n",
    "\n",
    "Tampoco sé lo que vale $T_0$, así que vamos a pasarlo al otro miembro también $$P_{norm}=\\frac{P}{A \\sigma \\epsilon {T_0}^4}= \\frac{1}{(1+e^{-kt})^4}$$\n",
    "\n",
    "Todavía tenemos la $k$ esa dando por culo y no me la puedo quitar de en medio porque va con la $t$.\n",
    "\n",
    "La cuestión es que ya no vamos a plotear la energía en sí tal y como nos la piden en el ejercicio, sino una energía modificada (que se va a ver modificada de nuevo por un cambio de variable, ahora lo veremos). Podemos llamarla energía normalizada o como queramos, pero lo que tenemos que tener en cuenta es que la energía como tal, no podemos evaluarla. Si supiera el valor de $k$ , sustituyo el numerito y evalúo la integral en $t$ y punto.\n",
    "\n",
    "Como $kt$ va junto, pues vamos a tratarlas juntos. Vamos a variar $kt$ como un todo. Recuerda que $kt$ es adimensional porque $k$ tiene unidades de $[t]^{-1}$\n",
    "\n",
    "Dicho esto: veamos la pinta que tiene la Potencia normalizada"
   ]
  },
  {
   "cell_type": "code",
   "execution_count": 321,
   "metadata": {},
   "outputs": [
    {
     "data": {
      "text/plain": [
       "[<matplotlib.lines.Line2D at 0x1181e98b0>]"
      ]
     },
     "execution_count": 321,
     "metadata": {},
     "output_type": "execute_result"
    },
    {
     "data": {
      "image/png": "[encoded data removed]",
      "text/plain": [
       "<Figure size 432x288 with 1 Axes>"
      ]
     },
     "metadata": {
      "needs_background": "light"
     },
     "output_type": "display_data"
    }
   ],
   "source": [
    "kt = np.linspace(0,3,1000) #los límites de integración son arbitrarios\n",
    "P_norm = (1/(1+np.exp(-kt)))**4\n",
    "\n",
    "plt.plot(kt,P_norm)"
   ]
  },
  {
   "cell_type": "markdown",
   "metadata": {},
   "source": [
    "Ahora realizamos la integral $\\tilde{E}_{norm}=E_{norm}k=\\frac{k}{A \\sigma \\epsilon {T_0}^4} E(kt)=\\int_{t''_1}^{t''_2} P_{norm}  d\\gamma$ donde $\\gamma=kt$"
   ]
  },
  {
   "cell_type": "code",
   "execution_count": 352,
   "metadata": {},
   "outputs": [
    {
     "data": {
      "text/plain": [
       "Text(0, 0.5, '$\\\\tilde{E}_{norm}=\\\\frac{k}{A \\\\sigma \\\\epsilon {T_0}^4}  E(kt)$')"
      ]
     },
     "execution_count": 352,
     "metadata": {},
     "output_type": "execute_result"
    },
    {
     "data": {
      "image/png": "[encoded data removed]",
      "text/plain": [
       "<Figure size 432x288 with 1 Axes>"
      ]
     },
     "metadata": {
      "needs_background": "light"
     },
     "output_type": "display_data"
    }
   ],
   "source": [
    "E_norm = np.cumsum(P_norm) * (kt[1]-kt[0])\n",
    "plt.plot(kt,E_norm)\n",
    "\n",
    "plt.xlabel('$kt$', size= 20)\n",
    "plt.ylabel(r'$\\tilde{E}_{norm}=\\frac{k}{A \\sigma \\epsilon {T_0}^4}  E(kt)$' , size= 15) #la 'r' al principio le da permiso al label para que tenga ecs. en markdown\n",
    "#plt.savefig('filename.jpg', dpi=300) para guardarlo en buena resolucion"
   ]
  },
  {
   "cell_type": "markdown",
   "metadata": {},
   "source": [
    "OJITO CON ESTO.\n",
    "\n",
    "Al tratar $kt$ como un todo, lo que hemos hecho es un cambio de variable e integrado respecto a $kt$ , con lo cual sale una $k$ dividiendo. Me explico:\n",
    "\n",
    "$$\\gamma=kt$$\n",
    "\n",
    "$$\\frac{d\\gamma}{dt}=k$$\n",
    "\n",
    "Con lo cual $$ dt= \\frac{d\\gamma}{k}$$\n",
    "\n",
    "Por lo que la integral queda como\n",
    "$$E_{norm}=\\frac{E(kt)}{A \\sigma \\epsilon {T_0}^4}=\\int_{t''_1}^{t''_2} \\frac{1}{(1+e^{-\\gamma})^4} \\frac{d\\gamma}{k}$$\n",
    "\n",
    "Entonces:\n",
    "\n",
    " $$\\tilde{E}_{norm}=\\frac{E(kt)k}{A \\sigma \\epsilon {T_0}^4}=\\int_{t''_1}^{t''_2} \\frac{1}{(1+e^{-\\gamma})^4} d\\gamma$$\n",
    "\n",
    "y el comportamiento de esta última integral es lo que estamos ploteando realmente.\n",
    "\n",
    "OJO CUIDAO: porque esto de tratar a una variable producto como un todo puede salir muy bien, como en este caso que lo único que sale es un factor multiplicativo (con el que hay que estar atento igualmente) pero si el cambio de variable es más feo pueden salir cosas chungas al transformar el diferencial. Lo que quiero decir es que cada caso es de su padre y de su madre y hay que hacer la cuentas aparte para transformar la integral y que te salga algo que puedas meter aquí.\n",
    "\n",
    "También: que para hablar de valores reales de la Energía sólo habría que multiplicar el valor de  $\\tilde{E}_{norm}$ por el factor $\\frac{A \\sigma \\epsilon {T_0}^4}{k}$ una vez lo conociéramos. (Y que esta vez también hemos tenido suerte de poder quitarnos de en medio todos los factores desconocidos y dejarlos en el otro miembro)"
   ]
  },
  {
   "cell_type": "code",
   "execution_count": 354,
   "metadata": {},
   "outputs": [
    {
     "data": {
      "text/plain": [
       "array([[1, 2, 3],\n",
       "       [4, 5, 6]])"
      ]
     },
     "execution_count": 354,
     "metadata": {},
     "output_type": "execute_result"
    }
   ],
   "source": [
    "m1= np.array([[1,2,3],[4,5,6]])\n",
    "m1"
   ]
  },
  {
   "cell_type": "markdown",
   "metadata": {},
   "source": []
  },
  {
   "cell_type": "code",
   "execution_count": null,
   "metadata": {},
   "outputs": [],
   "source": []
  }
 ],
 "metadata": {
  "interpreter": {
   "hash": "b2aae7782ae4367a798962cc23c8b13f95033841de453e3e0cd17426c57e03ec"
  },
  "kernelspec": {
   "display_name": "Python 3.9.2 64-bit",
   "language": "python",
   "name": "python3"
  },
  "language_info": {
   "codemirror_mode": {
    "name": "ipython",
    "version": 3
   },
   "file_extension": ".py",
   "mimetype": "text/x-python",
   "name": "python",
   "nbconvert_exporter": "python",
   "pygments_lexer": "ipython3",
   "version": "3.8.2"
  },
  "metadata": {
   "interpreter": {
    "hash": "b2aae7782ae4367a798962cc23c8b13f95033841de453e3e0cd17426c57e03ec"
   }
  },
  "orig_nbformat": 2
 },
 "nbformat": 4,
 "nbformat_minor": 2
}
