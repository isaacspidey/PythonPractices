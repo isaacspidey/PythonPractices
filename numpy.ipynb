{
 "cells": [
  {
   "attachments": {},
   "cell_type": "markdown",
   "metadata": {},
   "source": [
    "># Introducción a numpy\n",
    "\n",
    ">Más sobre las funciones matemáticas básicas de numpy en <a>hhttps://numpy.org/doc/stable/reference/routines.math.html</a>\n",
    "\n",
    ">Más sobre cómo escribir en markdown en <a>https://www.datacamp.com/community/tutorials/markdown-in-jupyter-notebook</a>"
   ]
  },
  {
   "attachments": {},
   "cell_type": "markdown",
   "metadata": {},
   "source": [
    ">## Arrays\n",
    "Los arrays en Python se asemejan a los vectores de $n$ componentes, es decir, elementos de $\\R^n$, pero las operaciones se hacen *element-wise*, es decir, elemento a elemento, por eso los vectores y los arrays son dos cosas fundamentalmente distintas. Digamos que con las funciones que nos proporciona python, un array es un vector en esteroides. De hecho, ya se verá más adelante que gracias a las funciones de numpy, puedo tratar a los arrays para que hagan operaciones de producto escalar, vectorial y to la pesca.\n",
    "\n",
    "Por ahora importamos numpy, que es una librería con un montón de funciones matemáticas superútiles y matplotlib, que sirve para dibujar."
   ]
  },
  {
   "cell_type": "code",
   "execution_count": 76,
   "metadata": {},
   "outputs": [],
   "source": [
    "import numpy as np\n",
    "import matplotlib.pyplot as plt"
   ]
  },
  {
   "cell_type": "markdown",
   "metadata": {},
   "source": [
    "Vamos a ver varios tipos de arrays que podemos generar"
   ]
  },
  {
   "cell_type": "code",
   "execution_count": 77,
   "metadata": {},
   "outputs": [],
   "source": [
    "a1 = np.array([3,5,4,9]) #a los arrays se les feedea con listas, es decir, elementos entre brackets\n",
    "a2 = np.zeros(5) #crea un array de cinco ceros\n",
    "a3 = np.ones(5) #este de 1's\n",
    "a4 = np.random.random(10) #numeros random entre 0 y 1\n",
    "a5 = np.random.randn(1000) #numeros random con distribucion gaussiana\n"
   ]
  },
  {
   "cell_type": "markdown",
   "metadata": {},
   "source": [
    "Par ver que lo último es cierto, vamos a plotear el histograma para ver que la distribucion de valores de $a_5$ es una gaussiana"
   ]
  },
  {
   "cell_type": "code",
   "execution_count": 78,
   "metadata": {},
   "outputs": [
    {
     "data": {
      "text/plain": [
       "(array([ 2.,  1.,  2.,  5., 11., 15., 23., 39., 32., 58., 66., 84., 72.,\n",
       "        78., 89., 86., 89., 63., 58., 43., 29., 24., 10.,  9.,  4.,  3.,\n",
       "         1.,  1.,  1.,  2.]),\n",
       " array([-3.15088299, -2.9260914 , -2.70129982, -2.47650823, -2.25171664,\n",
       "        -2.02692505, -1.80213347, -1.57734188, -1.35255029, -1.12775871,\n",
       "        -0.90296712, -0.67817553, -0.45338394, -0.22859236, -0.00380077,\n",
       "         0.22099082,  0.4457824 ,  0.67057399,  0.89536558,  1.12015717,\n",
       "         1.34494875,  1.56974034,  1.79453193,  2.01932351,  2.2441151 ,\n",
       "         2.46890669,  2.69369828,  2.91848986,  3.14328145,  3.36807304,\n",
       "         3.59286462]),\n",
       " <BarContainer object of 30 artists>)"
      ]
     },
     "execution_count": 78,
     "metadata": {},
     "output_type": "execute_result"
    },
    {
     "data": {
      "image/png": "[encoded data removed]",
      "text/plain": [
       "<Figure size 432x288 with 1 Axes>"
      ]
     },
     "metadata": {
      "needs_background": "light"
     },
     "output_type": "display_data"
    }
   ],
   "source": [
    "plt.hist(a5, bins =30) #bins es el numero de columnas que quiero que haya en el histograma"
   ]
  },
  {
   "cell_type": "markdown",
   "metadata": {},
   "source": [
    "Mentir, no he mentido. Si yo le digo a python que me cree un histograma con mas barras se va a ver mejor la gaussiana, y si le feedeo mas valores a mi array se va a ver ultraperfe. Pero vaya, se ve como coge la forma de campana gaussiana, con lo cual guay"
   ]
  },
  {
   "cell_type": "code",
   "execution_count": 79,
   "metadata": {},
   "outputs": [],
   "source": [
    "a6 = np.linspace(0,10, 100) #te genera un array de evenly spaced\n",
    "#numbers desde tal hasta tal. El ultimo parámetro te indica cuantos\n",
    "#valores quieres que tome. Por defecto son 50\n",
    "#esto es megaútil si queremos plotear porque nos genera los valores\n",
    "#que va a tomar el eje de las abcisas\n",
    "\n",
    "a7= np.arange(0,10,0.02) #parecido al linspace pero aqui no te\n",
    "#digo en cuantos pasos lo quiero, te digo como de espaciados los\n",
    "#quiero y el ya se encarga de darle el tamaño al array que necesite"
   ]
  },
  {
   "cell_type": "markdown",
   "metadata": {},
   "source": [
    "Estos arrays que hemos aprendido son importantisimos porque los vamos a estar usando todo el puto rato. Pero por que usamos arrays en vez de lists? Es que los arrays tienen propiedades muy chulas. Vamos a verlo:"
   ]
  },
  {
   "cell_type": "code",
   "execution_count": 80,
   "metadata": {},
   "outputs": [
    {
     "data": {
      "text/plain": [
       "array([ 6, 10,  8, 18])"
      ]
     },
     "execution_count": 80,
     "metadata": {},
     "output_type": "execute_result"
    }
   ],
   "source": [
    "2*a1 #multiplica cada elemento por 2. Las hace elemento a elemento"
   ]
  },
  {
   "cell_type": "markdown",
   "metadata": {},
   "source": [
    "Y dividir por un \"vector\"? (cuidao con llamarle vector a los arrays porque un vector es una serie de numeros que tiene ciertas propiedades matemáticas. Por eso yo no puedo dividir un real entre un vector pero con un array puedo hacerlo porque es otra entidad completamente distinta aunque a la vista sean iguales)"
   ]
  },
  {
   "cell_type": "code",
   "execution_count": 81,
   "metadata": {},
   "outputs": [
    {
     "data": {
      "text/plain": [
       "array([0.33333333, 0.2       , 0.25      , 0.11111111])"
      ]
     },
     "execution_count": 81,
     "metadata": {},
     "output_type": "execute_result"
    }
   ],
   "source": [
    "1/a1 #Python lo trata como un \"te hago la inversa de cada elemento\n",
    "#del array y lo meto en otro array\""
   ]
  },
  {
   "cell_type": "markdown",
   "metadata": {},
   "source": [
    "Lo guapo de esto es que  con las operaciones de arrays vamos a poder aplicar unas pocas de operaciones al mismo tiempo para un monton de elementos. Todo a la vez.\n",
    "\n",
    "Las operaciones booleanas tambien son canela en rama. Veamos:\n"
   ]
  },
  {
   "cell_type": "code",
   "execution_count": 82,
   "metadata": {},
   "outputs": [
    {
     "data": {
      "text/plain": [
       "array([False,  True, False,  True])"
      ]
     },
     "execution_count": 82,
     "metadata": {},
     "output_type": "execute_result"
    }
   ],
   "source": [
    "#veamos los elementos de a1 que son > 4\n",
    "a1>4 #=Para todos los i en el array, es a1(i)>4?"
   ]
  },
  {
   "cell_type": "markdown",
   "metadata": {},
   "source": [
    "Esto lo que nos devuelve es un array de verdaderos y falsos que no es que tenga mucha utilidad en si, pero nos va a permitir *indexar*. Básicamente filtrar resultados.\n",
    "\n",
    "Por ejemplo \"muéstrame los elementos de $a_1$ que son $>4$\""
   ]
  },
  {
   "cell_type": "code",
   "execution_count": 83,
   "metadata": {},
   "outputs": [
    {
     "data": {
      "text/plain": [
       "array([5, 9])"
      ]
     },
     "execution_count": 83,
     "metadata": {},
     "output_type": "execute_result"
    }
   ],
   "source": [
    "a1[a1>4]"
   ]
  },
  {
   "cell_type": "markdown",
   "metadata": {},
   "source": [
    "En general puedo hacer operaciones mezclando arrays y tal. Ejemplo:"
   ]
  },
  {
   "cell_type": "code",
   "execution_count": 84,
   "metadata": {},
   "outputs": [
    {
     "data": {
      "text/plain": [
       "array([11.33333333, 17.2       , 14.25      , 29.11111111])"
      ]
     },
     "execution_count": 84,
     "metadata": {},
     "output_type": "execute_result"
    }
   ],
   "source": [
    "1/a1+2 + 3*a1"
   ]
  },
  {
   "cell_type": "markdown",
   "metadata": {},
   "source": [
    "Dijimos que todo esto estaba de puta madre para plotear. Veamos.\n",
    "Supongamos que quiero plotear la funcion $x^2$, entonces vamos a crear los valores de 0 a 1 y vamos a darle 100 puntos para que se vea smooth"
   ]
  },
  {
   "cell_type": "code",
   "execution_count": 85,
   "metadata": {},
   "outputs": [
    {
     "data": {
      "text/plain": [
       "[<matplotlib.lines.Line2D at 0x267a3e71190>]"
      ]
     },
     "execution_count": 85,
     "metadata": {},
     "output_type": "execute_result"
    },
    {
     "data": {
      "image/png": "[encoded data removed]",
      "text/plain": [
       "<Figure size 432x288 with 1 Axes>"
      ]
     },
     "metadata": {
      "needs_background": "light"
     },
     "output_type": "display_data"
    }
   ],
   "source": [
    "x = np.linspace(0,1,100)\n",
    "y = x**2\n",
    "plt.plot(x, y) #plotear y(x), osea el array y en funcion del x"
   ]
  },
  {
   "cell_type": "markdown",
   "metadata": {},
   "source": [
    "Definamos una función"
   ]
  },
  {
   "cell_type": "code",
   "execution_count": 86,
   "metadata": {},
   "outputs": [],
   "source": [
    "def f(x):#toma una x pero no es exact. la x que hemos definido antes\n",
    "    return x**2 * np.sin(x)/np.exp(-x)"
   ]
  },
  {
   "cell_type": "markdown",
   "metadata": {},
   "source": [
    "En una función normal yo le meto un número y sale un número. Pero es que con los arrays puedo hacer estas operaciones a muchos muchos valores del tirón a la misma vez."
   ]
  },
  {
   "cell_type": "code",
   "execution_count": 87,
   "metadata": {},
   "outputs": [
    {
     "data": {
      "text/plain": [
       "[<matplotlib.lines.Line2D at 0x267a3ed0520>]"
      ]
     },
     "execution_count": 87,
     "metadata": {},
     "output_type": "execute_result"
    },
    {
     "data": {
      "image/png": "[encoded data removed]",
      "text/plain": [
       "<Figure size 432x288 with 1 Axes>"
      ]
     },
     "metadata": {
      "needs_background": "light"
     },
     "output_type": "display_data"
    }
   ],
   "source": [
    "a = np.linspace(1,10,100)\n",
    "b = f(a) #f se evalúa en cada valor del array a al mismo tiempo\n",
    "#en vez de coger un for loop para loopear entre los distintos valores\n",
    "#puedo hacerlo así\n",
    "\n",
    "plt.plot(a,b)"
   ]
  },
  {
   "cell_type": "markdown",
   "metadata": {},
   "source": [
    ">### Array indexing"
   ]
  },
  {
   "cell_type": "markdown",
   "metadata": {},
   "source": [
    "Vamos a hacer cosas mas complicadas. Supongamos un array"
   ]
  },
  {
   "cell_type": "code",
   "execution_count": 88,
   "metadata": {},
   "outputs": [
    {
     "data": {
      "text/plain": [
       "2"
      ]
     },
     "execution_count": 88,
     "metadata": {},
     "output_type": "execute_result"
    }
   ],
   "source": [
    "v1= np.array([2,4,6,8,10])\n",
    "#Vamos a mirar al primer elemento, indexado en el 0\n",
    "v1[0]"
   ]
  },
  {
   "cell_type": "markdown",
   "metadata": {},
   "source": [
    "Supongamos que yo sólo quiero una parte del array. Por ejemplo, a partir del tercer elemento. Se hace con el elemento a partir del que quieres empezar a contar (inclusive) y dos puntos (:)"
   ]
  },
  {
   "cell_type": "code",
   "execution_count": 89,
   "metadata": {},
   "outputs": [
    {
     "data": {
      "text/plain": [
       "array([ 6,  8, 10])"
      ]
     },
     "execution_count": 89,
     "metadata": {},
     "output_type": "execute_result"
    }
   ],
   "source": [
    "v1[2:]"
   ]
  },
  {
   "cell_type": "markdown",
   "metadata": {},
   "source": [
    "Si quiero coger desde el principio hasta cierto elemento entremedias del vector, tambien lo puedo hacer. Ejemplo \"coge y me enseñas todos los elementos hasta el antepenúltimo inclusive"
   ]
  },
  {
   "cell_type": "code",
   "execution_count": 90,
   "metadata": {},
   "outputs": [
    {
     "data": {
      "text/plain": [
       "array([2, 4, 6])"
      ]
     },
     "execution_count": 90,
     "metadata": {},
     "output_type": "execute_result"
    }
   ],
   "source": [
    "v1[:-2]"
   ]
  },
  {
   "cell_type": "markdown",
   "metadata": {},
   "source": [
    "O por ejemplo si quiero desde el segundo elemento hasta el antepenúltimo:"
   ]
  },
  {
   "cell_type": "code",
   "execution_count": 91,
   "metadata": {},
   "outputs": [
    {
     "data": {
      "text/plain": [
       "array([4, 6])"
      ]
     },
     "execution_count": 91,
     "metadata": {},
     "output_type": "execute_result"
    }
   ],
   "source": [
    "v1[1:-2]"
   ]
  },
  {
   "cell_type": "markdown",
   "metadata": {},
   "source": [
    "O por ejemplo hasta el tercer elemento"
   ]
  },
  {
   "cell_type": "code",
   "execution_count": 92,
   "metadata": {},
   "outputs": [
    {
     "data": {
      "text/plain": [
       "array([2, 4])"
      ]
     },
     "execution_count": 92,
     "metadata": {},
     "output_type": "execute_result"
    }
   ],
   "source": [
    "v1[:2]"
   ]
  },
  {
   "cell_type": "markdown",
   "metadata": {},
   "source": [
    "O por ejemplo los dos últimos"
   ]
  },
  {
   "cell_type": "code",
   "execution_count": 93,
   "metadata": {},
   "outputs": [
    {
     "data": {
      "text/plain": [
       "array([ 8, 10])"
      ]
     },
     "execution_count": 93,
     "metadata": {},
     "output_type": "execute_result"
    }
   ],
   "source": [
    "v1[-2:]"
   ]
  },
  {
   "cell_type": "markdown",
   "metadata": {},
   "source": [
    "El indexado booleano es la herramienta potente para un montón de aplicaciones. Cuidao porque esto es importante. Es super útil.\n",
    "\n",
    "Ejemplo: \"En $v_1$ enséñame los elementos que son $>3$\""
   ]
  },
  {
   "cell_type": "code",
   "execution_count": 94,
   "metadata": {},
   "outputs": [
    {
     "data": {
      "text/plain": [
       "array([ 4,  6,  8, 10])"
      ]
     },
     "execution_count": 94,
     "metadata": {},
     "output_type": "execute_result"
    }
   ],
   "source": [
    "v1[v1>3]"
   ]
  },
  {
   "cell_type": "markdown",
   "metadata": {},
   "source": [
    "Esto es útil cuando estamos manejando un montón de datos. Por ejemplo, de una lista de nombres vámos a ver cuáles empiezan con la letra J. Pongámosla del tirón y la vamos explicando por partes:"
   ]
  },
  {
   "cell_type": "code",
   "execution_count": 95,
   "metadata": {},
   "outputs": [],
   "source": [
    "nombres= np.array(['Jim','Pam','Michael','Dwight','Creed','Kevin','Óscar','Angela','Kelly','Meredith','Ryan','Jan'])\n",
    "primera_letra_J= np.vectorize(lambda s: s[0])(nombres)=='J'"
   ]
  },
  {
   "cell_type": "markdown",
   "metadata": {},
   "source": [
    "·Lambda es una funcion anonima que coge un array cualquiera 's' y me devuelve el primer elemento"
   ]
  },
  {
   "cell_type": "code",
   "execution_count": 96,
   "metadata": {},
   "outputs": [
    {
     "data": {
      "text/plain": [
       "'g'"
      ]
     },
     "execution_count": 96,
     "metadata": {},
     "output_type": "execute_result"
    }
   ],
   "source": [
    "g = lambda s: s[0]\n",
    "g('gilipollas')"
   ]
  },
  {
   "cell_type": "markdown",
   "metadata": {},
   "source": [
    "·El 'vectorize' lo que hace es crear un loop que coge el array\n",
    "que le pasamos en el otro paréntesis y le aplica la función\n",
    "de su argumento. En este caso \"para cada elemento en el array \"nombres\", aplico la función 'coger la primera letra del elemento s' \"\n",
    "\n",
    "Vamos a ver entonces que hasta ahora, esto que hemos descrito es lo que hace la función. Nos tendrían que salir la primera letra de todos los nombres de la lista"
   ]
  },
  {
   "cell_type": "code",
   "execution_count": 97,
   "metadata": {},
   "outputs": [
    {
     "data": {
      "text/plain": [
       "array(['J', 'P', 'M', 'D', 'C', 'K', 'Ó', 'A', 'K', 'M', 'R', 'J'],\n",
       "      dtype='<U1')"
      ]
     },
     "execution_count": 97,
     "metadata": {},
     "output_type": "execute_result"
    }
   ],
   "source": [
    "np.vectorize(lambda s: s[0])(nombres)"
   ]
  },
  {
   "cell_type": "markdown",
   "metadata": {},
   "source": [
    "Veamos que funciona usando el valor que le hemos dado a la variable:"
   ]
  },
  {
   "cell_type": "code",
   "execution_count": 98,
   "metadata": {},
   "outputs": [
    {
     "data": {
      "text/plain": [
       "array(['J', 'P', 'M', 'D', 'C', 'K', 'Ó', 'A', 'K', 'M', 'R', 'J'],\n",
       "      dtype='<U1')"
      ]
     },
     "execution_count": 98,
     "metadata": {},
     "output_type": "execute_result"
    }
   ],
   "source": [
    "np.vectorize(g)(nombres)"
   ]
  },
  {
   "cell_type": "markdown",
   "metadata": {},
   "source": [
    "Así que lo que tenemos aquí es un array, es otro array de hecho.\n",
    "Con el \" =='J' \" lo que hago es indexarlo booleanamente. Lo que quiero decir con esto es \"dime para cada elemento del array si es verdadero o falso que empieza por la letra J\" . Veamos:"
   ]
  },
  {
   "cell_type": "code",
   "execution_count": 99,
   "metadata": {},
   "outputs": [
    {
     "data": {
      "text/plain": [
       "array([ True, False, False, False, False, False, False, False, False,\n",
       "       False, False,  True])"
      ]
     },
     "execution_count": 99,
     "metadata": {},
     "output_type": "execute_result"
    }
   ],
   "source": [
    "primera_letra_J"
   ]
  },
  {
   "cell_type": "markdown",
   "metadata": {},
   "source": [
    "Efectivamente me ha devuelto un array que me dice qué nombres empiezan por J y cuáles no. Pero ahora quiero filtrarlo. Entonces vamos a hacer como hacíamos cuando queríamos ver qué  elementos de un array tenían un valor >4. Se hace igual, vaya:"
   ]
  },
  {
   "cell_type": "code",
   "execution_count": 100,
   "metadata": {},
   "outputs": [
    {
     "data": {
      "text/plain": [
       "array(['Jim', 'Jan'], dtype='<U8')"
      ]
     },
     "execution_count": 100,
     "metadata": {},
     "output_type": "execute_result"
    }
   ],
   "source": [
    "nombres[primera_letra_J]"
   ]
  },
  {
   "cell_type": "markdown",
   "metadata": {},
   "source": [
    "Esto es una herramienta poderosísima cuando tenemos muchos datos y como se ve, esto numpy te lo hace en un plis y en una línea pero de primeras hacer esto como que no. Esto lo vas cogiendo con maestría y con tiempo."
   ]
  },
  {
   "cell_type": "markdown",
   "metadata": {},
   "source": [
    "Inciso sobre las funciones $\\lambda$ :\n",
    "\n",
    " las funciones Lambda se definen como una línea que ejecuta una sola expresión. Este tipo de funciones pueden tomar cualquier número de argumentos, pero solo pueden tener una expresión."
   ]
  },
  {
   "cell_type": "code",
   "execution_count": 101,
   "metadata": {},
   "outputs": [
    {
     "data": {
      "text/plain": [
       "8"
      ]
     },
     "execution_count": 101,
     "metadata": {},
     "output_type": "execute_result"
    }
   ],
   "source": [
    "#Ejemplo para caracterizar:\n",
    "\n",
    "#Aquí tenemos una función creada para sumar.\n",
    "\n",
    "def suma(q,p):\n",
    "    return(q + p)\n",
    "    \n",
    "#Aquí tenemos una función Lambda que también suma.\n",
    "lambda q,p : q + p\n",
    "\n",
    "#Para poder utilizarla necesitamos guardarla en una variable.\n",
    "suma_dos = lambda q,p : q + p\n",
    "suma_dos(3,5)"
   ]
  },
  {
   "cell_type": "markdown",
   "metadata": {},
   "source": [
    "Sigamos con operaciones basicas de arrays."
   ]
  },
  {
   "cell_type": "code",
   "execution_count": 102,
   "metadata": {},
   "outputs": [
    {
     "data": {
      "text/plain": [
       "array([3, 1, 0, 1], dtype=int32)"
      ]
     },
     "execution_count": 102,
     "metadata": {},
     "output_type": "execute_result"
    }
   ],
   "source": [
    "a1%4 #divide a1 entre 4 y dime cuanto vale el resto"
   ]
  },
  {
   "cell_type": "code",
   "execution_count": 103,
   "metadata": {},
   "outputs": [
    {
     "data": {
      "text/plain": [
       "array([False, False,  True, False])"
      ]
     },
     "execution_count": 103,
     "metadata": {},
     "output_type": "execute_result"
    }
   ],
   "source": [
    "a1%4 == 0 #son los elementos de a1 divisibles entre 4?"
   ]
  },
  {
   "cell_type": "code",
   "execution_count": 104,
   "metadata": {},
   "outputs": [
    {
     "data": {
      "text/plain": [
       "array([4])"
      ]
     },
     "execution_count": 104,
     "metadata": {},
     "output_type": "execute_result"
    }
   ],
   "source": [
    "a1[a1%4 == 0] #cuales son divisibles entre 4?\n"
   ]
  },
  {
   "cell_type": "markdown",
   "metadata": {},
   "source": [
    "Donde brilla numpy es en el calculo y la estadistica. Es muy rapido y muy potente."
   ]
  },
  {
   "cell_type": "code",
   "execution_count": 105,
   "metadata": {},
   "outputs": [],
   "source": [
    "v2 = 2*np.random.randn(10000)+10\n",
    "#si la funcion randn nos producia numeros con desviacion estandar uno\n",
    "#  y media cero, multiplicar el array por 2 hace que la desviacion\n",
    "#  estandar sea 2 y sumarle 10 nos traslada la media a 10"
   ]
  },
  {
   "cell_type": "code",
   "execution_count": 106,
   "metadata": {},
   "outputs": [
    {
     "data": {
      "text/plain": [
       "10.030797271354185"
      ]
     },
     "execution_count": 106,
     "metadata": {},
     "output_type": "execute_result"
    }
   ],
   "source": [
    "np.mean(v2) #la media"
   ]
  },
  {
   "cell_type": "code",
   "execution_count": 107,
   "metadata": {},
   "outputs": [
    {
     "data": {
      "text/plain": [
       "2.0195850373493136"
      ]
     },
     "execution_count": 107,
     "metadata": {},
     "output_type": "execute_result"
    }
   ],
   "source": [
    "np.std(v2) #desviacion estandard"
   ]
  },
  {
   "cell_type": "markdown",
   "metadata": {},
   "source": [
    "Los percentiles: cuantos numeros son mas grandes que cierto valor?"
   ]
  },
  {
   "cell_type": "code",
   "execution_count": 108,
   "metadata": {},
   "outputs": [
    {
     "data": {
      "text/plain": [
       "11.732655311279144"
      ]
     },
     "execution_count": 108,
     "metadata": {},
     "output_type": "execute_result"
    }
   ],
   "source": [
    "np.percentile(v2, 80) #el número para el cual el 80 por \n",
    "#ciento de los valores del array son menores que ese número"
   ]
  },
  {
   "cell_type": "markdown",
   "metadata": {},
   "source": [
    "> ## Integrales y derivadas"
   ]
  },
  {
   "cell_type": "code",
   "execution_count": 109,
   "metadata": {},
   "outputs": [
    {
     "data": {
      "text/plain": [
       "[<matplotlib.lines.Line2D at 0x267a3f3f160>]"
      ]
     },
     "execution_count": 109,
     "metadata": {},
     "output_type": "execute_result"
    },
    {
     "data": {
      "image/png": "[encoded data removed]",
      "text/plain": [
       "<Figure size 432x288 with 1 Axes>"
      ]
     },
     "metadata": {
      "needs_background": "light"
     },
     "output_type": "display_data"
    }
   ],
   "source": [
    "n = np.linspace(1,10,100)\n",
    "m = 1/n**2 * np.sin(n)\n",
    "\n",
    "plt.plot(n,m, color='grey')"
   ]
  },
  {
   "cell_type": "markdown",
   "metadata": {},
   "source": [
    "Encontrar las derivadas y las integrales a mano es un puto coñazo. Vamos a encontrarlas numericamente y las vamos a dibujar"
   ]
  },
  {
   "cell_type": "code",
   "execution_count": 110,
   "metadata": {},
   "outputs": [
    {
     "data": {
      "text/plain": [
       "[<matplotlib.lines.Line2D at 0x267a3f936d0>]"
      ]
     },
     "execution_count": 110,
     "metadata": {},
     "output_type": "execute_result"
    },
    {
     "data": {
      "image/png": "[encoded data removed]",
      "text/plain": [
       "<Figure size 432x288 with 1 Axes>"
      ]
     },
     "metadata": {
      "needs_background": "light"
     },
     "output_type": "display_data"
    }
   ],
   "source": [
    "dmdn= np.gradient(m,n) #derivada\n",
    "plt.plot(n,dmdn, color='green')"
   ]
  },
  {
   "cell_type": "code",
   "execution_count": 111,
   "metadata": {},
   "outputs": [
    {
     "data": {
      "text/plain": [
       "[<matplotlib.lines.Line2D at 0x267a3ff35e0>]"
      ]
     },
     "execution_count": 111,
     "metadata": {},
     "output_type": "execute_result"
    },
    {
     "data": {
      "image/png": "[encoded data removed]",
      "text/plain": [
       "<Figure size 432x288 with 1 Axes>"
      ]
     },
     "metadata": {
      "needs_background": "light"
     },
     "output_type": "display_data"
    }
   ],
   "source": [
    "intm = np.cumsum(m)*(n[1]-n[0]) #integral. El término de la diferencia es el diferencial dx\n",
    "#cumsum es la suma cumulativa de los elementos de un array, son los elementos de la serie\n",
    "plt.plot(n,intm, color='red')"
   ]
  },
  {
   "cell_type": "markdown",
   "metadata": {},
   "source": [
    "Realmente la funcion integral en cada punto es la suma cumulativa de cada uno de los puntos de la funcion original multiplicados por la longitud diferencial. Es decir, una suma de rectángulos."
   ]
  },
  {
   "cell_type": "markdown",
   "metadata": {},
   "source": [
    "Vamos a plotearlo todo"
   ]
  },
  {
   "cell_type": "code",
   "execution_count": 112,
   "metadata": {},
   "outputs": [
    {
     "data": {
      "text/plain": [
       "<matplotlib.legend.Legend at 0x267a4014820>"
      ]
     },
     "execution_count": 112,
     "metadata": {},
     "output_type": "execute_result"
    },
    {
     "data": {
      "image/png": "[encoded data removed]",
      "text/plain": [
       "<Figure size 432x288 with 1 Axes>"
      ]
     },
     "metadata": {
      "needs_background": "light"
     },
     "output_type": "display_data"
    }
   ],
   "source": [
    "\n",
    "plt.plot(n, m, color='grey')\n",
    "plt.plot(n, dmdn, color='green')\n",
    "plt.plot(n,intm, color='red')\n",
    "plt.legend(('m','dmdn','intm'),loc='best') #esto va con dos parentesis no se por que"
   ]
  },
  {
   "cell_type": "markdown",
   "metadata": {},
   "source": [
    ">## Problemas"
   ]
  },
  {
   "cell_type": "markdown",
   "metadata": {},
   "source": [
    "> ### *Problema 1*\n",
    "\n",
    "Sea $y=e^\\frac{-x}{10}sin(x)$ definida en el intervalo $x \\in [0,10]$.\n",
    "\n",
    "1.- Dibuje la función\n",
    "\n",
    "2.- Calcule la media y la desviación estandar para el intervalo $x \\in [4,7]$\n",
    "\n",
    "3.- Para $x \\in [4,7]$ encuentre el valor $y_m$ tal que el 80% de los valores de $y$ son $<y_m$\n",
    "\n",
    "4.- Compute su derivada\n",
    "\n",
    "5.- Encuentre los puntos donde la derivada se anula"
   ]
  },
  {
   "cell_type": "code",
   "execution_count": 113,
   "metadata": {},
   "outputs": [
    {
     "data": {
      "text/plain": [
       "[<matplotlib.lines.Line2D at 0x267a40cd7c0>]"
      ]
     },
     "execution_count": 113,
     "metadata": {},
     "output_type": "execute_result"
    },
    {
     "data": {
      "image/png": "[encoded data removed]",
      "text/plain": [
       "<Figure size 432x288 with 1 Axes>"
      ]
     },
     "metadata": {
      "needs_background": "light"
     },
     "output_type": "display_data"
    }
   ],
   "source": [
    "#ejercicio 1\n",
    "N=10000\n",
    "x = np.linspace(0,10, N+1)\n",
    "y = np.exp(-x/10)*np.sin(x)\n",
    "plt.plot(x,y)"
   ]
  },
  {
   "cell_type": "code",
   "execution_count": 114,
   "metadata": {},
   "outputs": [
    {
     "data": {
      "text/plain": [
       "-0.2956023068963138"
      ]
     },
     "execution_count": 114,
     "metadata": {},
     "output_type": "execute_result"
    }
   ],
   "source": [
    "#ejercicio 2\n",
    "(x>=4)*(x<=7)#condición booleana para seleccionar el intervalo\n",
    "restriccion=y[(x>=4)*(x<=7)]#indexado\n",
    "np.mean(y[(x>=4)*(x<=7)])#media"
   ]
  },
  {
   "cell_type": "code",
   "execution_count": 115,
   "metadata": {},
   "outputs": [
    {
     "data": {
      "text/plain": [
       "0.31448753875085117"
      ]
     },
     "execution_count": 115,
     "metadata": {},
     "output_type": "execute_result"
    }
   ],
   "source": [
    "np.std(y[(x>=4)*(x<=7)])#desviación estandar"
   ]
  },
  {
   "cell_type": "code",
   "execution_count": 116,
   "metadata": {},
   "outputs": [
    {
     "data": {
      "text/plain": [
       "0.06145551274590662"
      ]
     },
     "execution_count": 116,
     "metadata": {},
     "output_type": "execute_result"
    }
   ],
   "source": [
    "#ejercicio 3\n",
    "np.percentile(restriccion, 80)"
   ]
  },
  {
   "cell_type": "code",
   "execution_count": 117,
   "metadata": {},
   "outputs": [
    {
     "data": {
      "text/plain": [
       "[<matplotlib.lines.Line2D at 0x267a41383d0>]"
      ]
     },
     "execution_count": 117,
     "metadata": {},
     "output_type": "execute_result"
    },
    {
     "data": {
      "image/png": "[encoded data removed]",
      "text/plain": [
       "<Figure size 432x288 with 1 Axes>"
      ]
     },
     "metadata": {
      "needs_background": "light"
     },
     "output_type": "display_data"
    }
   ],
   "source": [
    "#ejercicio 4\n",
    "derivada=np.gradient(y,x)\n",
    "plt.plot(x,derivada)"
   ]
  },
  {
   "cell_type": "markdown",
   "metadata": {},
   "source": [
    "Para el último ejercicio vamos a discutir algunas formas de hacerlo y por qué no funcionan, ya que es interesante para entender como opera el ordenador discretamente."
   ]
  },
  {
   "cell_type": "code",
   "execution_count": 118,
   "metadata": {},
   "outputs": [
    {
     "data": {
      "text/plain": [
       "array([], dtype=float64)"
      ]
     },
     "execution_count": 118,
     "metadata": {},
     "output_type": "execute_result"
    }
   ],
   "source": [
    "derivada[derivada==0]"
   ]
  },
  {
   "cell_type": "markdown",
   "metadata": {},
   "source": [
    "Indexarlo así estaría de puta madre pero es que numericamente el linspace sólo nos crea un grupo finito de valores los cuales los evaluamos por la funcion $y$ , entonces lo más normal será que la derivada numéricamente no se anule la gran mayoría de las veces por que no caerá en el 0 numérico exacto (por eso nos devuelve un array vacío). \n",
    "\n",
    "Lo que observaríamos es un puntito arriba del eje x y otro puntito debajo. En teoría la función ha pasado por ahí pero sólo tenemos un número finito de valores que podemos plotear."
   ]
  },
  {
   "cell_type": "code",
   "execution_count": 119,
   "metadata": {},
   "outputs": [
    {
     "data": {
      "text/plain": [
       "array([1.471, 4.612, 4.613, 7.754, 7.755])"
      ]
     },
     "execution_count": 119,
     "metadata": {},
     "output_type": "execute_result"
    }
   ],
   "source": [
    "x[(derivada>-0.0005) * (derivada<0.0005)]"
   ]
  },
  {
   "cell_type": "markdown",
   "metadata": {},
   "source": [
    "Aquí lo que le hemos metido es un intervalo de tolerancia pero esto a ojo hay que calcularlo muy bien porque depende de los puntos que generemos con el linspace.\n",
    "\n",
    " Y aquí no nos va a salir el punto exacto donde la derivada se anula, sino la pareja de puntos que arriba y abajo del eje $x$ y eso si tenemos suerte de que el espaciado del linspace quepa en el intervalo de tolerancia, porque lo mismo nos saltamos un cero y no nos damos ni cuenta. Aquí nos aproximamos pero la interpretación del resultado no es exacta. \n",
    "\n",
    "Podemos intentar hacer la media entre resultados que estén muy cerca. Por ejemplo, arriba tendríamos que los ceros de la derivada están en 1.471, 4.612(5), 7.754(5)"
   ]
  },
  {
   "cell_type": "markdown",
   "metadata": {},
   "source": [
    "________________________\n",
    "Probemos ahora a multiplicar elementos consecutivos del array de $\\frac{dy}{dx}$\n",
    "\n",
    "Si truncamos el array derivada del primer elemento no inclusive palante y lo multiplicamos por el array derivada truncado hasta el penúltimo elemento, estamos multiplicando elementos consecutivos (dibuja una serie de puntos consecutivos y quítate el primero y coge los demas, ese es tu primer array. Despues dibuja abajo otra vez la misma serie de puntos y quítate el último y ese es tu otro array. Une con una línea diagonal el primer punto de tu array de arriba con el de abajo y vas a ver cómo se están multiplicando aquí los arrays). Si los elementos son de distinto signo (un punto arriba del eje y otro abajo, es decir, habiendo cruzado el cero), la multiplicación sale negativa. Sólo tendremos que hacer un indexado booleano y filtrarlo."
   ]
  },
  {
   "cell_type": "code",
   "execution_count": 120,
   "metadata": {},
   "outputs": [
    {
     "data": {
      "text/plain": [
       "array([False, False, False, ..., False, False, False])"
      ]
     },
     "execution_count": 120,
     "metadata": {},
     "output_type": "execute_result"
    }
   ],
   "source": [
    "derivada[1:]*derivada[:-1]<0 #el producto del valor i y su consecutivo\n",
    "#es negativo?\n",
    "\n",
    "\n",
    "#este es el método que mejor nos va a funcionar. Atenshon:\n",
    "# x[derivada[1:]*derivada[:-1]<0] así no me va a dejar indexarlo\n",
    "#ni de coña porque al array derivada que era del mismo tamaño\n",
    "#que el array x,le hemos cortado los extremos y el array booleano\n",
    "# mide un elemento menos de x. Veámoslo"
   ]
  },
  {
   "cell_type": "code",
   "execution_count": 121,
   "metadata": {},
   "outputs": [
    {
     "data": {
      "text/plain": [
       "10001"
      ]
     },
     "execution_count": 121,
     "metadata": {},
     "output_type": "execute_result"
    }
   ],
   "source": [
    "np.size(x)"
   ]
  },
  {
   "cell_type": "code",
   "execution_count": 122,
   "metadata": {},
   "outputs": [
    {
     "data": {
      "text/plain": [
       "10000"
      ]
     },
     "execution_count": 122,
     "metadata": {},
     "output_type": "execute_result"
    }
   ],
   "source": [
    "np.size(derivada[1:]*derivada[:-1]<0)"
   ]
  },
  {
   "cell_type": "code",
   "execution_count": 123,
   "metadata": {},
   "outputs": [
    {
     "data": {
      "text/plain": [
       "array([1.472, 4.613, 7.755])"
      ]
     },
     "execution_count": 123,
     "metadata": {},
     "output_type": "execute_result"
    }
   ],
   "source": [
    "#entonces hagamos lo siguiente\n",
    "x[1:][derivada[1:]*derivada[:-1]<0] #dime cuales de los valores de las \n",
    "#x se corresponden con el producto negativo de elementos consecutivos"
   ]
  },
  {
   "cell_type": "markdown",
   "metadata": {},
   "source": [
    "Vamos a calcular la integral por pura curiosidad y vamos a ver donde se anula, que lo mismo nos llevamos una sorpresita."
   ]
  },
  {
   "cell_type": "code",
   "execution_count": 124,
   "metadata": {},
   "outputs": [
    {
     "data": {
      "text/plain": [
       "[<matplotlib.lines.Line2D at 0x267a5176610>]"
      ]
     },
     "execution_count": 124,
     "metadata": {},
     "output_type": "execute_result"
    },
    {
     "data": {
      "image/png": "[encoded data removed]",
      "text/plain": [
       "<Figure size 432x288 with 1 Axes>"
      ]
     },
     "metadata": {
      "needs_background": "light"
     },
     "output_type": "display_data"
    }
   ],
   "source": [
    "integral= np.cumsum(y)*(x[1]-x[0])\n",
    "plt.plot(integral)"
   ]
  },
  {
   "cell_type": "code",
   "execution_count": 125,
   "metadata": {},
   "outputs": [
    {
     "data": {
      "text/plain": [
       "array([], dtype=float64)"
      ]
     },
     "execution_count": 125,
     "metadata": {},
     "output_type": "execute_result"
    }
   ],
   "source": [
    "x[1:][integral[1:]*integral[:-1]<0]"
   ]
  },
  {
   "attachments": {},
   "cell_type": "markdown",
   "metadata": {},
   "source": [
    "VAYA. Parece que la integral se anula en el 0 pero como nosotros en el indexado hemos truncado la x en el primer elemento, nos estamos comiendo el valor $Y(x=0)=0$ y por eso python me devuelve el array indexado como vacío\n",
    "\n",
    "Moraleja: **CHEQUEAR SI LA FUNCIÓN SE ANULA EN LOS EXTREMOS DEL INTERVALO**\n",
    "\n",
    "Esto es lo mismo que el método de bipartición para encontrar los ceros por Bolzano pero en vez de bipartir los intervalos, chequeamos par a par de puntos si se da la condición del signo. Pero el problema de mirar si los extremos de los intervalos se anulan lo seguimos teniendo. Mucho ojito. El ordenador no se equivoca haciendo cuentas pero nosotros tenemos que tener siempre el ojo puesto en lo que hacemos.\n",
    "\n",
    "\n",
    "Creo que esto último tiene solución si le metemos la condición de menor o igual: (no echar muchas cuentas de esto)"
   ]
  },
  {
   "cell_type": "code",
   "execution_count": 126,
   "metadata": {},
   "outputs": [
    {
     "data": {
      "text/plain": [
       "array([0.001])"
      ]
     },
     "execution_count": 126,
     "metadata": {},
     "output_type": "execute_result"
    }
   ],
   "source": [
    "x[1:][integral[1:]*integral[:-1]<=0]"
   ]
  },
  {
   "cell_type": "code",
   "execution_count": 127,
   "metadata": {},
   "outputs": [
    {
     "data": {
      "text/plain": [
       "array([0.00000000e+00, 9.99899838e-07])"
      ]
     },
     "execution_count": 127,
     "metadata": {},
     "output_type": "execute_result"
    }
   ],
   "source": [
    "integral[:2]\n",
    "#esta tratando el segundo valor del array integral como cero porqu es pequeñisimo. Tendríamos el cero exacto y el cero por truncado"
   ]
  },
  {
   "cell_type": "markdown",
   "metadata": {},
   "source": [
    "______\n",
    "\n",
    "> ### *Problema 2*\n",
    "\n",
    "Sume todos los números desde 0 hasta 10000 excepto aquellos divisibles entre 4 o 7. Hágalo en una sóla línea de código"
   ]
  },
  {
   "cell_type": "code",
   "execution_count": 128,
   "metadata": {},
   "outputs": [
    {
     "data": {
      "text/plain": [
       "32147142"
      ]
     },
     "execution_count": 128,
     "metadata": {},
     "output_type": "execute_result"
    }
   ],
   "source": [
    "pic = np.arange(0, 10001,1) #usamos esta línea por limpieza\n",
    "np.cumsum(pic[(pic%4 != 0) * (pic%7 != 0)])[-1] #los elementos de pic\n",
    "# para los cuales el resto de dividirlo por 4 NO es cero O el resto\n",
    "# de dividirlo por 7 NO es cero. Hazme la suma cumulativa de todos \n",
    "# esos elementos y coge el ultimo elemento\n",
    "\n",
    "#o bien...\n",
    "sum(pic[(pic%4 != 0) * (pic%7 != 0)])"
   ]
  },
  {
   "cell_type": "markdown",
   "metadata": {},
   "source": [
    "> ### *Problema 3*\n",
    "\n",
    "Considere el pétalo de flores $r(\\theta)=1+\\frac{3}{4}sin(3\\theta)$ para $0\\le\\theta\\le2\\pi$\n",
    "\n",
    "1- Dibuje el pétalo\n",
    "\n",
    "2- Compute el área usando $ Area = \\int_{0}^{2\\pi} \\frac{1}{2}r^2d\\theta$\n",
    "\n",
    "3- Calcule la longitud de arco usando $ L = \\int_{0}^{2\\pi} \\sqrt{(\\frac{dr}{d\\theta})^2 + r^2} d\\theta$"
   ]
  },
  {
   "cell_type": "code",
   "execution_count": 129,
   "metadata": {},
   "outputs": [
    {
     "data": {
      "text/plain": [
       "[<matplotlib.lines.Line2D at 0x267a3c50340>]"
      ]
     },
     "execution_count": 129,
     "metadata": {},
     "output_type": "execute_result"
    },
    {
     "data": {
      "image/png": "[encoded data removed]",
      "text/plain": [
       "<Figure size 432x288 with 1 Axes>"
      ]
     },
     "metadata": {
      "needs_background": "light"
     },
     "output_type": "display_data"
    }
   ],
   "source": [
    "#ejercicio 1\n",
    "theta= np.linspace(0,2*np.pi,1000)\n",
    "r_theta=1+0.75*np.sin(3*theta)\n",
    "plt.plot(theta,r_theta)\n",
    "\n",
    "#facil no?"
   ]
  },
  {
   "cell_type": "markdown",
   "metadata": {},
   "source": [
    "VAYA. \n",
    "\n",
    "Resulta que tú te imaginas que porque tu variable se llame $\\theta$ ya se hace todo en coordenadas polares. Y es que python te dibuja las cosas en cartesianas por defecto. Así que le da igual que lo llames $x$ o $\\theta$. Tienes que aplicar una transformación a las variables. Si te acuerdas como eran las transformaciones entre polares y cartesianas, que iban con seno y coseno, es hora de usarlas."
   ]
  },
  {
   "cell_type": "code",
   "execution_count": 130,
   "metadata": {},
   "outputs": [
    {
     "data": {
      "text/plain": [
       "[<matplotlib.lines.Line2D at 0x267a51ebdc0>]"
      ]
     },
     "execution_count": 130,
     "metadata": {},
     "output_type": "execute_result"
    },
    {
     "data": {
      "image/png": "[encoded data removed]",
      "text/plain": [
       "<Figure size 432x288 with 1 Axes>"
      ]
     },
     "metadata": {
      "needs_background": "light"
     },
     "output_type": "display_data"
    }
   ],
   "source": [
    "#Vamos a transformar DE POLARES A CARTESIANAS\n",
    "x = r_theta* np.cos(theta)\n",
    "y = r_theta* np.sin(theta)\n",
    "\n",
    "plt.plot(x,y)"
   ]
  },
  {
   "cell_type": "code",
   "execution_count": 131,
   "metadata": {},
   "outputs": [
    {
     "data": {
      "text/plain": [
       "array([3.14473739e-03, 6.37910355e-03, 9.70432528e-03, 1.31215950e-02,\n",
       "       1.66320690e-02, 2.02368658e-02, 2.39370642e-02, 2.77337017e-02,\n",
       "       3.16277728e-02, 3.56202275e-02, 3.97119693e-02, 4.39038541e-02,\n",
       "       4.81966882e-02, 5.25912271e-02, 5.70881738e-02, 6.16881775e-02,\n",
       "       6.63918322e-02, 7.11996754e-02, 7.61121864e-02, 8.11297858e-02,\n",
       "       8.62528336e-02, 9.14816283e-02, 9.68164061e-02, 1.02257339e-01,\n",
       "       1.07804536e-01, 1.13458039e-01, 1.19217824e-01, 1.25083800e-01,\n",
       "       1.31055809e-01, 1.37133623e-01, 1.43316946e-01, 1.49605413e-01,\n",
       "       1.55998588e-01, 1.62495964e-01, 1.69096966e-01, 1.75800945e-01,\n",
       "       1.82607183e-01, 1.89514891e-01, 1.96523207e-01, 2.03631200e-01,\n",
       "       2.10837868e-01, 2.18142136e-01, 2.25542862e-01, 2.33038831e-01,\n",
       "       2.40628760e-01, 2.48311297e-01, 2.56085023e-01, 2.63948447e-01,\n",
       "       2.71900015e-01, 2.79938106e-01, 2.88061033e-01, 2.96267045e-01,\n",
       "       3.04554328e-01, 3.12921005e-01, 3.21365139e-01, 3.29884733e-01,\n",
       "       3.38477732e-01, 3.47142024e-01, 3.55875440e-01, 3.64675758e-01,\n",
       "       3.73540705e-01, 3.82467955e-01, 3.91455134e-01, 4.00499819e-01,\n",
       "       4.09599543e-01, 4.18751796e-01, 4.27954023e-01, 4.37203633e-01,\n",
       "       4.46497993e-01, 4.55834438e-01, 4.65210267e-01, 4.74622747e-01,\n",
       "       4.84069116e-01, 4.93546585e-01, 5.03052341e-01, 5.12583545e-01,\n",
       "       5.22137340e-01, 5.31710850e-01, 5.41301182e-01, 5.50905431e-01,\n",
       "       5.60520679e-01, 5.70144001e-01, 5.79772463e-01, 5.89403130e-01,\n",
       "       5.99033061e-01, 6.08659320e-01, 6.18278972e-01, 6.27889086e-01,\n",
       "       6.37486740e-01, 6.47069023e-01, 6.56633036e-01, 6.66175894e-01,\n",
       "       6.75694730e-01, 6.85186696e-01, 6.94648966e-01, 7.04078737e-01,\n",
       "       7.13473235e-01, 7.22829711e-01, 7.32145449e-01, 7.41417766e-01,\n",
       "       7.50644011e-01, 7.59821572e-01, 7.68947877e-01, 7.78020393e-01,\n",
       "       7.87036631e-01, 7.95994145e-01, 8.04890537e-01, 8.13723457e-01,\n",
       "       8.22490606e-01, 8.31189734e-01, 8.39818647e-01, 8.48375204e-01,\n",
       "       8.56857322e-01, 8.65262973e-01, 8.73590191e-01, 8.81837069e-01,\n",
       "       8.90001761e-01, 8.98082485e-01, 9.06077521e-01, 9.13985216e-01,\n",
       "       9.21803981e-01, 9.29532295e-01, 9.37168701e-01, 9.44711815e-01,\n",
       "       9.52160319e-01, 9.59512963e-01, 9.66768569e-01, 9.73926029e-01,\n",
       "       9.80984305e-01, 9.87942429e-01, 9.94799505e-01, 1.00155471e+00,\n",
       "       1.00820728e+00, 1.01475655e+00, 1.02120189e+00, 1.02754277e+00,\n",
       "       1.03377872e+00, 1.03990933e+00, 1.04593427e+00, 1.05185329e+00,\n",
       "       1.05766618e+00, 1.06337284e+00, 1.06897318e+00, 1.07446724e+00,\n",
       "       1.07985508e+00, 1.08513684e+00, 1.09031273e+00, 1.09538301e+00,\n",
       "       1.10034801e+00, 1.10520814e+00, 1.10996382e+00, 1.11461558e+00,\n",
       "       1.11916398e+00, 1.12360964e+00, 1.12795323e+00, 1.13219549e+00,\n",
       "       1.13633720e+00, 1.14037919e+00, 1.14432234e+00, 1.14816757e+00,\n",
       "       1.15191586e+00, 1.15556823e+00, 1.15912572e+00, 1.16258945e+00,\n",
       "       1.16596055e+00, 1.16924020e+00, 1.17242959e+00, 1.17552998e+00,\n",
       "       1.17854265e+00, 1.18146889e+00, 1.18431004e+00, 1.18706746e+00,\n",
       "       1.18974254e+00, 1.19233667e+00, 1.19485129e+00, 1.19728784e+00,\n",
       "       1.19964779e+00, 1.20193261e+00, 1.20414380e+00, 1.20628286e+00,\n",
       "       1.20835130e+00, 1.21035065e+00, 1.21228244e+00, 1.21414820e+00,\n",
       "       1.21594947e+00, 1.21768778e+00, 1.21936469e+00, 1.22098171e+00,\n",
       "       1.22254040e+00, 1.22404227e+00, 1.22548886e+00, 1.22688167e+00,\n",
       "       1.22822223e+00, 1.22951201e+00, 1.23075251e+00, 1.23194521e+00,\n",
       "       1.23309155e+00, 1.23419299e+00, 1.23525095e+00, 1.23626684e+00,\n",
       "       1.23724205e+00, 1.23817795e+00, 1.23907591e+00, 1.23993724e+00,\n",
       "       1.24076326e+00, 1.24155525e+00, 1.24231448e+00, 1.24304219e+00,\n",
       "       1.24373959e+00, 1.24440788e+00, 1.24504821e+00, 1.24566173e+00,\n",
       "       1.24624956e+00, 1.24681277e+00, 1.24735244e+00, 1.24786959e+00,\n",
       "       1.24836523e+00, 1.24884035e+00, 1.24929590e+00, 1.24973281e+00,\n",
       "       1.25015197e+00, 1.25055428e+00, 1.25094057e+00, 1.25131167e+00,\n",
       "       1.25166838e+00, 1.25201148e+00, 1.25234171e+00, 1.25265980e+00,\n",
       "       1.25296647e+00, 1.25326238e+00, 1.25354820e+00, 1.25382456e+00,\n",
       "       1.25409209e+00, 1.25435138e+00, 1.25460302e+00, 1.25484756e+00,\n",
       "       1.25508555e+00, 1.25531753e+00, 1.25554400e+00, 1.25576546e+00,\n",
       "       1.25598241e+00, 1.25619532e+00, 1.25640465e+00, 1.25661087e+00,\n",
       "       1.25681441e+00, 1.25701572e+00, 1.25721523e+00, 1.25741336e+00,\n",
       "       1.25761055e+00, 1.25780722e+00, 1.25800377e+00, 1.25820065e+00,\n",
       "       1.25839826e+00, 1.25859703e+00, 1.25879738e+00, 1.25899975e+00,\n",
       "       1.25920457e+00, 1.25941229e+00, 1.25962335e+00, 1.25983822e+00,\n",
       "       1.26005737e+00, 1.26028128e+00, 1.26051044e+00, 1.26074535e+00,\n",
       "       1.26098656e+00, 1.26123458e+00, 1.26148997e+00, 1.26175331e+00,\n",
       "       1.26202518e+00, 1.26230619e+00, 1.26259697e+00, 1.26289818e+00,\n",
       "       1.26321047e+00, 1.26353454e+00, 1.26387111e+00, 1.26422092e+00,\n",
       "       1.26458473e+00, 1.26496332e+00, 1.26535752e+00, 1.26576814e+00,\n",
       "       1.26619607e+00, 1.26664218e+00, 1.26710740e+00, 1.26759266e+00,\n",
       "       1.26809893e+00, 1.26862721e+00, 1.26917852e+00, 1.26975391e+00,\n",
       "       1.27035444e+00, 1.27098123e+00, 1.27163540e+00, 1.27231809e+00,\n",
       "       1.27303050e+00, 1.27377381e+00, 1.27454927e+00, 1.27535811e+00,\n",
       "       1.27620163e+00, 1.27708110e+00, 1.27799787e+00, 1.27895326e+00,\n",
       "       1.27994863e+00, 1.28098538e+00, 1.28206490e+00, 1.28318862e+00,\n",
       "       1.28435795e+00, 1.28557437e+00, 1.28683933e+00, 1.28815431e+00,\n",
       "       1.28952080e+00, 1.29094032e+00, 1.29241436e+00, 1.29394444e+00,\n",
       "       1.29553211e+00, 1.29717888e+00, 1.29888630e+00, 1.30065590e+00,\n",
       "       1.30248922e+00, 1.30438780e+00, 1.30635318e+00, 1.30838689e+00,\n",
       "       1.31049045e+00, 1.31266538e+00, 1.31491320e+00, 1.31723540e+00,\n",
       "       1.31963346e+00, 1.32210887e+00, 1.32466306e+00, 1.32729749e+00,\n",
       "       1.33001356e+00, 1.33281268e+00, 1.33569621e+00, 1.33866549e+00,\n",
       "       1.34172186e+00, 1.34486660e+00, 1.34810097e+00, 1.35142619e+00,\n",
       "       1.35484346e+00, 1.35835393e+00, 1.36195873e+00, 1.36565893e+00,\n",
       "       1.36945556e+00, 1.37334964e+00, 1.37734209e+00, 1.38143383e+00,\n",
       "       1.38562572e+00, 1.38991855e+00, 1.39431309e+00, 1.39881004e+00,\n",
       "       1.40341004e+00, 1.40811369e+00, 1.41292154e+00, 1.41783405e+00,\n",
       "       1.42285165e+00, 1.42797470e+00, 1.43320349e+00, 1.43853827e+00,\n",
       "       1.44397920e+00, 1.44952640e+00, 1.45517990e+00, 1.46093969e+00,\n",
       "       1.46680566e+00, 1.47277767e+00, 1.47885549e+00, 1.48503881e+00,\n",
       "       1.49132728e+00, 1.49772045e+00, 1.50421783e+00, 1.51081883e+00,\n",
       "       1.51752281e+00, 1.52432905e+00, 1.53123675e+00, 1.53824507e+00,\n",
       "       1.54535306e+00, 1.55255973e+00, 1.55986400e+00, 1.56726472e+00,\n",
       "       1.57476069e+00, 1.58235062e+00, 1.59003316e+00, 1.59780689e+00,\n",
       "       1.60567031e+00, 1.61362188e+00, 1.62165997e+00, 1.62978290e+00,\n",
       "       1.63798891e+00, 1.64627619e+00, 1.65464287e+00, 1.66308700e+00,\n",
       "       1.67160660e+00, 1.68019959e+00, 1.68886389e+00, 1.69759730e+00,\n",
       "       1.70639762e+00, 1.71526257e+00, 1.72418982e+00, 1.73317700e+00,\n",
       "       1.74222168e+00, 1.75132141e+00, 1.76047366e+00, 1.76967589e+00,\n",
       "       1.77892550e+00, 1.78821986e+00, 1.79755630e+00, 1.80693213e+00,\n",
       "       1.81634461e+00, 1.82579098e+00, 1.83526845e+00, 1.84477420e+00,\n",
       "       1.85430541e+00, 1.86385920e+00, 1.87343271e+00, 1.88302304e+00,\n",
       "       1.89262729e+00, 1.90224254e+00, 1.91186586e+00, 1.92149433e+00,\n",
       "       1.93112499e+00, 1.94075492e+00, 1.95038118e+00, 1.96000083e+00,\n",
       "       1.96961095e+00, 1.97920860e+00, 1.98879089e+00, 1.99835490e+00,\n",
       "       2.00789776e+00, 2.01741659e+00, 2.02690856e+00, 2.03637083e+00,\n",
       "       2.04580060e+00, 2.05519510e+00, 2.06455157e+00, 2.07386731e+00,\n",
       "       2.08313963e+00, 2.09236587e+00, 2.10154343e+00, 2.11066974e+00,\n",
       "       2.11974226e+00, 2.12875849e+00, 2.13771601e+00, 2.14661240e+00,\n",
       "       2.15544532e+00, 2.16421247e+00, 2.17291160e+00, 2.18154051e+00,\n",
       "       2.19009707e+00, 2.19857918e+00, 2.20698484e+00, 2.21531205e+00,\n",
       "       2.22355893e+00, 2.23172362e+00, 2.23980435e+00, 2.24779938e+00,\n",
       "       2.25570708e+00, 2.26352584e+00, 2.27125416e+00, 2.27889056e+00,\n",
       "       2.28643368e+00, 2.29388218e+00, 2.30123483e+00, 2.30849043e+00,\n",
       "       2.31564789e+00, 2.32270617e+00, 2.32966429e+00, 2.33652137e+00,\n",
       "       2.34327657e+00, 2.34992915e+00, 2.35647841e+00, 2.36292376e+00,\n",
       "       2.36926463e+00, 2.37550058e+00, 2.38163119e+00, 2.38765613e+00,\n",
       "       2.39357515e+00, 2.39938805e+00, 2.40509470e+00, 2.41069505e+00,\n",
       "       2.41618910e+00, 2.42157694e+00, 2.42685870e+00, 2.43203459e+00,\n",
       "       2.43710487e+00, 2.44206988e+00, 2.44693000e+00, 2.45168568e+00,\n",
       "       2.45633744e+00, 2.46088584e+00, 2.46533150e+00, 2.46967509e+00,\n",
       "       2.47391735e+00, 2.47805906e+00, 2.48210105e+00, 2.48604420e+00,\n",
       "       2.48988943e+00, 2.49363772e+00, 2.49729009e+00, 2.50084759e+00,\n",
       "       2.50431132e+00, 2.50768241e+00, 2.51096206e+00, 2.51415145e+00,\n",
       "       2.51725185e+00, 2.52026451e+00, 2.52319075e+00, 2.52603191e+00,\n",
       "       2.52878933e+00, 2.53146440e+00, 2.53405853e+00, 2.53657315e+00,\n",
       "       2.53900970e+00, 2.54136965e+00, 2.54365447e+00, 2.54586566e+00,\n",
       "       2.54800472e+00, 2.55007316e+00, 2.55207251e+00, 2.55400430e+00,\n",
       "       2.55587006e+00, 2.55767133e+00, 2.55940965e+00, 2.56108655e+00,\n",
       "       2.56270357e+00, 2.56426226e+00, 2.56576413e+00, 2.56721072e+00,\n",
       "       2.56860354e+00, 2.56994409e+00, 2.57123387e+00, 2.57247437e+00,\n",
       "       2.57366707e+00, 2.57481341e+00, 2.57591485e+00, 2.57697281e+00,\n",
       "       2.57798870e+00, 2.57896391e+00, 2.57989982e+00, 2.58079777e+00,\n",
       "       2.58165910e+00, 2.58248512e+00, 2.58327711e+00, 2.58403635e+00,\n",
       "       2.58476405e+00, 2.58546146e+00, 2.58612974e+00, 2.58677007e+00,\n",
       "       2.58738360e+00, 2.58797142e+00, 2.58853463e+00, 2.58907430e+00,\n",
       "       2.58959145e+00, 2.59008709e+00, 2.59056221e+00, 2.59101776e+00,\n",
       "       2.59145467e+00, 2.59187384e+00, 2.59227614e+00, 2.59266243e+00,\n",
       "       2.59303353e+00, 2.59339024e+00, 2.59373334e+00, 2.59406357e+00,\n",
       "       2.59438167e+00, 2.59468833e+00, 2.59498424e+00, 2.59527006e+00,\n",
       "       2.59554642e+00, 2.59581395e+00, 2.59607324e+00, 2.59632488e+00,\n",
       "       2.59656942e+00, 2.59680742e+00, 2.59703939e+00, 2.59726586e+00,\n",
       "       2.59748733e+00, 2.59770427e+00, 2.59791718e+00, 2.59812652e+00,\n",
       "       2.59833273e+00, 2.59853627e+00, 2.59873758e+00, 2.59893709e+00,\n",
       "       2.59913522e+00, 2.59933241e+00, 2.59952908e+00, 2.59972564e+00,\n",
       "       2.59992251e+00, 2.60012012e+00, 2.60031889e+00, 2.60051924e+00,\n",
       "       2.60072161e+00, 2.60092644e+00, 2.60113415e+00, 2.60134522e+00,\n",
       "       2.60156009e+00, 2.60177923e+00, 2.60200314e+00, 2.60223230e+00,\n",
       "       2.60246722e+00, 2.60270842e+00, 2.60295644e+00, 2.60321183e+00,\n",
       "       2.60347517e+00, 2.60374704e+00, 2.60402805e+00, 2.60431884e+00,\n",
       "       2.60462004e+00, 2.60493233e+00, 2.60525640e+00, 2.60559298e+00,\n",
       "       2.60594279e+00, 2.60630659e+00, 2.60668519e+00, 2.60707938e+00,\n",
       "       2.60749001e+00, 2.60791793e+00, 2.60836405e+00, 2.60882926e+00,\n",
       "       2.60931452e+00, 2.60982080e+00, 2.61034908e+00, 2.61090039e+00,\n",
       "       2.61147577e+00, 2.61207631e+00, 2.61270309e+00, 2.61335726e+00,\n",
       "       2.61403995e+00, 2.61475236e+00, 2.61549567e+00, 2.61627113e+00,\n",
       "       2.61707998e+00, 2.61792349e+00, 2.61880297e+00, 2.61971973e+00,\n",
       "       2.62067512e+00, 2.62167050e+00, 2.62270725e+00, 2.62378677e+00,\n",
       "       2.62491048e+00, 2.62607982e+00, 2.62729623e+00, 2.62856119e+00,\n",
       "       2.62987617e+00, 2.63124267e+00, 2.63266218e+00, 2.63413622e+00,\n",
       "       2.63566631e+00, 2.63725397e+00, 2.63890074e+00, 2.64060816e+00,\n",
       "       2.64237776e+00, 2.64421108e+00, 2.64610966e+00, 2.64807504e+00,\n",
       "       2.65010875e+00, 2.65221231e+00, 2.65438725e+00, 2.65663506e+00,\n",
       "       2.65895726e+00, 2.66135533e+00, 2.66383073e+00, 2.66638493e+00,\n",
       "       2.66901935e+00, 2.67173542e+00, 2.67453454e+00, 2.67741807e+00,\n",
       "       2.68038736e+00, 2.68344372e+00, 2.68658846e+00, 2.68982283e+00,\n",
       "       2.69314805e+00, 2.69656532e+00, 2.70007579e+00, 2.70368059e+00,\n",
       "       2.70738079e+00, 2.71117743e+00, 2.71507150e+00, 2.71906395e+00,\n",
       "       2.72315569e+00, 2.72734758e+00, 2.73164041e+00, 2.73603495e+00,\n",
       "       2.74053190e+00, 2.74513190e+00, 2.74983556e+00, 2.75464340e+00,\n",
       "       2.75955591e+00, 2.76457351e+00, 2.76969656e+00, 2.77492535e+00,\n",
       "       2.78026013e+00, 2.78570106e+00, 2.79124826e+00, 2.79690176e+00,\n",
       "       2.80266155e+00, 2.80852752e+00, 2.81449953e+00, 2.82057735e+00,\n",
       "       2.82676067e+00, 2.83304914e+00, 2.83944231e+00, 2.84593969e+00,\n",
       "       2.85254069e+00, 2.85924467e+00, 2.86605091e+00, 2.87295862e+00,\n",
       "       2.87996693e+00, 2.88707493e+00, 2.89428159e+00, 2.90158586e+00,\n",
       "       2.90898659e+00, 2.91648256e+00, 2.92407248e+00, 2.93175502e+00,\n",
       "       2.93952875e+00, 2.94739217e+00, 2.95534374e+00, 2.96338183e+00,\n",
       "       2.97150476e+00, 2.97971077e+00, 2.98799805e+00, 2.99636473e+00,\n",
       "       3.00480886e+00, 3.01332846e+00, 3.02192146e+00, 3.03058575e+00,\n",
       "       3.03931916e+00, 3.04811948e+00, 3.05698443e+00, 3.06591168e+00,\n",
       "       3.07489886e+00, 3.08394354e+00, 3.09304327e+00, 3.10219552e+00,\n",
       "       3.11139775e+00, 3.12064736e+00, 3.12994172e+00, 3.13927816e+00,\n",
       "       3.14865399e+00, 3.15806647e+00, 3.16751284e+00, 3.17699031e+00,\n",
       "       3.18649607e+00, 3.19602727e+00, 3.20558107e+00, 3.21515457e+00,\n",
       "       3.22474491e+00, 3.23434916e+00, 3.24396440e+00, 3.25358773e+00,\n",
       "       3.26321619e+00, 3.27284685e+00, 3.28247679e+00, 3.29210305e+00,\n",
       "       3.30172270e+00, 3.31133281e+00, 3.32093046e+00, 3.33051275e+00,\n",
       "       3.34007676e+00, 3.34961962e+00, 3.35913846e+00, 3.36863042e+00,\n",
       "       3.37809269e+00, 3.38752246e+00, 3.39691696e+00, 3.40627344e+00,\n",
       "       3.41558917e+00, 3.42486149e+00, 3.43408774e+00, 3.44326530e+00,\n",
       "       3.45239160e+00, 3.46146412e+00, 3.47048036e+00, 3.47943787e+00,\n",
       "       3.48833426e+00, 3.49716718e+00, 3.50593433e+00, 3.51463346e+00,\n",
       "       3.52326237e+00, 3.53181893e+00, 3.54030105e+00, 3.54870670e+00,\n",
       "       3.55703392e+00, 3.56528079e+00, 3.57344549e+00, 3.58152621e+00,\n",
       "       3.58952125e+00, 3.59742894e+00, 3.60524771e+00, 3.61297602e+00,\n",
       "       3.62061243e+00, 3.62815554e+00, 3.63560404e+00, 3.64295669e+00,\n",
       "       3.65021229e+00, 3.65736975e+00, 3.66442803e+00, 3.67138615e+00,\n",
       "       3.67824323e+00, 3.68499843e+00, 3.69165101e+00, 3.69820027e+00,\n",
       "       3.70464562e+00, 3.71098650e+00, 3.71722244e+00, 3.72335305e+00,\n",
       "       3.72937800e+00, 3.73529701e+00, 3.74110991e+00, 3.74681656e+00,\n",
       "       3.75241691e+00, 3.75791096e+00, 3.76329880e+00, 3.76858056e+00,\n",
       "       3.77375645e+00, 3.77882673e+00, 3.78379174e+00, 3.78865186e+00,\n",
       "       3.79340755e+00, 3.79805930e+00, 3.80260770e+00, 3.80705336e+00,\n",
       "       3.81139696e+00, 3.81563922e+00, 3.81978093e+00, 3.82382291e+00,\n",
       "       3.82776606e+00, 3.83161129e+00, 3.83535959e+00, 3.83901195e+00,\n",
       "       3.84256945e+00, 3.84603318e+00, 3.84940428e+00, 3.85268392e+00,\n",
       "       3.85587332e+00, 3.85897371e+00, 3.86198637e+00, 3.86491262e+00,\n",
       "       3.86775377e+00, 3.87051119e+00, 3.87318626e+00, 3.87578040e+00,\n",
       "       3.87829502e+00, 3.88073157e+00, 3.88309151e+00, 3.88537633e+00,\n",
       "       3.88758752e+00, 3.88972658e+00, 3.89179502e+00, 3.89379438e+00,\n",
       "       3.89572616e+00, 3.89759192e+00, 3.89939319e+00, 3.90113151e+00,\n",
       "       3.90280841e+00, 3.90442544e+00, 3.90598412e+00, 3.90748600e+00,\n",
       "       3.90893258e+00, 3.91032540e+00, 3.91166595e+00, 3.91295573e+00,\n",
       "       3.91419624e+00, 3.91538893e+00, 3.91653528e+00, 3.91763671e+00,\n",
       "       3.91869467e+00, 3.91971056e+00, 3.92068577e+00, 3.92162168e+00,\n",
       "       3.92251963e+00, 3.92338097e+00, 3.92420698e+00, 3.92499898e+00,\n",
       "       3.92575821e+00, 3.92648592e+00, 3.92718332e+00, 3.92785160e+00,\n",
       "       3.92849194e+00, 3.92910546e+00, 3.92969328e+00, 3.93025650e+00,\n",
       "       3.93079616e+00, 3.93131331e+00, 3.93180896e+00, 3.93228408e+00,\n",
       "       3.93273963e+00, 3.93317653e+00, 3.93359570e+00, 3.93399800e+00,\n",
       "       3.93438429e+00, 3.93475539e+00, 3.93511210e+00, 3.93545520e+00,\n",
       "       3.93578543e+00, 3.93610353e+00, 3.93641019e+00, 3.93670610e+00,\n",
       "       3.93699192e+00, 3.93726828e+00, 3.93753581e+00, 3.93779511e+00,\n",
       "       3.93804674e+00, 3.93829129e+00, 3.93852928e+00, 3.93876125e+00,\n",
       "       3.93898772e+00, 3.93920919e+00, 3.93942614e+00, 3.93963905e+00,\n",
       "       3.93984838e+00, 3.94005459e+00, 3.94025813e+00, 3.94045944e+00,\n",
       "       3.94065895e+00, 3.94085709e+00, 3.94105428e+00, 3.94125094e+00,\n",
       "       3.94144750e+00, 3.94164437e+00, 3.94184198e+00, 3.94204075e+00,\n",
       "       3.94224111e+00, 3.94244348e+00, 3.94264830e+00, 3.94285602e+00,\n",
       "       3.94306708e+00, 3.94328195e+00, 3.94350110e+00, 3.94372500e+00,\n",
       "       3.94395416e+00, 3.94418908e+00, 3.94443028e+00, 3.94467830e+00,\n",
       "       3.94493369e+00, 3.94519703e+00, 3.94546890e+00, 3.94574991e+00,\n",
       "       3.94604070e+00, 3.94634190e+00, 3.94665419e+00, 3.94697827e+00,\n",
       "       3.94731484e+00, 3.94766465e+00, 3.94802846e+00, 3.94840705e+00,\n",
       "       3.94880124e+00, 3.94921187e+00, 3.94963979e+00, 3.95008591e+00,\n",
       "       3.95055112e+00, 3.95103639e+00, 3.95154266e+00, 3.95207094e+00,\n",
       "       3.95262225e+00, 3.95319763e+00, 3.95379817e+00, 3.95442496e+00,\n",
       "       3.95507912e+00, 3.95576182e+00, 3.95647422e+00, 3.95721754e+00,\n",
       "       3.95799299e+00, 3.95880184e+00, 3.95964535e+00, 3.96052483e+00,\n",
       "       3.96144159e+00, 3.96239698e+00, 3.96339236e+00, 3.96442911e+00,\n",
       "       3.96550863e+00, 3.96663234e+00, 3.96780168e+00, 3.96901809e+00,\n",
       "       3.97028305e+00, 3.97159803e+00, 3.97296453e+00, 3.97438404e+00,\n",
       "       3.97585808e+00, 3.97738817e+00, 3.97897583e+00, 3.98062261e+00,\n",
       "       3.98233002e+00, 3.98409962e+00, 3.98593295e+00, 3.98783153e+00,\n",
       "       3.98979691e+00, 3.99183061e+00, 3.99393417e+00, 3.99610911e+00,\n",
       "       3.99835693e+00, 4.00067912e+00, 4.00307719e+00, 4.00555259e+00,\n",
       "       4.00810679e+00, 4.01074121e+00, 4.01345729e+00, 4.01625640e+00,\n",
       "       4.01913993e+00, 4.02210922e+00, 4.02516559e+00, 4.02831032e+00])"
      ]
     },
     "execution_count": 131,
     "metadata": {},
     "output_type": "execute_result"
    }
   ],
   "source": [
    "#ejercicio 2\n",
    "\n",
    "np.cumsum(0.5*r_theta**2)*(theta[1]-theta[0])"
   ]
  },
  {
   "cell_type": "markdown",
   "metadata": {},
   "source": [
    "VAYA.\n",
    "\n",
    "Pero si yo lo que quería era un número, no un array.\n",
    "\n",
    "Pues es que se nos ha metido en la cabeza que la integral se hace con *np.cumsum* y a juir y nos olvidamos de que trabajamos con arrays por algo. Cuando aplicamos *cumsum* nos sale el array con los valores de la primitiva. \n",
    "\n",
    "Realmente como lo hemos hecho está bien porque sólo nos tendríamos que quedar con el último valor del array anterior, que es 4.028 que es el valor del área que estamos buscando, pero es poco elegante. \n",
    "\n",
    "Moraleja: Utilicemos *cumsum* cuando estemos pensando en el plot de la función primitiva y utilicemos *sum* cuando queramos una cifra, que es la suma de los valores del array.\n",
    "\n",
    "Como lo que queremos es sumar, pues sumemos, joder. (Igual que en el ejercicio anterior)"
   ]
  },
  {
   "cell_type": "code",
   "execution_count": 132,
   "metadata": {},
   "outputs": [
    {
     "data": {
      "text/plain": [
       "4.028310324802908"
      ]
     },
     "execution_count": 132,
     "metadata": {},
     "output_type": "execute_result"
    }
   ],
   "source": [
    "Area = 0.5 * sum(r_theta**2) * (theta[1]-theta[0]) #la suma llega hasta 2pi porque los limites de integracion estan definidos en el propio array de theta\n",
    "\n",
    "Area"
   ]
  },
  {
   "cell_type": "code",
   "execution_count": 133,
   "metadata": {},
   "outputs": [
    {
     "data": {
      "text/plain": [
       "11.640021569013872"
      ]
     },
     "execution_count": 133,
     "metadata": {},
     "output_type": "execute_result"
    }
   ],
   "source": [
    "Arco = sum(np.sqrt(r_theta**2 + np.gradient(r_theta, theta)**2)) * (theta[1]-theta[0])\n",
    "\n",
    "Arco"
   ]
  },
  {
   "cell_type": "markdown",
   "metadata": {},
   "source": [
    "Aquí podíamos haber computado el tema utiizando *cumsum*, pero no se nos debe olvidar que la derivada que estamos haciendo es numérica y que por lo tanto es otro array. Sólo nos tenemos que currar el argumento de *sum* un poquito más y ya está, recuerda que sólo necesitamos un número, no un array."
   ]
  },
  {
   "cell_type": "markdown",
   "metadata": {},
   "source": [
    "\n",
    "> ### *Problema 4*\n",
    "\n",
    "La potencia enmitida por un cuerpo negro es de la forma $P=A \\sigma \\epsilon T^4 $\n",
    "\n",
    " Después de medir la temperatura de una estrella se encuentra que la Temperatura tiene una dependencia temporal como $T(t)=\\frac{T_0}{1+e^{-kt}}$\n",
    "\n",
    "Dibuje la energía total emitida por la estrella como función del tiempo, la cual tiene una expresión de la forma $E(t)=\\int_{t'=0}^{t'=t} P(t')dt'$"
   ]
  },
  {
   "cell_type": "markdown",
   "metadata": {},
   "source": [
    "........................"
   ]
  },
  {
   "cell_type": "markdown",
   "metadata": {},
   "source": [
    "Bueno, aquí hay un viaje de cosas que no sabemos. Por lo pronto no sabemos el valor de las constantes, pero reescribamos el término de potencia.\n",
    "\n",
    "$$P=A \\sigma \\epsilon(\\frac{T_0}{1+e^{-kt}})^4$$\n",
    "\n",
    "Entonces cómo vamos a dibujar la energia si no sabemos las constantes? Utilicemos cantidades adimensionales, porque eso es lo único que podemos manejar.\n",
    "\n",
    "Realmente ya con $P$ no podemos lidiar, pero podemos trabajar con $$ \\frac{P}{A \\sigma \\epsilon}= (\\frac{T_0}{1+e^{-kt}})^4$$\n",
    "\n",
    "Tampoco sé lo que vale $T_0$, así que vamos a pasarlo al otro miembro también $$P_{norm}=\\frac{P}{A \\sigma \\epsilon {T_0}^4}= \\frac{1}{(1+e^{-kt})^4}$$\n",
    "\n",
    "Todavía tenemos la $k$ esa dando por culo y no me la puedo quitar de en medio porque va con la $t$.\n",
    "\n",
    "La cuestión es que ya no vamos a plotear la energía en sí tal y como nos la piden en el ejercicio, sino una energía modificada (que se va a ver modificada de nuevo por un cambio de variable, ahora lo veremos). Podemos llamarla energía normalizada o como queramos, pero lo que tenemos que tener en cuenta es que la energía como tal, no podemos evaluarla. Si supiera el valor de $k$ , sustituyo el numerito y evalúo la integral en $t$ y punto.\n",
    "\n",
    "Como $kt$ va junto, pues vamos a tratarlas juntos. Vamos a variar $kt$ como un todo. Recuerda que $kt$ es adimensional porque $k$ tiene unidades de $[t]^{-1}$\n",
    "\n",
    "Dicho esto: veamos la pinta que tiene la Potencia normalizada"
   ]
  },
  {
   "cell_type": "code",
   "execution_count": 134,
   "metadata": {},
   "outputs": [
    {
     "data": {
      "text/plain": [
       "[<matplotlib.lines.Line2D at 0x267a5278970>]"
      ]
     },
     "execution_count": 134,
     "metadata": {},
     "output_type": "execute_result"
    },
    {
     "data": {
      "image/png": "[encoded data removed]",
      "text/plain": [
       "<Figure size 432x288 with 1 Axes>"
      ]
     },
     "metadata": {
      "needs_background": "light"
     },
     "output_type": "display_data"
    }
   ],
   "source": [
    "kt = np.linspace(0,3,1000) #los límites de integración son arbitrarios\n",
    "P_norm = (1/(1+np.exp(-kt)))**4\n",
    "\n",
    "plt.plot(kt,P_norm)"
   ]
  },
  {
   "cell_type": "markdown",
   "metadata": {},
   "source": [
    "Ahora realizamos la integral $\\tilde{E}_{norm}=E_{norm}k=\\frac{k}{A \\sigma \\epsilon {T_0}^4} E(kt)=\\int_{t''_1}^{t''_2} P_{norm}  d\\gamma$ donde $\\gamma=kt$"
   ]
  },
  {
   "cell_type": "code",
   "execution_count": 135,
   "metadata": {},
   "outputs": [
    {
     "data": {
      "text/plain": [
       "Text(0, 0.5, '$\\\\tilde{E}_{norm}=\\\\frac{k}{A \\\\sigma \\\\epsilon {T_0}^4}  E(kt)$')"
      ]
     },
     "execution_count": 135,
     "metadata": {},
     "output_type": "execute_result"
    },
    {
     "data": {
      "image/png": "[encoded data removed]",
      "text/plain": [
       "<Figure size 432x288 with 1 Axes>"
      ]
     },
     "metadata": {
      "needs_background": "light"
     },
     "output_type": "display_data"
    }
   ],
   "source": [
    "E_norm = np.cumsum(P_norm) * (kt[1]-kt[0])\n",
    "plt.plot(kt,E_norm)\n",
    "\n",
    "plt.xlabel('$kt$', size= 20)\n",
    "plt.ylabel(r'$\\tilde{E}_{norm}=\\frac{k}{A \\sigma \\epsilon {T_0}^4}  E(kt)$' , size= 15) #la 'r' al principio le da permiso al label para que tenga ecs. en markdown\n",
    "#plt.savefig('filename.jpg', dpi=300) para guardarlo en buena resolucion"
   ]
  },
  {
   "cell_type": "markdown",
   "metadata": {},
   "source": [
    "OJITO CON ESTO.\n",
    "\n",
    "Al tratar $kt$ como un todo, lo que hemos hecho es un cambio de variable e integrado respecto a $kt$ , con lo cual sale una $k$ dividiendo. Me explico:\n",
    "\n",
    "$$\\gamma=kt$$\n",
    "\n",
    "$$\\frac{d\\gamma}{dt}=k$$\n",
    "\n",
    "Con lo cual $$ dt= \\frac{d\\gamma}{k}$$\n",
    "\n",
    "Por lo que la integral queda como\n",
    "$$E_{norm}=\\frac{E(kt)}{A \\sigma \\epsilon {T_0}^4}=\\int_{t''_1}^{t''_2} \\frac{1}{(1+e^{-\\gamma})^4} \\frac{d\\gamma}{k}$$\n",
    "\n",
    "Entonces:\n",
    "\n",
    " $$\\tilde{E}_{norm}=\\frac{E(kt)k}{A \\sigma \\epsilon {T_0}^4}=\\int_{t''_1}^{t''_2} \\frac{1}{(1+e^{-\\gamma})^4} d\\gamma$$\n",
    "\n",
    "y el comportamiento de esta última integral es lo que estamos ploteando realmente.\n",
    "\n",
    "OJO CUIDAO: porque esto de tratar a una variable producto como un todo puede salir muy bien, como en este caso que lo único que sale es un factor multiplicativo (con el que hay que estar atento igualmente) pero si el cambio de variable es más feo pueden salir cosas chungas al transformar el diferencial. Lo que quiero decir es que cada caso es de su padre y de su madre y hay que hacer la cuentas aparte para transformar la integral y que te salga algo que puedas meter aquí.\n",
    "\n",
    "También: que para hablar de valores reales de la Energía sólo habría que multiplicar el valor de  $\\tilde{E}_{norm}$ por el factor $\\frac{A \\sigma \\epsilon {T_0}^4}{k}$ una vez lo conociéramos. (Y que esta vez también hemos tenido suerte de poder quitarnos de en medio todos los factores desconocidos y dejarlos en el otro miembro)"
   ]
  },
  {
   "attachments": {},
   "cell_type": "markdown",
   "metadata": {},
   "source": [
    "______\n",
    "\n",
    "\n",
    "> ## *Arrays multidimensionales*\n",
    "\n",
    "Aprenderemos a crear arrays en más dimensiones y a manejar y a operar con ellos."
   ]
  },
  {
   "cell_type": "code",
   "execution_count": 136,
   "metadata": {},
   "outputs": [
    {
     "data": {
      "text/plain": [
       "array([[1, 2, 3],\n",
       "       [4, 5, 6],\n",
       "       [7, 8, 9]])"
      ]
     },
     "execution_count": 136,
     "metadata": {},
     "output_type": "execute_result"
    }
   ],
   "source": [
    "m1= np.array([[1,2,3],[4,5,6],[7,8,9]]) #No olvidar el bracket que encierra a los demas brackets\n",
    "m1"
   ]
  },
  {
   "attachments": {},
   "cell_type": "markdown",
   "metadata": {},
   "source": [
    "Podemos hacer operaciones con ellos que funcionan de manera análoga a los arrays unidimensionales que tratamos antes"
   ]
  },
  {
   "cell_type": "code",
   "execution_count": 137,
   "metadata": {},
   "outputs": [
    {
     "data": {
      "text/plain": [
       "array([[ 2,  4,  6],\n",
       "       [ 8, 10, 12],\n",
       "       [14, 16, 18]])"
      ]
     },
     "execution_count": 137,
     "metadata": {},
     "output_type": "execute_result"
    }
   ],
   "source": [
    "m1*2"
   ]
  },
  {
   "cell_type": "code",
   "execution_count": 138,
   "metadata": {},
   "outputs": [
    {
     "data": {
      "text/plain": [
       "array([[2.        , 1.        , 0.66666667],\n",
       "       [0.5       , 0.4       , 0.33333333],\n",
       "       [0.28571429, 0.25      , 0.22222222]])"
      ]
     },
     "execution_count": 138,
     "metadata": {},
     "output_type": "execute_result"
    }
   ],
   "source": [
    "2/m1"
   ]
  },
  {
   "attachments": {},
   "cell_type": "markdown",
   "metadata": {},
   "source": [
    "Una función que vamos a usar mucho en algunos problemas es *ravel( )* , que nos permite coger un array n-dimensional y transformarlo en monodimensional. A primera vista esto, no puede parecernos muy útil pero se pueden hacer cosas muy ingeniosas."
   ]
  },
  {
   "cell_type": "code",
   "execution_count": 139,
   "metadata": {},
   "outputs": [
    {
     "data": {
      "text/plain": [
       "array([1, 2, 3, 4, 5, 6, 7, 8, 9])"
      ]
     },
     "execution_count": 139,
     "metadata": {},
     "output_type": "execute_result"
    }
   ],
   "source": [
    "m1.ravel()"
   ]
  },
  {
   "attachments": {},
   "cell_type": "markdown",
   "metadata": {},
   "source": [
    "El indexado booleano funciona de la misma manera. Veamos un ejemplo:"
   ]
  },
  {
   "cell_type": "code",
   "execution_count": 140,
   "metadata": {},
   "outputs": [
    {
     "data": {
      "text/plain": [
       "array([[False, False, False],\n",
       "       [False, False,  True],\n",
       "       [ True,  True,  True]])"
      ]
     },
     "execution_count": 140,
     "metadata": {},
     "output_type": "execute_result"
    }
   ],
   "source": [
    "m1>5"
   ]
  },
  {
   "attachments": {},
   "cell_type": "markdown",
   "metadata": {},
   "source": [
    "Podemos usar esto para indexar booleanamente otro array:"
   ]
  },
  {
   "cell_type": "code",
   "execution_count": 141,
   "metadata": {},
   "outputs": [
    {
     "data": {
      "text/plain": [
       "array([[-0.8134331 , -0.04104422,  1.73657285],\n",
       "       [ 0.36885048,  0.75543696,  0.74069359],\n",
       "       [ 0.08673194, -1.32525986,  0.28393855]])"
      ]
     },
     "execution_count": 141,
     "metadata": {},
     "output_type": "execute_result"
    }
   ],
   "source": [
    "m2 = np.random.randn(3,3) #créame una matriz 3x3 de números aleatorios que sigan la distribución normal\n",
    "m2"
   ]
  },
  {
   "cell_type": "code",
   "execution_count": 142,
   "metadata": {},
   "outputs": [
    {
     "data": {
      "text/plain": [
       "array([ 0.74069359,  0.08673194, -1.32525986,  0.28393855])"
      ]
     },
     "execution_count": 142,
     "metadata": {},
     "output_type": "execute_result"
    }
   ],
   "source": [
    "m2[m1>5] #\"los elementos de m2 para los cuales m1 es mayor que cinco\" o dicho de otra forma, \n",
    "#dame los elementos de m2 en donde estarían los elementos de m1 que son mayores de cinco\n",
    "#Como nuestro array m1 son todos los numeros del 1 al 9, se supone que esto me tendría que \n",
    "#mostrar los ultimos cuatro elementos de m2"
   ]
  },
  {
   "attachments": {},
   "cell_type": "markdown",
   "metadata": {},
   "source": [
    "Cuidado cuando hacemos element indexing. Imaginemos que queremos seleccionadr el primer elemento de $m_1$"
   ]
  },
  {
   "cell_type": "code",
   "execution_count": 143,
   "metadata": {},
   "outputs": [
    {
     "data": {
      "text/plain": [
       "array([1, 2, 3])"
      ]
     },
     "execution_count": 143,
     "metadata": {},
     "output_type": "execute_result"
    }
   ],
   "source": [
    "m1[0]"
   ]
  },
  {
   "attachments": {},
   "cell_type": "markdown",
   "metadata": {},
   "source": [
    "Vaya, lo que nos ha devuelto es la primera fila. Eso quiere decir que las consecuentes m1[1] y m1[2] nos devolverán la segunda y tercera fila respectivamente"
   ]
  },
  {
   "cell_type": "code",
   "execution_count": 144,
   "metadata": {},
   "outputs": [
    {
     "data": {
      "text/plain": [
       "array([4, 5, 6])"
      ]
     },
     "execution_count": 144,
     "metadata": {},
     "output_type": "execute_result"
    }
   ],
   "source": [
    "m1[1]\n"
   ]
  },
  {
   "cell_type": "code",
   "execution_count": 145,
   "metadata": {},
   "outputs": [
    {
     "data": {
      "text/plain": [
       "array([7, 8, 9])"
      ]
     },
     "execution_count": 145,
     "metadata": {},
     "output_type": "execute_result"
    }
   ],
   "source": [
    "m1[2]"
   ]
  },
  {
   "attachments": {},
   "cell_type": "markdown",
   "metadata": {},
   "source": [
    "Bueno, ya que estamos con esto, si quisiera la primera columna, sería tal que así:"
   ]
  },
  {
   "cell_type": "code",
   "execution_count": 146,
   "metadata": {},
   "outputs": [
    {
     "data": {
      "text/plain": [
       "array([1, 4, 7])"
      ]
     },
     "execution_count": 146,
     "metadata": {},
     "output_type": "execute_result"
    }
   ],
   "source": [
    "m1[:,0] # \":\" en el primer lugar significa \"ve a través de todas las filas\"\n",
    "#Este comando significa \"recorre todas las filas pero coge sólo el primer elemento\" = la primera columna"
   ]
  },
  {
   "attachments": {},
   "cell_type": "markdown",
   "metadata": {},
   "source": [
    "Imaginemos que ahora sólo queremos quedarnos con los elementos que coinciden con el 5 y el 8 de $m_1$:"
   ]
  },
  {
   "cell_type": "code",
   "execution_count": 147,
   "metadata": {},
   "outputs": [
    {
     "data": {
      "text/plain": [
       "array([5, 8])"
      ]
     },
     "execution_count": 147,
     "metadata": {},
     "output_type": "execute_result"
    }
   ],
   "source": [
    "m1[1:,1] #de la primera fila para adelante (no inclusive) y el segundo elemento"
   ]
  },
  {
   "attachments": {},
   "cell_type": "markdown",
   "metadata": {},
   "source": [
    "Venga, imaginemos que ahora nos quedamos con la matriz 2x2 de la esquina inferior izquierda."
   ]
  },
  {
   "cell_type": "code",
   "execution_count": 148,
   "metadata": {},
   "outputs": [
    {
     "data": {
      "text/plain": [
       "array([[4, 5],\n",
       "       [7, 8]])"
      ]
     },
     "execution_count": 148,
     "metadata": {},
     "output_type": "execute_result"
    }
   ],
   "source": [
    "m1[1:,:2] #\"de la primera fila no inclusive para abajo, y en el segundo elemento hasta que te topes con el tercero no inclusive\""
   ]
  },
  {
   "attachments": {},
   "cell_type": "markdown",
   "metadata": {},
   "source": [
    "> ## *Funciones 2D*\n"
   ]
  },
  {
   "attachments": {},
   "cell_type": "markdown",
   "metadata": {},
   "source": [
    "Si queremos representar una función en 2D tendremos que tener 2 arrays unidimensionales que sirvan de soporte para dar valores al eje $z$, no?"
   ]
  },
  {
   "cell_type": "code",
   "execution_count": 149,
   "metadata": {},
   "outputs": [],
   "source": [
    "x = np.linspace(0, 10, 1000)\n",
    "y = np.linspace(0, 5, 500)"
   ]
  },
  {
   "cell_type": "code",
   "execution_count": 150,
   "metadata": {},
   "outputs": [
    {
     "ename": "ValueError",
     "evalue": "operands could not be broadcast together with shapes (1000,) (500,) ",
     "output_type": "error",
     "traceback": [
      "\u001b[1;31m---------------------------------------------------------------------------\u001b[0m",
      "\u001b[1;31mValueError\u001b[0m                                Traceback (most recent call last)",
      "\u001b[1;32m~\\AppData\\Local\\Temp/ipykernel_22348/3422583308.py\u001b[0m in \u001b[0;36m<module>\u001b[1;34m\u001b[0m\n\u001b[1;32m----> 1\u001b[1;33m \u001b[0mz\u001b[0m\u001b[1;33m=\u001b[0m \u001b[0mx\u001b[0m\u001b[1;33m**\u001b[0m\u001b[1;36m2\u001b[0m \u001b[1;33m+\u001b[0m \u001b[0my\u001b[0m\u001b[1;33m**\u001b[0m\u001b[1;36m2\u001b[0m\u001b[1;33m\u001b[0m\u001b[1;33m\u001b[0m\u001b[0m\n\u001b[0m",
      "\u001b[1;31mValueError\u001b[0m: operands could not be broadcast together with shapes (1000,) (500,) "
     ]
    }
   ],
   "source": [
    "z= x**2 + y**2"
   ]
  },
  {
   "attachments": {},
   "cell_type": "markdown",
   "metadata": {},
   "source": [
    "No nos funciona. Eso quiere decir que para representar funciones, todos los ejes tienen que ser de la misma dimensión? Sería una limitación considerable. Pues nada más lejos de la realidad, más adelante veremos por qué. Por ahora, vamos a transigir y a hacer los ejes de la misma dimensión"
   ]
  },
  {
   "cell_type": "code",
   "execution_count": null,
   "metadata": {},
   "outputs": [],
   "source": [
    "x = np.linspace(0, 10, 1000)\n",
    "y = np.linspace(0, 10, 1000)"
   ]
  },
  {
   "cell_type": "code",
   "execution_count": null,
   "metadata": {},
   "outputs": [
    {
     "data": {
      "text/plain": [
       "array([0.00000000e+00, 2.00400601e-04, 8.01602403e-04, 1.80360541e-03,\n",
       "       3.20640961e-03, 5.01001502e-03, 7.21442163e-03, 9.81962944e-03,\n",
       "       1.28256385e-02, 1.62324487e-02, 2.00400601e-02, 2.42484727e-02,\n",
       "       2.88576865e-02, 3.38677015e-02, 3.92785178e-02, 4.50901352e-02,\n",
       "       5.13025538e-02, 5.79157736e-02, 6.49297947e-02, 7.23446169e-02,\n",
       "       8.01602403e-02, 8.83766650e-02, 9.69938908e-02, 1.06011918e-01,\n",
       "       1.15430746e-01, 1.25250376e-01, 1.35470806e-01, 1.46092038e-01,\n",
       "       1.57114071e-01, 1.68536905e-01, 1.80360541e-01, 1.92584977e-01,\n",
       "       2.05210215e-01, 2.18236254e-01, 2.31663095e-01, 2.45490736e-01,\n",
       "       2.59719179e-01, 2.74348422e-01, 2.89378468e-01, 3.04809314e-01,\n",
       "       3.20640961e-01, 3.36873410e-01, 3.53506660e-01, 3.70540711e-01,\n",
       "       3.87975563e-01, 4.05811217e-01, 4.24047671e-01, 4.42684927e-01,\n",
       "       4.61722984e-01, 4.81161843e-01, 5.01001502e-01, 5.21241963e-01,\n",
       "       5.41883225e-01, 5.62925288e-01, 5.84368152e-01, 6.06211817e-01,\n",
       "       6.28456284e-01, 6.51101552e-01, 6.74147621e-01, 6.97594491e-01,\n",
       "       7.21442163e-01, 7.45690636e-01, 7.70339909e-01, 7.95389985e-01,\n",
       "       8.20840861e-01, 8.46692538e-01, 8.72945017e-01, 8.99598297e-01,\n",
       "       9.26652378e-01, 9.54107260e-01, 9.81962944e-01, 1.01021943e+00,\n",
       "       1.03887671e+00, 1.06793480e+00, 1.09739369e+00, 1.12725338e+00,\n",
       "       1.15751387e+00, 1.18817516e+00, 1.21923726e+00, 1.25070015e+00,\n",
       "       1.28256385e+00, 1.31482834e+00, 1.34749364e+00, 1.38055974e+00,\n",
       "       1.41402664e+00, 1.44789434e+00, 1.48216284e+00, 1.51683215e+00,\n",
       "       1.55190225e+00, 1.58737316e+00, 1.62324487e+00, 1.65951738e+00,\n",
       "       1.69619069e+00, 1.73326480e+00, 1.77073971e+00, 1.80861542e+00,\n",
       "       1.84689194e+00, 1.88556925e+00, 1.92464737e+00, 1.96412629e+00,\n",
       "       2.00400601e+00, 2.04428653e+00, 2.08496785e+00, 2.12604997e+00,\n",
       "       2.16753290e+00, 2.20941662e+00, 2.25170115e+00, 2.29438648e+00,\n",
       "       2.33747261e+00, 2.38095954e+00, 2.42484727e+00, 2.46913580e+00,\n",
       "       2.51382514e+00, 2.55891527e+00, 2.60440621e+00, 2.65029795e+00,\n",
       "       2.69659048e+00, 2.74328382e+00, 2.79037797e+00, 2.83787291e+00,\n",
       "       2.88576865e+00, 2.93406520e+00, 2.98276254e+00, 3.03186069e+00,\n",
       "       3.08135964e+00, 3.13125939e+00, 3.18155994e+00, 3.23226129e+00,\n",
       "       3.28336344e+00, 3.33486640e+00, 3.38677015e+00, 3.43907471e+00,\n",
       "       3.49178007e+00, 3.54488623e+00, 3.59839319e+00, 3.65230095e+00,\n",
       "       3.70660951e+00, 3.76131888e+00, 3.81642904e+00, 3.87194001e+00,\n",
       "       3.92785178e+00, 3.98416434e+00, 4.04087771e+00, 4.09799189e+00,\n",
       "       4.15550686e+00, 4.21342263e+00, 4.27173921e+00, 4.33045658e+00,\n",
       "       4.38957476e+00, 4.44909374e+00, 4.50901352e+00, 4.56933410e+00,\n",
       "       4.63005548e+00, 4.69117766e+00, 4.75270065e+00, 4.81462443e+00,\n",
       "       4.87694902e+00, 4.93967441e+00, 5.00280060e+00, 5.06632759e+00,\n",
       "       5.13025538e+00, 5.19458397e+00, 5.25931337e+00, 5.32444356e+00,\n",
       "       5.38997456e+00, 5.45590636e+00, 5.52223896e+00, 5.58897236e+00,\n",
       "       5.65610656e+00, 5.72364156e+00, 5.79157736e+00, 5.85991397e+00,\n",
       "       5.92865137e+00, 5.99778958e+00, 6.06732859e+00, 6.13726840e+00,\n",
       "       6.20760901e+00, 6.27835042e+00, 6.34949264e+00, 6.42103565e+00,\n",
       "       6.49297947e+00, 6.56532408e+00, 6.63806950e+00, 6.71121572e+00,\n",
       "       6.78476274e+00, 6.85871056e+00, 6.93305919e+00, 7.00780861e+00,\n",
       "       7.08295883e+00, 7.15850986e+00, 7.23446169e+00, 7.31081432e+00,\n",
       "       7.38756775e+00, 7.46472198e+00, 7.54227701e+00, 7.62023285e+00,\n",
       "       7.69858948e+00, 7.77734692e+00, 7.85650515e+00, 7.93606419e+00,\n",
       "       8.01602403e+00, 8.09638467e+00, 8.17714612e+00, 8.25830836e+00,\n",
       "       8.33987140e+00, 8.42183525e+00, 8.50419990e+00, 8.58696534e+00,\n",
       "       8.67013159e+00, 8.75369864e+00, 8.83766650e+00, 8.92203515e+00,\n",
       "       9.00680460e+00, 9.09197486e+00, 9.17754591e+00, 9.26351777e+00,\n",
       "       9.34989043e+00, 9.43666389e+00, 9.52383815e+00, 9.61141322e+00,\n",
       "       9.69938908e+00, 9.78776574e+00, 9.87654321e+00, 9.96572148e+00,\n",
       "       1.00553005e+01, 1.01452804e+01, 1.02356611e+01, 1.03264426e+01,\n",
       "       1.04176248e+01, 1.05092079e+01, 1.06011918e+01, 1.06935765e+01,\n",
       "       1.07863619e+01, 1.08795482e+01, 1.09731353e+01, 1.10671232e+01,\n",
       "       1.11615119e+01, 1.12563013e+01, 1.13514916e+01, 1.14470827e+01,\n",
       "       1.15430746e+01, 1.16394673e+01, 1.17362608e+01, 1.18334551e+01,\n",
       "       1.19310502e+01, 1.20290461e+01, 1.21274428e+01, 1.22262403e+01,\n",
       "       1.23254386e+01, 1.24250377e+01, 1.25250376e+01, 1.26254383e+01,\n",
       "       1.27262398e+01, 1.28274421e+01, 1.29290452e+01, 1.30310491e+01,\n",
       "       1.31334538e+01, 1.32362593e+01, 1.33394656e+01, 1.34430727e+01,\n",
       "       1.35470806e+01, 1.36514893e+01, 1.37562988e+01, 1.38615092e+01,\n",
       "       1.39671203e+01, 1.40731322e+01, 1.41795449e+01, 1.42863584e+01,\n",
       "       1.43935728e+01, 1.45011879e+01, 1.46092038e+01, 1.47176205e+01,\n",
       "       1.48264380e+01, 1.49356564e+01, 1.50452755e+01, 1.51552954e+01,\n",
       "       1.52657162e+01, 1.53765377e+01, 1.54877600e+01, 1.55993832e+01,\n",
       "       1.57114071e+01, 1.58238318e+01, 1.59366574e+01, 1.60498837e+01,\n",
       "       1.61635109e+01, 1.62775388e+01, 1.63919675e+01, 1.65067971e+01,\n",
       "       1.66220274e+01, 1.67376586e+01, 1.68536905e+01, 1.69701233e+01,\n",
       "       1.70869568e+01, 1.72041912e+01, 1.73218263e+01, 1.74398623e+01,\n",
       "       1.75582990e+01, 1.76771366e+01, 1.77963750e+01, 1.79160141e+01,\n",
       "       1.80360541e+01, 1.81564948e+01, 1.82773364e+01, 1.83985788e+01,\n",
       "       1.85202219e+01, 1.86422659e+01, 1.87647107e+01, 1.88875562e+01,\n",
       "       1.90108026e+01, 1.91344498e+01, 1.92584977e+01, 1.93829465e+01,\n",
       "       1.95077961e+01, 1.96330465e+01, 1.97586976e+01, 1.98847496e+01,\n",
       "       2.00112024e+01, 2.01380560e+01, 2.02653104e+01, 2.03929655e+01,\n",
       "       2.05210215e+01, 2.06494783e+01, 2.07783359e+01, 2.09075943e+01,\n",
       "       2.10372535e+01, 2.11673135e+01, 2.12977743e+01, 2.14286358e+01,\n",
       "       2.15598982e+01, 2.16915614e+01, 2.18236254e+01, 2.19560902e+01,\n",
       "       2.20889558e+01, 2.22222222e+01, 2.23558894e+01, 2.24899574e+01,\n",
       "       2.26244262e+01, 2.27592958e+01, 2.28945662e+01, 2.30302374e+01,\n",
       "       2.31663095e+01, 2.33027823e+01, 2.34396559e+01, 2.35769303e+01,\n",
       "       2.37146055e+01, 2.38526815e+01, 2.39911583e+01, 2.41300359e+01,\n",
       "       2.42693144e+01, 2.44089936e+01, 2.45490736e+01, 2.46895544e+01,\n",
       "       2.48304360e+01, 2.49717185e+01, 2.51134017e+01, 2.52554857e+01,\n",
       "       2.53979705e+01, 2.55408562e+01, 2.56841426e+01, 2.58278298e+01,\n",
       "       2.59719179e+01, 2.61164067e+01, 2.62612963e+01, 2.64065868e+01,\n",
       "       2.65522780e+01, 2.66983700e+01, 2.68448629e+01, 2.69917565e+01,\n",
       "       2.71390510e+01, 2.72867462e+01, 2.74348422e+01, 2.75833391e+01,\n",
       "       2.77322367e+01, 2.78815352e+01, 2.80312344e+01, 2.81813345e+01,\n",
       "       2.83318353e+01, 2.84827370e+01, 2.86340394e+01, 2.87857427e+01,\n",
       "       2.89378468e+01, 2.90903516e+01, 2.92432573e+01, 2.93965637e+01,\n",
       "       2.95502710e+01, 2.97043791e+01, 2.98588879e+01, 3.00137976e+01,\n",
       "       3.01691080e+01, 3.03248193e+01, 3.04809314e+01, 3.06374443e+01,\n",
       "       3.07943579e+01, 3.09516724e+01, 3.11093877e+01, 3.12675037e+01,\n",
       "       3.14260206e+01, 3.15849383e+01, 3.17442568e+01, 3.19039760e+01,\n",
       "       3.20640961e+01, 3.22246170e+01, 3.23855387e+01, 3.25468612e+01,\n",
       "       3.27085845e+01, 3.28707085e+01, 3.30332334e+01, 3.31961591e+01,\n",
       "       3.33594856e+01, 3.35232129e+01, 3.36873410e+01, 3.38518699e+01,\n",
       "       3.40167996e+01, 3.41821301e+01, 3.43478614e+01, 3.45139935e+01,\n",
       "       3.46805264e+01, 3.48474601e+01, 3.50147946e+01, 3.51825299e+01,\n",
       "       3.53506660e+01, 3.55192029e+01, 3.56881406e+01, 3.58574791e+01,\n",
       "       3.60272184e+01, 3.61973585e+01, 3.63678994e+01, 3.65388411e+01,\n",
       "       3.67101837e+01, 3.68819270e+01, 3.70540711e+01, 3.72266160e+01,\n",
       "       3.73995617e+01, 3.75729082e+01, 3.77466556e+01, 3.79208037e+01,\n",
       "       3.80953526e+01, 3.82703023e+01, 3.84456529e+01, 3.86214042e+01,\n",
       "       3.87975563e+01, 3.89741092e+01, 3.91510630e+01, 3.93284175e+01,\n",
       "       3.95061728e+01, 3.96843290e+01, 3.98628859e+01, 4.00418436e+01,\n",
       "       4.02212022e+01, 4.04009615e+01, 4.05811217e+01, 4.07616826e+01,\n",
       "       4.09426443e+01, 4.11240069e+01, 4.13057702e+01, 4.14879344e+01,\n",
       "       4.16704993e+01, 4.18534651e+01, 4.20368316e+01, 4.22205990e+01,\n",
       "       4.24047671e+01, 4.25893361e+01, 4.27743058e+01, 4.29596764e+01,\n",
       "       4.31454478e+01, 4.33316199e+01, 4.35181929e+01, 4.37051666e+01,\n",
       "       4.38925412e+01, 4.40803166e+01, 4.42684927e+01, 4.44570697e+01,\n",
       "       4.46460474e+01, 4.48354260e+01, 4.50252054e+01, 4.52153856e+01,\n",
       "       4.54059665e+01, 4.55969483e+01, 4.57883309e+01, 4.59801142e+01,\n",
       "       4.61722984e+01, 4.63648834e+01, 4.65578692e+01, 4.67512558e+01,\n",
       "       4.69450431e+01, 4.71392313e+01, 4.73338203e+01, 4.75288101e+01,\n",
       "       4.77242007e+01, 4.79199921e+01, 4.81161843e+01, 4.83127772e+01,\n",
       "       4.85097710e+01, 4.87071656e+01, 4.89049610e+01, 4.91031572e+01,\n",
       "       4.93017542e+01, 4.95007520e+01, 4.97001506e+01, 4.98999500e+01,\n",
       "       5.01001502e+01, 5.03007512e+01, 5.05017530e+01, 5.07031556e+01,\n",
       "       5.09049590e+01, 5.11071632e+01, 5.13097682e+01, 5.15127740e+01,\n",
       "       5.17161806e+01, 5.19199881e+01, 5.21241963e+01, 5.23288053e+01,\n",
       "       5.25338151e+01, 5.27392257e+01, 5.29450371e+01, 5.31512493e+01,\n",
       "       5.33578624e+01, 5.35648762e+01, 5.37722908e+01, 5.39801062e+01,\n",
       "       5.41883225e+01, 5.43969395e+01, 5.46059573e+01, 5.48153759e+01,\n",
       "       5.50251954e+01, 5.52354156e+01, 5.54460366e+01, 5.56570585e+01,\n",
       "       5.58684811e+01, 5.60803045e+01, 5.62925288e+01, 5.65051538e+01,\n",
       "       5.67181796e+01, 5.69316063e+01, 5.71454337e+01, 5.73596620e+01,\n",
       "       5.75742910e+01, 5.77893209e+01, 5.80047515e+01, 5.82205829e+01,\n",
       "       5.84368152e+01, 5.86534482e+01, 5.88704821e+01, 5.90879167e+01,\n",
       "       5.93057522e+01, 5.95239885e+01, 5.97426255e+01, 5.99616634e+01,\n",
       "       6.01811020e+01, 6.04009415e+01, 6.06211817e+01, 6.08418228e+01,\n",
       "       6.10628647e+01, 6.12843073e+01, 6.15061508e+01, 6.17283951e+01,\n",
       "       6.19510401e+01, 6.21740860e+01, 6.23975327e+01, 6.26213801e+01,\n",
       "       6.28456284e+01, 6.30702775e+01, 6.32953274e+01, 6.35207780e+01,\n",
       "       6.37466295e+01, 6.39728818e+01, 6.41995349e+01, 6.44265888e+01,\n",
       "       6.46540434e+01, 6.48818989e+01, 6.51101552e+01, 6.53388123e+01,\n",
       "       6.55678702e+01, 6.57973289e+01, 6.60271883e+01, 6.62574486e+01,\n",
       "       6.64881097e+01, 6.67191716e+01, 6.69506343e+01, 6.71824978e+01,\n",
       "       6.74147621e+01, 6.76474272e+01, 6.78804931e+01, 6.81139598e+01,\n",
       "       6.83478273e+01, 6.85820956e+01, 6.88167647e+01, 6.90518346e+01,\n",
       "       6.92873053e+01, 6.95231768e+01, 6.97594491e+01, 6.99961222e+01,\n",
       "       7.02331962e+01, 7.04706709e+01, 7.07085464e+01, 7.09468227e+01,\n",
       "       7.11854998e+01, 7.14245777e+01, 7.16640564e+01, 7.19039360e+01,\n",
       "       7.21442163e+01, 7.23848974e+01, 7.26259793e+01, 7.28674621e+01,\n",
       "       7.31093456e+01, 7.33516299e+01, 7.35943150e+01, 7.38374010e+01,\n",
       "       7.40808877e+01, 7.43247752e+01, 7.45690636e+01, 7.48137527e+01,\n",
       "       7.50588426e+01, 7.53043334e+01, 7.55502249e+01, 7.57965172e+01,\n",
       "       7.60432104e+01, 7.62903043e+01, 7.65377991e+01, 7.67856946e+01,\n",
       "       7.70339909e+01, 7.72826881e+01, 7.75317860e+01, 7.77812848e+01,\n",
       "       7.80311843e+01, 7.82814847e+01, 7.85321858e+01, 7.87832878e+01,\n",
       "       7.90347905e+01, 7.92866941e+01, 7.95389985e+01, 7.97917036e+01,\n",
       "       8.00448096e+01, 8.02983163e+01, 8.05522239e+01, 8.08065323e+01,\n",
       "       8.10612414e+01, 8.13163514e+01, 8.15718622e+01, 8.18277737e+01,\n",
       "       8.20840861e+01, 8.23407993e+01, 8.25979132e+01, 8.28554280e+01,\n",
       "       8.31133436e+01, 8.33716599e+01, 8.36303771e+01, 8.38894951e+01,\n",
       "       8.41490139e+01, 8.44089335e+01, 8.46692538e+01, 8.49299750e+01,\n",
       "       8.51910970e+01, 8.54526198e+01, 8.57145434e+01, 8.59768678e+01,\n",
       "       8.62395929e+01, 8.65027189e+01, 8.67662457e+01, 8.70301733e+01,\n",
       "       8.72945017e+01, 8.75592309e+01, 8.78243609e+01, 8.80898917e+01,\n",
       "       8.83558233e+01, 8.86221557e+01, 8.88888889e+01, 8.91560229e+01,\n",
       "       8.94235577e+01, 8.96914933e+01, 8.99598297e+01, 9.02285669e+01,\n",
       "       9.04977049e+01, 9.07672437e+01, 9.10371833e+01, 9.13075237e+01,\n",
       "       9.15782650e+01, 9.18494070e+01, 9.21209498e+01, 9.23928934e+01,\n",
       "       9.26652378e+01, 9.29379830e+01, 9.32111290e+01, 9.34846759e+01,\n",
       "       9.37586235e+01, 9.40329719e+01, 9.43077211e+01, 9.45828712e+01,\n",
       "       9.48584220e+01, 9.51343736e+01, 9.54107260e+01, 9.56874793e+01,\n",
       "       9.59646333e+01, 9.62421881e+01, 9.65201438e+01, 9.67985002e+01,\n",
       "       9.70772574e+01, 9.73564155e+01, 9.76359743e+01, 9.79159340e+01,\n",
       "       9.81962944e+01, 9.84770556e+01, 9.87582177e+01, 9.90397805e+01,\n",
       "       9.93217442e+01, 9.96041086e+01, 9.98868739e+01, 1.00170040e+02,\n",
       "       1.00453607e+02, 1.00737574e+02, 1.01021943e+02, 1.01306712e+02,\n",
       "       1.01591882e+02, 1.01877453e+02, 1.02163425e+02, 1.02449797e+02,\n",
       "       1.02736570e+02, 1.03023744e+02, 1.03311319e+02, 1.03599295e+02,\n",
       "       1.03887671e+02, 1.04176449e+02, 1.04465627e+02, 1.04755206e+02,\n",
       "       1.05045185e+02, 1.05335566e+02, 1.05626347e+02, 1.05917529e+02,\n",
       "       1.06209112e+02, 1.06501096e+02, 1.06793480e+02, 1.07086265e+02,\n",
       "       1.07379452e+02, 1.07673038e+02, 1.07967026e+02, 1.08261415e+02,\n",
       "       1.08556204e+02, 1.08851394e+02, 1.09146985e+02, 1.09442977e+02,\n",
       "       1.09739369e+02, 1.10036162e+02, 1.10333356e+02, 1.10630951e+02,\n",
       "       1.10928947e+02, 1.11227343e+02, 1.11526141e+02, 1.11825339e+02,\n",
       "       1.12124938e+02, 1.12424937e+02, 1.12725338e+02, 1.13026139e+02,\n",
       "       1.13327341e+02, 1.13628944e+02, 1.13930948e+02, 1.14233352e+02,\n",
       "       1.14536158e+02, 1.14839364e+02, 1.15142971e+02, 1.15446979e+02,\n",
       "       1.15751387e+02, 1.16056196e+02, 1.16361406e+02, 1.16667017e+02,\n",
       "       1.16973029e+02, 1.17279442e+02, 1.17586255e+02, 1.17893469e+02,\n",
       "       1.18201084e+02, 1.18509100e+02, 1.18817516e+02, 1.19126334e+02,\n",
       "       1.19435552e+02, 1.19745171e+02, 1.20055190e+02, 1.20365611e+02,\n",
       "       1.20676432e+02, 1.20987654e+02, 1.21299277e+02, 1.21611301e+02,\n",
       "       1.21923726e+02, 1.22236551e+02, 1.22549777e+02, 1.22863404e+02,\n",
       "       1.23177432e+02, 1.23491860e+02, 1.23806690e+02, 1.24121920e+02,\n",
       "       1.24437551e+02, 1.24753582e+02, 1.25070015e+02, 1.25386848e+02,\n",
       "       1.25704082e+02, 1.26021717e+02, 1.26339753e+02, 1.26658190e+02,\n",
       "       1.26977027e+02, 1.27296265e+02, 1.27615904e+02, 1.27935944e+02,\n",
       "       1.28256385e+02, 1.28577226e+02, 1.28898468e+02, 1.29220111e+02,\n",
       "       1.29542155e+02, 1.29864599e+02, 1.30187445e+02, 1.30510691e+02,\n",
       "       1.30834338e+02, 1.31158386e+02, 1.31482834e+02, 1.31807684e+02,\n",
       "       1.32132934e+02, 1.32458585e+02, 1.32784636e+02, 1.33111089e+02,\n",
       "       1.33437942e+02, 1.33765197e+02, 1.34092852e+02, 1.34420907e+02,\n",
       "       1.34749364e+02, 1.35078221e+02, 1.35407480e+02, 1.35737139e+02,\n",
       "       1.36067198e+02, 1.36397659e+02, 1.36728520e+02, 1.37059783e+02,\n",
       "       1.37391445e+02, 1.37723509e+02, 1.38055974e+02, 1.38388839e+02,\n",
       "       1.38722105e+02, 1.39055772e+02, 1.39389840e+02, 1.39724309e+02,\n",
       "       1.40059178e+02, 1.40394449e+02, 1.40730120e+02, 1.41066191e+02,\n",
       "       1.41402664e+02, 1.41739537e+02, 1.42076812e+02, 1.42414487e+02,\n",
       "       1.42752562e+02, 1.43091039e+02, 1.43429916e+02, 1.43769195e+02,\n",
       "       1.44108874e+02, 1.44448953e+02, 1.44789434e+02, 1.45130316e+02,\n",
       "       1.45471598e+02, 1.45813281e+02, 1.46155365e+02, 1.46497849e+02,\n",
       "       1.46840735e+02, 1.47184021e+02, 1.47527708e+02, 1.47871796e+02,\n",
       "       1.48216284e+02, 1.48561174e+02, 1.48906464e+02, 1.49252155e+02,\n",
       "       1.49598247e+02, 1.49944740e+02, 1.50291633e+02, 1.50638927e+02,\n",
       "       1.50986622e+02, 1.51334718e+02, 1.51683215e+02, 1.52032112e+02,\n",
       "       1.52381410e+02, 1.52731109e+02, 1.53081209e+02, 1.53431710e+02,\n",
       "       1.53782611e+02, 1.54133914e+02, 1.54485617e+02, 1.54837721e+02,\n",
       "       1.55190225e+02, 1.55543131e+02, 1.55896437e+02, 1.56250144e+02,\n",
       "       1.56604252e+02, 1.56958761e+02, 1.57313670e+02, 1.57668980e+02,\n",
       "       1.58024691e+02, 1.58380803e+02, 1.58737316e+02, 1.59094229e+02,\n",
       "       1.59451544e+02, 1.59809259e+02, 1.60167375e+02, 1.60525891e+02,\n",
       "       1.60884809e+02, 1.61244127e+02, 1.61603846e+02, 1.61963966e+02,\n",
       "       1.62324487e+02, 1.62685408e+02, 1.63046730e+02, 1.63408453e+02,\n",
       "       1.63770577e+02, 1.64133102e+02, 1.64496028e+02, 1.64859354e+02,\n",
       "       1.65223081e+02, 1.65587209e+02, 1.65951738e+02, 1.66316667e+02,\n",
       "       1.66681997e+02, 1.67047728e+02, 1.67413860e+02, 1.67780393e+02,\n",
       "       1.68147327e+02, 1.68514661e+02, 1.68882396e+02, 1.69250532e+02,\n",
       "       1.69619069e+02, 1.69988006e+02, 1.70357344e+02, 1.70727083e+02,\n",
       "       1.71097223e+02, 1.71467764e+02, 1.71838706e+02, 1.72210048e+02,\n",
       "       1.72581791e+02, 1.72953935e+02, 1.73326480e+02, 1.73699425e+02,\n",
       "       1.74072771e+02, 1.74446519e+02, 1.74820667e+02, 1.75195215e+02,\n",
       "       1.75570165e+02, 1.75945515e+02, 1.76321266e+02, 1.76697418e+02,\n",
       "       1.77073971e+02, 1.77450924e+02, 1.77828279e+02, 1.78206034e+02,\n",
       "       1.78584190e+02, 1.78962747e+02, 1.79341704e+02, 1.79721062e+02,\n",
       "       1.80100822e+02, 1.80480981e+02, 1.80861542e+02, 1.81242504e+02,\n",
       "       1.81623866e+02, 1.82005629e+02, 1.82387793e+02, 1.82770358e+02,\n",
       "       1.83153323e+02, 1.83536690e+02, 1.83920457e+02, 1.84304625e+02,\n",
       "       1.84689194e+02, 1.85074163e+02, 1.85459534e+02, 1.85845305e+02,\n",
       "       1.86231477e+02, 1.86618049e+02, 1.87005023e+02, 1.87392397e+02,\n",
       "       1.87780173e+02, 1.88168349e+02, 1.88556925e+02, 1.88945903e+02,\n",
       "       1.89335281e+02, 1.89725060e+02, 1.90115240e+02, 1.90505821e+02,\n",
       "       1.90896803e+02, 1.91288185e+02, 1.91679968e+02, 1.92072152e+02,\n",
       "       1.92464737e+02, 1.92857723e+02, 1.93251109e+02, 1.93644896e+02,\n",
       "       1.94039084e+02, 1.94433673e+02, 1.94828662e+02, 1.95224053e+02,\n",
       "       1.95619844e+02, 1.96016036e+02, 1.96412629e+02, 1.96809622e+02,\n",
       "       1.97207017e+02, 1.97604812e+02, 1.98003008e+02, 1.98401605e+02,\n",
       "       1.98800602e+02, 1.99200001e+02, 1.99599800e+02, 2.00000000e+02])"
      ]
     },
     "execution_count": 102,
     "metadata": {},
     "output_type": "execute_result"
    }
   ],
   "source": [
    "z= x**2 + y**2\n",
    "z"
   ]
  },
  {
   "attachments": {},
   "cell_type": "markdown",
   "metadata": {},
   "source": [
    "Párate. Que esto lo que ha hecho es interpretarlo todo como una operación de arrays unidimensionales... Yo lo que quiero es que me cree una especie de mapa donde cada punto sea una coordenada con una $x$ y una $y$. Como en hundir la flota. Como si tuviéramos un *grid* de puntos.\n",
    "\n",
    "Claro! Lo que tenemos que decirle a python es que cada uno de ellos representa un eje! Necesitamos usar *meshgrids* \n",
    "\n",
    "El *meshgrid* es lo que nosotros vamos a usar continuamente en física en python para trabajar con funciones de más de una dimensión. Veamos como funciona:"
   ]
  },
  {
   "cell_type": "code",
   "execution_count": null,
   "metadata": {},
   "outputs": [],
   "source": [
    "xv, yv = np.meshgrid (x,y) #aqui los arrays si pueden tener distintas dimensiones, los meshgrids no tienen por qué ser cuadrados"
   ]
  },
  {
   "attachments": {},
   "cell_type": "markdown",
   "metadata": {},
   "source": [
    "Echémosle un vistazo a ver cómo se ve el meshgrid, al menos la parte de la $x$"
   ]
  },
  {
   "cell_type": "code",
   "execution_count": null,
   "metadata": {},
   "outputs": [
    {
     "data": {
      "text/plain": [
       "array([[ 0.        ,  0.01001001,  0.02002002, ...,  9.97997998,\n",
       "         9.98998999, 10.        ],\n",
       "       [ 0.        ,  0.01001001,  0.02002002, ...,  9.97997998,\n",
       "         9.98998999, 10.        ],\n",
       "       [ 0.        ,  0.01001001,  0.02002002, ...,  9.97997998,\n",
       "         9.98998999, 10.        ],\n",
       "       ...,\n",
       "       [ 0.        ,  0.01001001,  0.02002002, ...,  9.97997998,\n",
       "         9.98998999, 10.        ],\n",
       "       [ 0.        ,  0.01001001,  0.02002002, ...,  9.97997998,\n",
       "         9.98998999, 10.        ],\n",
       "       [ 0.        ,  0.01001001,  0.02002002, ...,  9.97997998,\n",
       "         9.98998999, 10.        ]])"
      ]
     },
     "execution_count": 106,
     "metadata": {},
     "output_type": "execute_result"
    }
   ],
   "source": [
    "xv"
   ]
  },
  {
   "attachments": {},
   "cell_type": "markdown",
   "metadata": {},
   "source": [
    "se ve un poco lioso, pero observa como la primera columna es todo 0, y los valores van aumentando conforme avanzamos las columnas. Es lógico, $x$ tiene que ir creciendo en su eje. $xv$ lo que hace es darle a cada coordenada su etiqueta de la $x$ correspondiente. Lo mismo debería pasar con $xy$ pero con las filas. Comprobémoslo.  (Prefiero no dibujar una matriz más simple donde se vean cada uno de los dos grids porque hay que ir acostumbrandose a interpretar los datos de esta manera. En mi experiencia, los outputs de matrices n-dimensionales no son nada bonitos)"
   ]
  },
  {
   "cell_type": "code",
   "execution_count": null,
   "metadata": {},
   "outputs": [
    {
     "data": {
      "text/plain": [
       "array([[ 0.        ,  0.        ,  0.        , ...,  0.        ,\n",
       "         0.        ,  0.        ],\n",
       "       [ 0.01001001,  0.01001001,  0.01001001, ...,  0.01001001,\n",
       "         0.01001001,  0.01001001],\n",
       "       [ 0.02002002,  0.02002002,  0.02002002, ...,  0.02002002,\n",
       "         0.02002002,  0.02002002],\n",
       "       ...,\n",
       "       [ 9.97997998,  9.97997998,  9.97997998, ...,  9.97997998,\n",
       "         9.97997998,  9.97997998],\n",
       "       [ 9.98998999,  9.98998999,  9.98998999, ...,  9.98998999,\n",
       "         9.98998999,  9.98998999],\n",
       "       [10.        , 10.        , 10.        , ..., 10.        ,\n",
       "        10.        , 10.        ]])"
      ]
     },
     "execution_count": 108,
     "metadata": {},
     "output_type": "execute_result"
    }
   ],
   "source": [
    "yv"
   ]
  },
  {
   "attachments": {},
   "cell_type": "markdown",
   "metadata": {},
   "source": [
    "Primera fila todo 0, segunda fila todo 1... Vaya, todo correcto entonces.\n",
    "\n",
    "Bueno, intentemos dibujar entonces la función que estábamos tratando de plotear antes."
   ]
  },
  {
   "cell_type": "code",
   "execution_count": null,
   "metadata": {},
   "outputs": [
    {
     "data": {
      "text/plain": [
       "<matplotlib.colorbar.Colorbar at 0x1f021fce850>"
      ]
     },
     "execution_count": 112,
     "metadata": {},
     "output_type": "execute_result"
    },
    {
     "data": {
      "image/png": "[encoded data removed]",
      "text/plain": [
       "<Figure size 432x288 with 2 Axes>"
      ]
     },
     "metadata": {
      "needs_background": "light"
     },
     "output_type": "display_data"
    }
   ],
   "source": [
    "zv = xv**2 + yv**2\n",
    "\n",
    "plt. contourf (xv, yv, zv, levels=30) #vamos a dibujarla usando contornos de isoalturas. Va a haber 30 contornos. Aumentar el número de contornos hace que el gradiente de color que vamos a ver sea mas suave\n",
    "plt.colorbar() #Es buena costumbre añadir una colorbar que hace de leyendar para orientarnos sobre los valores de z que estamos viendo en ese momento. Acostumbremos a ponerla, que no cuesta nada."
   ]
  },
  {
   "attachments": {},
   "cell_type": "markdown",
   "metadata": {},
   "source": [
    "______\n",
    "\n",
    "\n",
    "> # Fundamentos de álgebra lineal\n",
    "\n",
    "> ## Operaciones con matrices\n",
    "Aprenderemos a crear arrays en más dimensiones y a manejar y a operar con ellos."
   ]
  },
  {
   "cell_type": "markdown",
   "metadata": {},
   "source": []
  },
  {
   "cell_type": "code",
   "execution_count": null,
   "metadata": {},
   "outputs": [
    {
     "data": {
      "text/plain": [
       "array([[0, 5, 8],\n",
       "       [7, 9, 6],\n",
       "       [7, 3, 2]])"
      ]
     },
     "execution_count": 133,
     "metadata": {},
     "output_type": "execute_result"
    }
   ],
   "source": [
    "A = (10*np.random.rand(3,3)).astype(int) #una matriz de enteros de una cifra\n",
    "A"
   ]
  },
  {
   "attachments": {},
   "cell_type": "markdown",
   "metadata": {},
   "source": [
    "Veamos cómo se multiplican matrices"
   ]
  },
  {
   "cell_type": "code",
   "execution_count": null,
   "metadata": {},
   "outputs": [
    {
     "data": {
      "text/plain": [
       "array([34, 43, 19])"
      ]
     },
     "execution_count": 136,
     "metadata": {},
     "output_type": "execute_result"
    }
   ],
   "source": [
    "b1 = np.array([1,2,3])\n",
    "b2 = np.array([5,3,7])\n",
    "\n",
    "A@b1"
   ]
  },
  {
   "attachments": {},
   "cell_type": "markdown",
   "metadata": {},
   "source": [
    "La traspuesta:"
   ]
  },
  {
   "cell_type": "code",
   "execution_count": null,
   "metadata": {},
   "outputs": [
    {
     "data": {
      "text/plain": [
       "array([[0, 7, 7],\n",
       "       [5, 9, 3],\n",
       "       [8, 6, 2]])"
      ]
     },
     "execution_count": 135,
     "metadata": {},
     "output_type": "execute_result"
    }
   ],
   "source": [
    "A.T"
   ]
  },
  {
   "attachments": {},
   "cell_type": "markdown",
   "metadata": {},
   "source": [
    "Para hacer el producto escalar:"
   ]
  },
  {
   "cell_type": "code",
   "execution_count": null,
   "metadata": {},
   "outputs": [
    {
     "data": {
      "text/plain": [
       "32"
      ]
     },
     "execution_count": 137,
     "metadata": {},
     "output_type": "execute_result"
    }
   ],
   "source": [
    "b1@b2"
   ]
  },
  {
   "attachments": {},
   "cell_type": "markdown",
   "metadata": {},
   "source": [
    "Otra forma de hacer el producto escalar:"
   ]
  },
  {
   "cell_type": "code",
   "execution_count": null,
   "metadata": {},
   "outputs": [
    {
     "data": {
      "text/plain": [
       "32"
      ]
     },
     "execution_count": 139,
     "metadata": {},
     "output_type": "execute_result"
    }
   ],
   "source": [
    "np.dot(b1,b2)"
   ]
  },
  {
   "attachments": {},
   "cell_type": "markdown",
   "metadata": {},
   "source": [
    "Para el producto vectorial:"
   ]
  },
  {
   "cell_type": "code",
   "execution_count": null,
   "metadata": {},
   "outputs": [
    {
     "data": {
      "text/plain": [
       "array([ 5,  8, -7])"
      ]
     },
     "execution_count": 140,
     "metadata": {},
     "output_type": "execute_result"
    }
   ],
   "source": [
    "np.cross(b1,b2)"
   ]
  },
  {
   "attachments": {},
   "cell_type": "markdown",
   "metadata": {},
   "source": [
    "> ## Sistemas de ecuaciones\n",
    "\n",
    "$3x+2y+z=4$ <br>\n",
    "$5x-5y+4z=3$<br>\n",
    "$6x+z=0$"
   ]
  },
  {
   "cell_type": "code",
   "execution_count": null,
   "metadata": {},
   "outputs": [],
   "source": [
    "A= np.array([[3,2,1],[5,-5,4],[6,0,1]])\n",
    "C= np.array([4,3,0])"
   ]
  },
  {
   "cell_type": "code",
   "execution_count": null,
   "metadata": {},
   "outputs": [
    {
     "data": {
      "text/plain": [
       "array([-0.49056604,  1.26415094,  2.94339623])"
      ]
     },
     "execution_count": 144,
     "metadata": {},
     "output_type": "execute_result"
    }
   ],
   "source": [
    "np.linalg.solve(A,C)"
   ]
  },
  {
   "attachments": {},
   "cell_type": "markdown",
   "metadata": {},
   "source": [
    "> ## Cálculo de Autovalores"
   ]
  },
  {
   "cell_type": "code",
   "execution_count": null,
   "metadata": {},
   "outputs": [
    {
     "data": {
      "text/plain": [
       "(array([2., 8., 2.]),\n",
       " array([[-0.81649658,  0.57735027, -0.23513651],\n",
       "        [ 0.40824829,  0.57735027, -0.55958248],\n",
       "        [ 0.40824829,  0.57735027,  0.79471899]]))"
      ]
     },
     "execution_count": 145,
     "metadata": {},
     "output_type": "execute_result"
    }
   ],
   "source": [
    "A= np.array([[4,2,2],[2,4,2],[2,2,4]])\n",
    "np.linalg.eig(A)"
   ]
  },
  {
   "attachments": {},
   "cell_type": "markdown",
   "metadata": {},
   "source": [
    "Esta función nos devuelve los autovalores y los autovectores. Para definir lo que queremos podemos hacer uso de cómo se nombran las variables en python y así seleccionamos.\n",
    "\n",
    "**IMPORTANTE: LOS AUTOVECTORES LOS FORMAN LAS COLUMNAS, NO LAS FILAS**"
   ]
  },
  {
   "cell_type": "code",
   "execution_count": null,
   "metadata": {},
   "outputs": [
    {
     "data": {
      "text/plain": [
       "array([2., 8., 2.])"
      ]
     },
     "execution_count": 151,
     "metadata": {},
     "output_type": "execute_result"
    }
   ],
   "source": [
    "w,v=np.linalg.eig(A)\n",
    "\n",
    "w #Problemos primero a que nos devuelva el array de autovalores"
   ]
  },
  {
   "attachments": {},
   "cell_type": "markdown",
   "metadata": {},
   "source": [
    "Probemos a que nos devuelva ahora el primer autovector, ya que podemos seleccionar lo que queremos de la matriz con lo que sabemos del indexado."
   ]
  },
  {
   "cell_type": "code",
   "execution_count": null,
   "metadata": {},
   "outputs": [
    {
     "data": {
      "text/plain": [
       "array([-0.81649658,  0.40824829,  0.40824829])"
      ]
     },
     "execution_count": 154,
     "metadata": {},
     "output_type": "execute_result"
    }
   ],
   "source": [
    "v1= v[:,0]\n",
    "v1"
   ]
  },
  {
   "attachments": {},
   "cell_type": "markdown",
   "metadata": {},
   "source": [
    "Comprobemos que todo esto es verdad y está bien hecho: Si multiplicamos nuestra matriz original $A$ escalarmente por $v_1$, nos tendría que dar lo mismo que multiplicar el primer autovalor por el primer autovector. Es básicamente la ecuación de autovalores<br>\n",
    "$$A \\cdot v1= (Autovalor_1) \\cdot v1$$"
   ]
  },
  {
   "cell_type": "code",
   "execution_count": null,
   "metadata": {},
   "outputs": [
    {
     "data": {
      "text/plain": [
       "array([-1.63299316,  0.81649658,  0.81649658])"
      ]
     },
     "execution_count": 155,
     "metadata": {},
     "output_type": "execute_result"
    }
   ],
   "source": [
    "A@v1"
   ]
  },
  {
   "cell_type": "code",
   "execution_count": null,
   "metadata": {},
   "outputs": [
    {
     "data": {
      "text/plain": [
       "array([-1.63299316,  0.81649658,  0.81649658])"
      ]
     },
     "execution_count": 157,
     "metadata": {},
     "output_type": "execute_result"
    }
   ],
   "source": [
    "w[0]*v1"
   ]
  },
  {
   "attachments": {},
   "cell_type": "markdown",
   "metadata": {},
   "source": [
    "> # Ejemplos\n",
    "\n",
    "> ## Problema 1\n",
    "\n",
    "Sea $f(x,y)= e ^ {-(x^2 + y^2)} \\cdot \\sin(x)$ para $-2 \\leq x \\leq 2$ y $-2 \\leq y \\leq 2$ <br>\n",
    "\n",
    "1. Haga un plot con contornos de $f$ \n",
    "2. Encuentre el volumen de $ \\lvert {f(x,y)} \\rvert $ en el intervalo especificado\n",
    "3. Encuentre el volumen de $ \\lvert {f(x,y)} \\rvert $ sólo en la región donde $\\sqrt{(x^2+y^2)}>0.5$"
   ]
  },
  {
   "cell_type": "code",
   "execution_count": null,
   "metadata": {},
   "outputs": [
    {
     "data": {
      "text/plain": [
       "<matplotlib.colorbar.Colorbar at 0x1f0264aefa0>"
      ]
     },
     "execution_count": 162,
     "metadata": {},
     "output_type": "execute_result"
    },
    {
     "data": {
      "image/png": "[encoded data removed]",
      "text/plain": [
       "<Figure size 432x288 with 2 Axes>"
      ]
     },
     "metadata": {
      "needs_background": "light"
     },
     "output_type": "display_data"
    }
   ],
   "source": [
    "#1\n",
    "\n",
    "x= np.linspace(-2,2,1000)\n",
    "y= np.linspace(-2,2,1000)\n",
    "xv,yv= np.meshgrid(x,y)\n",
    "\n",
    "f= np.exp(-(xv**2+yv**2)) * np.sin(xv)\n",
    "\n",
    "plt.contourf(xv, yv, f, levels=200)\n",
    "plt.colorbar()"
   ]
  },
  {
   "attachments": {},
   "cell_type": "markdown",
   "metadata": {},
   "source": [
    "Para el segundo apartado, vamos a pensar en términos de la integral de Riemann en 2D. Lo que voy a hacer es sumar los volúmenes de tantos paralelepípedos como puntos del grid haya. Para ello, vamos a sumar todos los valores de las alturas de cada punto de $f$ usando *sum( )* en *ravel(f)*. $f$ es una matriz bidimensional a la que le aplicaremos el ravel para ir sumando. Hay que multiplicar estas alturas por el diferencial de área en el eje $x$ e $y$."
   ]
  },
  {
   "cell_type": "code",
   "execution_count": null,
   "metadata": {},
   "outputs": [
    {
     "data": {
      "text/plain": [
       "1.4861858145124311"
      ]
     },
     "execution_count": 164,
     "metadata": {},
     "output_type": "execute_result"
    }
   ],
   "source": [
    "#2\n",
    "np.abs(f.ravel()).sum() * (x[1]-x[0]) * (y[1]-y[0]) #los diferenciales los calculamos de esta manera tan ingeniosa"
   ]
  },
  {
   "attachments": {},
   "cell_type": "markdown",
   "metadata": {},
   "source": [
    "También se puede hacer utilizando la funcion *np.diff( )*, que nos da las diferencias entre los elementos de un array. Si aplicamos esta función a nuestros ejes, es obvio pensar que las diferencias son iguales."
   ]
  },
  {
   "cell_type": "code",
   "execution_count": null,
   "metadata": {},
   "outputs": [
    {
     "data": {
      "text/plain": [
       "array([0.004004, 0.004004, 0.004004, 0.004004, 0.004004, 0.004004,\n",
       "       0.004004, 0.004004, 0.004004, 0.004004, 0.004004, 0.004004,\n",
       "       0.004004, 0.004004, 0.004004, 0.004004, 0.004004, 0.004004,\n",
       "       0.004004, 0.004004, 0.004004, 0.004004, 0.004004, 0.004004,\n",
       "       0.004004, 0.004004, 0.004004, 0.004004, 0.004004, 0.004004,\n",
       "       0.004004, 0.004004, 0.004004, 0.004004, 0.004004, 0.004004,\n",
       "       0.004004, 0.004004, 0.004004, 0.004004, 0.004004, 0.004004,\n",
       "       0.004004, 0.004004, 0.004004, 0.004004, 0.004004, 0.004004,\n",
       "       0.004004, 0.004004, 0.004004, 0.004004, 0.004004, 0.004004,\n",
       "       0.004004, 0.004004, 0.004004, 0.004004, 0.004004, 0.004004,\n",
       "       0.004004, 0.004004, 0.004004, 0.004004, 0.004004, 0.004004,\n",
       "       0.004004, 0.004004, 0.004004, 0.004004, 0.004004, 0.004004,\n",
       "       0.004004, 0.004004, 0.004004, 0.004004, 0.004004, 0.004004,\n",
       "       0.004004, 0.004004, 0.004004, 0.004004, 0.004004, 0.004004,\n",
       "       0.004004, 0.004004, 0.004004, 0.004004, 0.004004, 0.004004,\n",
       "       0.004004, 0.004004, 0.004004, 0.004004, 0.004004, 0.004004,\n",
       "       0.004004, 0.004004, 0.004004, 0.004004, 0.004004, 0.004004,\n",
       "       0.004004, 0.004004, 0.004004, 0.004004, 0.004004, 0.004004,\n",
       "       0.004004, 0.004004, 0.004004, 0.004004, 0.004004, 0.004004,\n",
       "       0.004004, 0.004004, 0.004004, 0.004004, 0.004004, 0.004004,\n",
       "       0.004004, 0.004004, 0.004004, 0.004004, 0.004004, 0.004004,\n",
       "       0.004004, 0.004004, 0.004004, 0.004004, 0.004004, 0.004004,\n",
       "       0.004004, 0.004004, 0.004004, 0.004004, 0.004004, 0.004004,\n",
       "       0.004004, 0.004004, 0.004004, 0.004004, 0.004004, 0.004004,\n",
       "       0.004004, 0.004004, 0.004004, 0.004004, 0.004004, 0.004004,\n",
       "       0.004004, 0.004004, 0.004004, 0.004004, 0.004004, 0.004004,\n",
       "       0.004004, 0.004004, 0.004004, 0.004004, 0.004004, 0.004004,\n",
       "       0.004004, 0.004004, 0.004004, 0.004004, 0.004004, 0.004004,\n",
       "       0.004004, 0.004004, 0.004004, 0.004004, 0.004004, 0.004004,\n",
       "       0.004004, 0.004004, 0.004004, 0.004004, 0.004004, 0.004004,\n",
       "       0.004004, 0.004004, 0.004004, 0.004004, 0.004004, 0.004004,\n",
       "       0.004004, 0.004004, 0.004004, 0.004004, 0.004004, 0.004004,\n",
       "       0.004004, 0.004004, 0.004004, 0.004004, 0.004004, 0.004004,\n",
       "       0.004004, 0.004004, 0.004004, 0.004004, 0.004004, 0.004004,\n",
       "       0.004004, 0.004004, 0.004004, 0.004004, 0.004004, 0.004004,\n",
       "       0.004004, 0.004004, 0.004004, 0.004004, 0.004004, 0.004004,\n",
       "       0.004004, 0.004004, 0.004004, 0.004004, 0.004004, 0.004004,\n",
       "       0.004004, 0.004004, 0.004004, 0.004004, 0.004004, 0.004004,\n",
       "       0.004004, 0.004004, 0.004004, 0.004004, 0.004004, 0.004004,\n",
       "       0.004004, 0.004004, 0.004004, 0.004004, 0.004004, 0.004004,\n",
       "       0.004004, 0.004004, 0.004004, 0.004004, 0.004004, 0.004004,\n",
       "       0.004004, 0.004004, 0.004004, 0.004004, 0.004004, 0.004004,\n",
       "       0.004004, 0.004004, 0.004004, 0.004004, 0.004004, 0.004004,\n",
       "       0.004004, 0.004004, 0.004004, 0.004004, 0.004004, 0.004004,\n",
       "       0.004004, 0.004004, 0.004004, 0.004004, 0.004004, 0.004004,\n",
       "       0.004004, 0.004004, 0.004004, 0.004004, 0.004004, 0.004004,\n",
       "       0.004004, 0.004004, 0.004004, 0.004004, 0.004004, 0.004004,\n",
       "       0.004004, 0.004004, 0.004004, 0.004004, 0.004004, 0.004004,\n",
       "       0.004004, 0.004004, 0.004004, 0.004004, 0.004004, 0.004004,\n",
       "       0.004004, 0.004004, 0.004004, 0.004004, 0.004004, 0.004004,\n",
       "       0.004004, 0.004004, 0.004004, 0.004004, 0.004004, 0.004004,\n",
       "       0.004004, 0.004004, 0.004004, 0.004004, 0.004004, 0.004004,\n",
       "       0.004004, 0.004004, 0.004004, 0.004004, 0.004004, 0.004004,\n",
       "       0.004004, 0.004004, 0.004004, 0.004004, 0.004004, 0.004004,\n",
       "       0.004004, 0.004004, 0.004004, 0.004004, 0.004004, 0.004004,\n",
       "       0.004004, 0.004004, 0.004004, 0.004004, 0.004004, 0.004004,\n",
       "       0.004004, 0.004004, 0.004004, 0.004004, 0.004004, 0.004004,\n",
       "       0.004004, 0.004004, 0.004004, 0.004004, 0.004004, 0.004004,\n",
       "       0.004004, 0.004004, 0.004004, 0.004004, 0.004004, 0.004004,\n",
       "       0.004004, 0.004004, 0.004004, 0.004004, 0.004004, 0.004004,\n",
       "       0.004004, 0.004004, 0.004004, 0.004004, 0.004004, 0.004004,\n",
       "       0.004004, 0.004004, 0.004004, 0.004004, 0.004004, 0.004004,\n",
       "       0.004004, 0.004004, 0.004004, 0.004004, 0.004004, 0.004004,\n",
       "       0.004004, 0.004004, 0.004004, 0.004004, 0.004004, 0.004004,\n",
       "       0.004004, 0.004004, 0.004004, 0.004004, 0.004004, 0.004004,\n",
       "       0.004004, 0.004004, 0.004004, 0.004004, 0.004004, 0.004004,\n",
       "       0.004004, 0.004004, 0.004004, 0.004004, 0.004004, 0.004004,\n",
       "       0.004004, 0.004004, 0.004004, 0.004004, 0.004004, 0.004004,\n",
       "       0.004004, 0.004004, 0.004004, 0.004004, 0.004004, 0.004004,\n",
       "       0.004004, 0.004004, 0.004004, 0.004004, 0.004004, 0.004004,\n",
       "       0.004004, 0.004004, 0.004004, 0.004004, 0.004004, 0.004004,\n",
       "       0.004004, 0.004004, 0.004004, 0.004004, 0.004004, 0.004004,\n",
       "       0.004004, 0.004004, 0.004004, 0.004004, 0.004004, 0.004004,\n",
       "       0.004004, 0.004004, 0.004004, 0.004004, 0.004004, 0.004004,\n",
       "       0.004004, 0.004004, 0.004004, 0.004004, 0.004004, 0.004004,\n",
       "       0.004004, 0.004004, 0.004004, 0.004004, 0.004004, 0.004004,\n",
       "       0.004004, 0.004004, 0.004004, 0.004004, 0.004004, 0.004004,\n",
       "       0.004004, 0.004004, 0.004004, 0.004004, 0.004004, 0.004004,\n",
       "       0.004004, 0.004004, 0.004004, 0.004004, 0.004004, 0.004004,\n",
       "       0.004004, 0.004004, 0.004004, 0.004004, 0.004004, 0.004004,\n",
       "       0.004004, 0.004004, 0.004004, 0.004004, 0.004004, 0.004004,\n",
       "       0.004004, 0.004004, 0.004004, 0.004004, 0.004004, 0.004004,\n",
       "       0.004004, 0.004004, 0.004004, 0.004004, 0.004004, 0.004004,\n",
       "       0.004004, 0.004004, 0.004004, 0.004004, 0.004004, 0.004004,\n",
       "       0.004004, 0.004004, 0.004004, 0.004004, 0.004004, 0.004004,\n",
       "       0.004004, 0.004004, 0.004004, 0.004004, 0.004004, 0.004004,\n",
       "       0.004004, 0.004004, 0.004004, 0.004004, 0.004004, 0.004004,\n",
       "       0.004004, 0.004004, 0.004004, 0.004004, 0.004004, 0.004004,\n",
       "       0.004004, 0.004004, 0.004004, 0.004004, 0.004004, 0.004004,\n",
       "       0.004004, 0.004004, 0.004004, 0.004004, 0.004004, 0.004004,\n",
       "       0.004004, 0.004004, 0.004004, 0.004004, 0.004004, 0.004004,\n",
       "       0.004004, 0.004004, 0.004004, 0.004004, 0.004004, 0.004004,\n",
       "       0.004004, 0.004004, 0.004004, 0.004004, 0.004004, 0.004004,\n",
       "       0.004004, 0.004004, 0.004004, 0.004004, 0.004004, 0.004004,\n",
       "       0.004004, 0.004004, 0.004004, 0.004004, 0.004004, 0.004004,\n",
       "       0.004004, 0.004004, 0.004004, 0.004004, 0.004004, 0.004004,\n",
       "       0.004004, 0.004004, 0.004004, 0.004004, 0.004004, 0.004004,\n",
       "       0.004004, 0.004004, 0.004004, 0.004004, 0.004004, 0.004004,\n",
       "       0.004004, 0.004004, 0.004004, 0.004004, 0.004004, 0.004004,\n",
       "       0.004004, 0.004004, 0.004004, 0.004004, 0.004004, 0.004004,\n",
       "       0.004004, 0.004004, 0.004004, 0.004004, 0.004004, 0.004004,\n",
       "       0.004004, 0.004004, 0.004004, 0.004004, 0.004004, 0.004004,\n",
       "       0.004004, 0.004004, 0.004004, 0.004004, 0.004004, 0.004004,\n",
       "       0.004004, 0.004004, 0.004004, 0.004004, 0.004004, 0.004004,\n",
       "       0.004004, 0.004004, 0.004004, 0.004004, 0.004004, 0.004004,\n",
       "       0.004004, 0.004004, 0.004004, 0.004004, 0.004004, 0.004004,\n",
       "       0.004004, 0.004004, 0.004004, 0.004004, 0.004004, 0.004004,\n",
       "       0.004004, 0.004004, 0.004004, 0.004004, 0.004004, 0.004004,\n",
       "       0.004004, 0.004004, 0.004004, 0.004004, 0.004004, 0.004004,\n",
       "       0.004004, 0.004004, 0.004004, 0.004004, 0.004004, 0.004004,\n",
       "       0.004004, 0.004004, 0.004004, 0.004004, 0.004004, 0.004004,\n",
       "       0.004004, 0.004004, 0.004004, 0.004004, 0.004004, 0.004004,\n",
       "       0.004004, 0.004004, 0.004004, 0.004004, 0.004004, 0.004004,\n",
       "       0.004004, 0.004004, 0.004004, 0.004004, 0.004004, 0.004004,\n",
       "       0.004004, 0.004004, 0.004004, 0.004004, 0.004004, 0.004004,\n",
       "       0.004004, 0.004004, 0.004004, 0.004004, 0.004004, 0.004004,\n",
       "       0.004004, 0.004004, 0.004004, 0.004004, 0.004004, 0.004004,\n",
       "       0.004004, 0.004004, 0.004004, 0.004004, 0.004004, 0.004004,\n",
       "       0.004004, 0.004004, 0.004004, 0.004004, 0.004004, 0.004004,\n",
       "       0.004004, 0.004004, 0.004004, 0.004004, 0.004004, 0.004004,\n",
       "       0.004004, 0.004004, 0.004004, 0.004004, 0.004004, 0.004004,\n",
       "       0.004004, 0.004004, 0.004004, 0.004004, 0.004004, 0.004004,\n",
       "       0.004004, 0.004004, 0.004004, 0.004004, 0.004004, 0.004004,\n",
       "       0.004004, 0.004004, 0.004004, 0.004004, 0.004004, 0.004004,\n",
       "       0.004004, 0.004004, 0.004004, 0.004004, 0.004004, 0.004004,\n",
       "       0.004004, 0.004004, 0.004004, 0.004004, 0.004004, 0.004004,\n",
       "       0.004004, 0.004004, 0.004004, 0.004004, 0.004004, 0.004004,\n",
       "       0.004004, 0.004004, 0.004004, 0.004004, 0.004004, 0.004004,\n",
       "       0.004004, 0.004004, 0.004004, 0.004004, 0.004004, 0.004004,\n",
       "       0.004004, 0.004004, 0.004004, 0.004004, 0.004004, 0.004004,\n",
       "       0.004004, 0.004004, 0.004004, 0.004004, 0.004004, 0.004004,\n",
       "       0.004004, 0.004004, 0.004004, 0.004004, 0.004004, 0.004004,\n",
       "       0.004004, 0.004004, 0.004004, 0.004004, 0.004004, 0.004004,\n",
       "       0.004004, 0.004004, 0.004004, 0.004004, 0.004004, 0.004004,\n",
       "       0.004004, 0.004004, 0.004004, 0.004004, 0.004004, 0.004004,\n",
       "       0.004004, 0.004004, 0.004004, 0.004004, 0.004004, 0.004004,\n",
       "       0.004004, 0.004004, 0.004004, 0.004004, 0.004004, 0.004004,\n",
       "       0.004004, 0.004004, 0.004004, 0.004004, 0.004004, 0.004004,\n",
       "       0.004004, 0.004004, 0.004004, 0.004004, 0.004004, 0.004004,\n",
       "       0.004004, 0.004004, 0.004004, 0.004004, 0.004004, 0.004004,\n",
       "       0.004004, 0.004004, 0.004004, 0.004004, 0.004004, 0.004004,\n",
       "       0.004004, 0.004004, 0.004004, 0.004004, 0.004004, 0.004004,\n",
       "       0.004004, 0.004004, 0.004004, 0.004004, 0.004004, 0.004004,\n",
       "       0.004004, 0.004004, 0.004004, 0.004004, 0.004004, 0.004004,\n",
       "       0.004004, 0.004004, 0.004004, 0.004004, 0.004004, 0.004004,\n",
       "       0.004004, 0.004004, 0.004004, 0.004004, 0.004004, 0.004004,\n",
       "       0.004004, 0.004004, 0.004004, 0.004004, 0.004004, 0.004004,\n",
       "       0.004004, 0.004004, 0.004004, 0.004004, 0.004004, 0.004004,\n",
       "       0.004004, 0.004004, 0.004004, 0.004004, 0.004004, 0.004004,\n",
       "       0.004004, 0.004004, 0.004004, 0.004004, 0.004004, 0.004004,\n",
       "       0.004004, 0.004004, 0.004004, 0.004004, 0.004004, 0.004004,\n",
       "       0.004004, 0.004004, 0.004004, 0.004004, 0.004004, 0.004004,\n",
       "       0.004004, 0.004004, 0.004004, 0.004004, 0.004004, 0.004004,\n",
       "       0.004004, 0.004004, 0.004004, 0.004004, 0.004004, 0.004004,\n",
       "       0.004004, 0.004004, 0.004004, 0.004004, 0.004004, 0.004004,\n",
       "       0.004004, 0.004004, 0.004004, 0.004004, 0.004004, 0.004004,\n",
       "       0.004004, 0.004004, 0.004004, 0.004004, 0.004004, 0.004004,\n",
       "       0.004004, 0.004004, 0.004004, 0.004004, 0.004004, 0.004004,\n",
       "       0.004004, 0.004004, 0.004004, 0.004004, 0.004004, 0.004004,\n",
       "       0.004004, 0.004004, 0.004004, 0.004004, 0.004004, 0.004004,\n",
       "       0.004004, 0.004004, 0.004004, 0.004004, 0.004004, 0.004004,\n",
       "       0.004004, 0.004004, 0.004004, 0.004004, 0.004004, 0.004004,\n",
       "       0.004004, 0.004004, 0.004004, 0.004004, 0.004004, 0.004004,\n",
       "       0.004004, 0.004004, 0.004004, 0.004004, 0.004004, 0.004004,\n",
       "       0.004004, 0.004004, 0.004004, 0.004004, 0.004004, 0.004004,\n",
       "       0.004004, 0.004004, 0.004004, 0.004004, 0.004004, 0.004004,\n",
       "       0.004004, 0.004004, 0.004004])"
      ]
     },
     "execution_count": 165,
     "metadata": {},
     "output_type": "execute_result"
    }
   ],
   "source": [
    "np.diff(x)"
   ]
  },
  {
   "cell_type": "code",
   "execution_count": null,
   "metadata": {},
   "outputs": [
    {
     "data": {
      "text/plain": [
       "0.004004004004003914"
      ]
     },
     "execution_count": 166,
     "metadata": {},
     "output_type": "execute_result"
    }
   ],
   "source": [
    "np.diff(x)[0] #con coger cualquier elemento nos vale, nosotros cogemos el primero y ya"
   ]
  },
  {
   "cell_type": "code",
   "execution_count": null,
   "metadata": {},
   "outputs": [
    {
     "data": {
      "text/plain": [
       "1.4861858145124311"
      ]
     },
     "execution_count": 167,
     "metadata": {},
     "output_type": "execute_result"
    }
   ],
   "source": [
    "#comprobemos que sale lo mismo\n",
    "np.abs(f.ravel()).sum() * np.diff(x)[0] *np.diff(y)[0] #en nuestro caso los diferenciales para x e y son iguales, pero podrian no serlo si trabajamos con ejes raros"
   ]
  },
  {
   "attachments": {},
   "cell_type": "markdown",
   "metadata": {},
   "source": [
    "Para el tercer apartado, que es larguísimo en papel, podemos utilizar un indexado de arrays (o máscara) porque sólo necesito calcular los puntos donde el valor de *f* es *true* dentro del círculo que se ha definido."
   ]
  },
  {
   "cell_type": "code",
   "execution_count": null,
   "metadata": {},
   "outputs": [
    {
     "data": {
      "text/plain": [
       "array([[ True,  True,  True, ...,  True,  True,  True],\n",
       "       [ True,  True,  True, ...,  True,  True,  True],\n",
       "       [ True,  True,  True, ...,  True,  True,  True],\n",
       "       ...,\n",
       "       [ True,  True,  True, ...,  True,  True,  True],\n",
       "       [ True,  True,  True, ...,  True,  True,  True],\n",
       "       [ True,  True,  True, ...,  True,  True,  True]])"
      ]
     },
     "execution_count": 169,
     "metadata": {},
     "output_type": "execute_result"
    }
   ],
   "source": [
    "#3\n",
    "xv**2 + yv**2 > 0.5**2 #primero vamos a definir la base del indexado"
   ]
  },
  {
   "attachments": {},
   "cell_type": "markdown",
   "metadata": {},
   "source": [
    "Ya tenemos la máscara. Ahora sólo hay que utilizar el indexado de los valores de *f* sobre la máscara"
   ]
  },
  {
   "cell_type": "code",
   "execution_count": null,
   "metadata": {},
   "outputs": [
    {
     "data": {
      "text/plain": [
       "1.3447652930203164"
      ]
     },
     "execution_count": 171,
     "metadata": {},
     "output_type": "execute_result"
    }
   ],
   "source": [
    "restric= f[xv**2 + yv**2 > 0.5**2] #aplicamos el indexado\n",
    "np.abs(restric.ravel()).sum() * np.diff(x)[0] *np.diff(y)[0]"
   ]
  },
  {
   "attachments": {},
   "cell_type": "markdown",
   "metadata": {},
   "source": [
    "> ## Problema 2\n",
    "\n",
    "Un campo eléctrico está dado por $\\vec{E}(z,t)= E_0 \\cos(z-t)\\hat{x} + 2E_0 \\cos(z-t + \\pi/2)\\hat{y}$\n",
    "\n",
    "1. Encuentre el campo magnético para todo $z \\in [0,4\\pi]$ y $t \\in [0,10]$ usando $ \\vec{B}(z,t)=\\hat{z}\\times \\vec{E}(z,t)$ \n",
    "2. Calcule el vector de Poynting $\\vec{S}=\\vec{E}\\times\\vec{B}$ para todo $z, t$"
   ]
  },
  {
   "cell_type": "code",
   "execution_count": 151,
   "metadata": {},
   "outputs": [],
   "source": [
    "z= np.linspace(0,4*np.pi,100)\n",
    "t= np.linspace(0,10,100)\n",
    "\n",
    "tv,zv= np.meshgrid(t,z)"
   ]
  },
  {
   "cell_type": "code",
   "execution_count": 152,
   "metadata": {},
   "outputs": [],
   "source": [
    "Ex= np.cos(zv-tv)\n",
    "Ey= 2*np.cos(zv-tv + np.pi/2)\n",
    "Ez= 0*tv #truquito: nos da un array nulo, que es lo que queremos nosotros"
   ]
  },
  {
   "attachments": {},
   "cell_type": "markdown",
   "metadata": {},
   "source": [
    "Vamos a normalizar como $$\\frac{\\vec{E}(z,t)}{E_0 }= \\cos(z-t)\\hat{x} + 2\\cos(z-t + \\pi/2)\\hat{y}$$\n",
    "para simplificar los cálculos. Ya en función del valor de $E_0$ haríamos las cuentas adecuadamente. Busquemos siempre sacar este tipo de constantes del tratamiento.\n",
    "\n",
    "Ahora expresemos como función $E_x (t)$ en $z=0$"
   ]
  },
  {
   "cell_type": "code",
   "execution_count": 153,
   "metadata": {},
   "outputs": [
    {
     "data": {
      "text/plain": [
       "[<matplotlib.lines.Line2D at 0x267a53b21f0>]"
      ]
     },
     "execution_count": 153,
     "metadata": {},
     "output_type": "execute_result"
    },
    {
     "data": {
      "image/png": "[encoded data removed]",
      "text/plain": [
       "<Figure size 432x288 with 1 Axes>"
      ]
     },
     "metadata": {
      "needs_background": "light"
     },
     "output_type": "display_data"
    }
   ],
   "source": [
    "plt.plot(t, Ex[0]) #El elemento 0-ésimo de Ex nos da el tiempo   ******ENTERARME DE POR QUE ESTO ES ASI******"
   ]
  },
  {
   "attachments": {},
   "cell_type": "markdown",
   "metadata": {},
   "source": [
    "\n",
    "Ahora expresemos como función $E_x (z)$ en $t=0$"
   ]
  },
  {
   "cell_type": "code",
   "execution_count": 154,
   "metadata": {},
   "outputs": [
    {
     "data": {
      "text/plain": [
       "[<matplotlib.lines.Line2D at 0x267a53fd610>]"
      ]
     },
     "execution_count": 154,
     "metadata": {},
     "output_type": "execute_result"
    },
    {
     "data": {
      "image/png": "[encoded data removed]",
      "text/plain": [
       "<Figure size 432x288 with 1 Axes>"
      ]
     },
     "metadata": {
      "needs_background": "light"
     },
     "output_type": "display_data"
    }
   ],
   "source": [
    "plt.plot(t, Ex[:,0]) #nos da el"
   ]
  },
  {
   "cell_type": "code",
   "execution_count": 155,
   "metadata": {},
   "outputs": [
    {
     "data": {
      "text/plain": [
       "array([[[ 1.00000000e+00,  9.94902816e-01,  9.79663226e-01, ...,\n",
       "         -9.31164735e-01, -8.89652856e-01, -8.39071529e-01],\n",
       "        [ 9.91954813e-01,  9.99664020e-01,  9.97182283e-01, ...,\n",
       "         -9.69828789e-01, -9.40302293e-01, -9.01190009e-01],\n",
       "        [ 9.67948701e-01,  9.88340255e-01,  9.98656304e-01, ...,\n",
       "         -9.92887934e-01, -9.75821913e-01, -9.48808004e-01],\n",
       "        ...,\n",
       "        [ 9.67948701e-01,  9.37689522e-01,  8.97871191e-01, ...,\n",
       "         -8.09751458e-01, -7.46454741e-01, -6.75548390e-01],\n",
       "        [ 9.91954813e-01,  9.74133253e-01,  9.46381021e-01, ...,\n",
       "         -8.77517892e-01, -8.24688573e-01, -7.63452074e-01],\n",
       "        [ 1.00000000e+00,  9.94902816e-01,  9.79663226e-01, ...,\n",
       "         -9.31164735e-01, -8.89652856e-01, -8.39071529e-01]],\n",
       "\n",
       "       [[ 1.22464680e-16,  2.01676841e-01,  4.01297713e-01, ...,\n",
       "         -7.29197467e-01, -9.13274975e-01, -1.08804222e+00],\n",
       "        [-2.53184907e-01, -5.18400645e-02,  1.50033255e-01, ...,\n",
       "         -4.87574080e-01, -6.80680831e-01, -8.66848471e-01],\n",
       "        [-5.02295974e-01, -3.04522843e-01, -1.03645294e-01, ...,\n",
       "         -2.38105444e-01, -4.37134278e-01, -6.31706804e-01],\n",
       "        ...,\n",
       "        [ 5.02295974e-01,  6.94948515e-01,  8.80516495e-01, ...,\n",
       "         -1.17354604e+00, -1.33087237e+00, -1.47463131e+00],\n",
       "        [ 2.53184907e-01,  4.51948690e-01,  6.46105141e-01, ...,\n",
       "         -9.59087794e-01, -1.13117418e+00, -1.29172897e+00],\n",
       "        [ 1.10218212e-15,  2.01676841e-01,  4.01297713e-01, ...,\n",
       "         -7.29197467e-01, -9.13274975e-01, -1.08804222e+00]],\n",
       "\n",
       "       [[ 0.00000000e+00,  0.00000000e+00,  0.00000000e+00, ...,\n",
       "          0.00000000e+00,  0.00000000e+00,  0.00000000e+00],\n",
       "        [ 0.00000000e+00,  0.00000000e+00,  0.00000000e+00, ...,\n",
       "          0.00000000e+00,  0.00000000e+00,  0.00000000e+00],\n",
       "        [ 0.00000000e+00,  0.00000000e+00,  0.00000000e+00, ...,\n",
       "          0.00000000e+00,  0.00000000e+00,  0.00000000e+00],\n",
       "        ...,\n",
       "        [ 0.00000000e+00,  0.00000000e+00,  0.00000000e+00, ...,\n",
       "          0.00000000e+00,  0.00000000e+00,  0.00000000e+00],\n",
       "        [ 0.00000000e+00,  0.00000000e+00,  0.00000000e+00, ...,\n",
       "          0.00000000e+00,  0.00000000e+00,  0.00000000e+00],\n",
       "        [ 0.00000000e+00,  0.00000000e+00,  0.00000000e+00, ...,\n",
       "          0.00000000e+00,  0.00000000e+00,  0.00000000e+00]]])"
      ]
     },
     "execution_count": 155,
     "metadata": {},
     "output_type": "execute_result"
    }
   ],
   "source": [
    "E= np.array([Ex,Ey,Ez])\n",
    "E"
   ]
  },
  {
   "attachments": {},
   "cell_type": "markdown",
   "metadata": {},
   "source": [
    "Este anterior array se compone de 3 matrices 100x100 que son los valores de $E_x ,E_y ,E_z$ respectivamente. La cuestión es que al tener cada coordenada como un array de 100x100, el producto vectorial que queremos hacer ahora para hallar $\\vec B$ no es tan directo y python no lo va a interpretar como nosotros queremos. Lo ideal es que nosotros podamos expresar el array anterior como una serie de tripletas con los valores $[E_x , E_t , E_z]$ para cada coordenada. Eso lo podemos hacer con un *swapping*"
   ]
  },
  {
   "cell_type": "code",
   "execution_count": 156,
   "metadata": {},
   "outputs": [
    {
     "data": {
      "text/plain": [
       "array([[[ 1.00000000e+00,  1.22464680e-16,  0.00000000e+00],\n",
       "        [ 9.91954813e-01, -2.53184907e-01,  0.00000000e+00],\n",
       "        [ 9.67948701e-01, -5.02295974e-01,  0.00000000e+00],\n",
       "        ...,\n",
       "        [ 9.67948701e-01,  5.02295974e-01,  0.00000000e+00],\n",
       "        [ 9.91954813e-01,  2.53184907e-01,  0.00000000e+00],\n",
       "        [ 1.00000000e+00,  1.10218212e-15,  0.00000000e+00]],\n",
       "\n",
       "       [[ 9.94902816e-01,  2.01676841e-01,  0.00000000e+00],\n",
       "        [ 9.99664020e-01, -5.18400645e-02,  0.00000000e+00],\n",
       "        [ 9.88340255e-01, -3.04522843e-01,  0.00000000e+00],\n",
       "        ...,\n",
       "        [ 9.37689522e-01,  6.94948515e-01,  0.00000000e+00],\n",
       "        [ 9.74133253e-01,  4.51948690e-01,  0.00000000e+00],\n",
       "        [ 9.94902816e-01,  2.01676841e-01,  0.00000000e+00]],\n",
       "\n",
       "       [[ 9.79663226e-01,  4.01297713e-01,  0.00000000e+00],\n",
       "        [ 9.97182283e-01,  1.50033255e-01,  0.00000000e+00],\n",
       "        [ 9.98656304e-01, -1.03645294e-01,  0.00000000e+00],\n",
       "        ...,\n",
       "        [ 8.97871191e-01,  8.80516495e-01,  0.00000000e+00],\n",
       "        [ 9.46381021e-01,  6.46105141e-01,  0.00000000e+00],\n",
       "        [ 9.79663226e-01,  4.01297713e-01,  0.00000000e+00]],\n",
       "\n",
       "       ...,\n",
       "\n",
       "       [[-9.31164735e-01, -7.29197467e-01,  0.00000000e+00],\n",
       "        [-9.69828789e-01, -4.87574080e-01,  0.00000000e+00],\n",
       "        [-9.92887934e-01, -2.38105444e-01,  0.00000000e+00],\n",
       "        ...,\n",
       "        [-8.09751458e-01, -1.17354604e+00,  0.00000000e+00],\n",
       "        [-8.77517892e-01, -9.59087794e-01,  0.00000000e+00],\n",
       "        [-9.31164735e-01, -7.29197467e-01,  0.00000000e+00]],\n",
       "\n",
       "       [[-8.89652856e-01, -9.13274975e-01,  0.00000000e+00],\n",
       "        [-9.40302293e-01, -6.80680831e-01,  0.00000000e+00],\n",
       "        [-9.75821913e-01, -4.37134278e-01,  0.00000000e+00],\n",
       "        ...,\n",
       "        [-7.46454741e-01, -1.33087237e+00,  0.00000000e+00],\n",
       "        [-8.24688573e-01, -1.13117418e+00,  0.00000000e+00],\n",
       "        [-8.89652856e-01, -9.13274975e-01,  0.00000000e+00]],\n",
       "\n",
       "       [[-8.39071529e-01, -1.08804222e+00,  0.00000000e+00],\n",
       "        [-9.01190009e-01, -8.66848471e-01,  0.00000000e+00],\n",
       "        [-9.48808004e-01, -6.31706804e-01,  0.00000000e+00],\n",
       "        ...,\n",
       "        [-6.75548390e-01, -1.47463131e+00,  0.00000000e+00],\n",
       "        [-7.63452074e-01, -1.29172897e+00,  0.00000000e+00],\n",
       "        [-8.39071529e-01, -1.08804222e+00,  0.00000000e+00]]])"
      ]
     },
     "execution_count": 156,
     "metadata": {},
     "output_type": "execute_result"
    }
   ],
   "source": [
    "E= np.swapaxes(E, 0, -1) #swapeamos el eje que etiqueta Ex, Ey, Ez con el -1, es decir, con el ultimo, que son todos los puntos individuales en sí mismos. Veámoslo.\n",
    "E"
   ]
  },
  {
   "attachments": {},
   "cell_type": "markdown",
   "metadata": {},
   "source": [
    "Ahora sí puedo hacer el producto vectorial:"
   ]
  },
  {
   "cell_type": "code",
   "execution_count": 157,
   "metadata": {},
   "outputs": [
    {
     "data": {
      "text/plain": [
       "array([[[-1.22464680e-16,  1.00000000e+00,  0.00000000e+00],\n",
       "        [ 2.53184907e-01,  9.91954813e-01, -0.00000000e+00],\n",
       "        [ 5.02295974e-01,  9.67948701e-01, -0.00000000e+00],\n",
       "        ...,\n",
       "        [-5.02295974e-01,  9.67948701e-01,  0.00000000e+00],\n",
       "        [-2.53184907e-01,  9.91954813e-01,  0.00000000e+00],\n",
       "        [-1.10218212e-15,  1.00000000e+00,  0.00000000e+00]],\n",
       "\n",
       "       [[-2.01676841e-01,  9.94902816e-01,  0.00000000e+00],\n",
       "        [ 5.18400645e-02,  9.99664020e-01, -0.00000000e+00],\n",
       "        [ 3.04522843e-01,  9.88340255e-01, -0.00000000e+00],\n",
       "        ...,\n",
       "        [-6.94948515e-01,  9.37689522e-01,  0.00000000e+00],\n",
       "        [-4.51948690e-01,  9.74133253e-01,  0.00000000e+00],\n",
       "        [-2.01676841e-01,  9.94902816e-01,  0.00000000e+00]],\n",
       "\n",
       "       [[-4.01297713e-01,  9.79663226e-01,  0.00000000e+00],\n",
       "        [-1.50033255e-01,  9.97182283e-01,  0.00000000e+00],\n",
       "        [ 1.03645294e-01,  9.98656304e-01, -0.00000000e+00],\n",
       "        ...,\n",
       "        [-8.80516495e-01,  8.97871191e-01,  0.00000000e+00],\n",
       "        [-6.46105141e-01,  9.46381021e-01,  0.00000000e+00],\n",
       "        [-4.01297713e-01,  9.79663226e-01,  0.00000000e+00]],\n",
       "\n",
       "       ...,\n",
       "\n",
       "       [[ 7.29197467e-01, -9.31164735e-01,  0.00000000e+00],\n",
       "        [ 4.87574080e-01, -9.69828789e-01,  0.00000000e+00],\n",
       "        [ 2.38105444e-01, -9.92887934e-01,  0.00000000e+00],\n",
       "        ...,\n",
       "        [ 1.17354604e+00, -8.09751458e-01,  0.00000000e+00],\n",
       "        [ 9.59087794e-01, -8.77517892e-01,  0.00000000e+00],\n",
       "        [ 7.29197467e-01, -9.31164735e-01,  0.00000000e+00]],\n",
       "\n",
       "       [[ 9.13274975e-01, -8.89652856e-01,  0.00000000e+00],\n",
       "        [ 6.80680831e-01, -9.40302293e-01,  0.00000000e+00],\n",
       "        [ 4.37134278e-01, -9.75821913e-01,  0.00000000e+00],\n",
       "        ...,\n",
       "        [ 1.33087237e+00, -7.46454741e-01,  0.00000000e+00],\n",
       "        [ 1.13117418e+00, -8.24688573e-01,  0.00000000e+00],\n",
       "        [ 9.13274975e-01, -8.89652856e-01,  0.00000000e+00]],\n",
       "\n",
       "       [[ 1.08804222e+00, -8.39071529e-01,  0.00000000e+00],\n",
       "        [ 8.66848471e-01, -9.01190009e-01,  0.00000000e+00],\n",
       "        [ 6.31706804e-01, -9.48808004e-01,  0.00000000e+00],\n",
       "        ...,\n",
       "        [ 1.47463131e+00, -6.75548390e-01,  0.00000000e+00],\n",
       "        [ 1.29172897e+00, -7.63452074e-01,  0.00000000e+00],\n",
       "        [ 1.08804222e+00, -8.39071529e-01,  0.00000000e+00]]])"
      ]
     },
     "execution_count": 157,
     "metadata": {},
     "output_type": "execute_result"
    }
   ],
   "source": [
    "B= np.cross(np.array([0,0,1]),E)\n",
    "\n",
    "B"
   ]
  },
  {
   "attachments": {},
   "cell_type": "markdown",
   "metadata": {},
   "source": [
    "Tenemos que swapear los ejes de vuelta"
   ]
  },
  {
   "cell_type": "code",
   "execution_count": 158,
   "metadata": {},
   "outputs": [
    {
     "data": {
      "text/plain": [
       "array([[[-1.22464680e-16, -2.01676841e-01, -4.01297713e-01, ...,\n",
       "          7.29197467e-01,  9.13274975e-01,  1.08804222e+00],\n",
       "        [ 2.53184907e-01,  5.18400645e-02, -1.50033255e-01, ...,\n",
       "          4.87574080e-01,  6.80680831e-01,  8.66848471e-01],\n",
       "        [ 5.02295974e-01,  3.04522843e-01,  1.03645294e-01, ...,\n",
       "          2.38105444e-01,  4.37134278e-01,  6.31706804e-01],\n",
       "        ...,\n",
       "        [-5.02295974e-01, -6.94948515e-01, -8.80516495e-01, ...,\n",
       "          1.17354604e+00,  1.33087237e+00,  1.47463131e+00],\n",
       "        [-2.53184907e-01, -4.51948690e-01, -6.46105141e-01, ...,\n",
       "          9.59087794e-01,  1.13117418e+00,  1.29172897e+00],\n",
       "        [-1.10218212e-15, -2.01676841e-01, -4.01297713e-01, ...,\n",
       "          7.29197467e-01,  9.13274975e-01,  1.08804222e+00]],\n",
       "\n",
       "       [[ 1.00000000e+00,  9.94902816e-01,  9.79663226e-01, ...,\n",
       "         -9.31164735e-01, -8.89652856e-01, -8.39071529e-01],\n",
       "        [ 9.91954813e-01,  9.99664020e-01,  9.97182283e-01, ...,\n",
       "         -9.69828789e-01, -9.40302293e-01, -9.01190009e-01],\n",
       "        [ 9.67948701e-01,  9.88340255e-01,  9.98656304e-01, ...,\n",
       "         -9.92887934e-01, -9.75821913e-01, -9.48808004e-01],\n",
       "        ...,\n",
       "        [ 9.67948701e-01,  9.37689522e-01,  8.97871191e-01, ...,\n",
       "         -8.09751458e-01, -7.46454741e-01, -6.75548390e-01],\n",
       "        [ 9.91954813e-01,  9.74133253e-01,  9.46381021e-01, ...,\n",
       "         -8.77517892e-01, -8.24688573e-01, -7.63452074e-01],\n",
       "        [ 1.00000000e+00,  9.94902816e-01,  9.79663226e-01, ...,\n",
       "         -9.31164735e-01, -8.89652856e-01, -8.39071529e-01]],\n",
       "\n",
       "       [[ 0.00000000e+00,  0.00000000e+00,  0.00000000e+00, ...,\n",
       "          0.00000000e+00,  0.00000000e+00,  0.00000000e+00],\n",
       "        [-0.00000000e+00, -0.00000000e+00,  0.00000000e+00, ...,\n",
       "          0.00000000e+00,  0.00000000e+00,  0.00000000e+00],\n",
       "        [-0.00000000e+00, -0.00000000e+00, -0.00000000e+00, ...,\n",
       "          0.00000000e+00,  0.00000000e+00,  0.00000000e+00],\n",
       "        ...,\n",
       "        [ 0.00000000e+00,  0.00000000e+00,  0.00000000e+00, ...,\n",
       "          0.00000000e+00,  0.00000000e+00,  0.00000000e+00],\n",
       "        [ 0.00000000e+00,  0.00000000e+00,  0.00000000e+00, ...,\n",
       "          0.00000000e+00,  0.00000000e+00,  0.00000000e+00],\n",
       "        [ 0.00000000e+00,  0.00000000e+00,  0.00000000e+00, ...,\n",
       "          0.00000000e+00,  0.00000000e+00,  0.00000000e+00]]])"
      ]
     },
     "execution_count": 158,
     "metadata": {},
     "output_type": "execute_result"
    }
   ],
   "source": [
    "B= np.swapaxes(B, 0, -1)\n",
    "Bx, By, Bz = B\n",
    "B"
   ]
  },
  {
   "cell_type": "code",
   "execution_count": 161,
   "metadata": {},
   "outputs": [
    {
     "data": {
      "image/png": "[encoded data removed]",
      "text/plain": [
       "<Figure size 432x288 with 1 Axes>"
      ]
     },
     "metadata": {
      "needs_background": "light"
     },
     "output_type": "display_data"
    }
   ],
   "source": [
    "plt.plot(t, Ey[0])\n",
    "plt.plot(t, Bx[0])\n",
    "plt.show()   "
   ]
  },
  {
   "attachments": {},
   "cell_type": "markdown",
   "metadata": {},
   "source": [
    "Que $E_y$ y $B_x$ sean el negativo el uno del otro nos demuestra que esto está bien hecho."
   ]
  },
  {
   "cell_type": "code",
   "execution_count": 162,
   "metadata": {},
   "outputs": [
    {
     "data": {
      "text/plain": [
       "array([[[ 0.        , -0.        ,  1.        ],\n",
       "        [ 0.        ,  0.        ,  1.04807695],\n",
       "        [ 0.        ,  0.        ,  1.18922593],\n",
       "        ...,\n",
       "        [ 0.        , -0.        ,  1.18922593],\n",
       "        [ 0.        , -0.        ,  1.04807695],\n",
       "        [ 0.        , -0.        ,  1.        ]],\n",
       "\n",
       "       [[ 0.        , -0.        ,  1.03050516],\n",
       "        [ 0.        ,  0.        ,  1.00201554],\n",
       "        [ 0.        ,  0.        ,  1.06955062],\n",
       "        ...,\n",
       "        [ 0.        , -0.        ,  1.36221508],\n",
       "        [ 0.        , -0.        ,  1.15319321],\n",
       "        [ 0.        , -0.        ,  1.03050516]],\n",
       "\n",
       "       [[ 0.        , -0.        ,  1.12077989],\n",
       "        [ 0.        , -0.        ,  1.01688248],\n",
       "        [ 0.        ,  0.        ,  1.00805676],\n",
       "        ...,\n",
       "        [ 0.        , -0.        ,  1.58148197],\n",
       "        [ 0.        , -0.        ,  1.31308889],\n",
       "        [ 0.        , -0.        ,  1.12077989]],\n",
       "\n",
       "       ...,\n",
       "\n",
       "       [[ 0.        ,  0.        ,  1.39879671],\n",
       "        [ 0.        ,  0.        ,  1.17829636],\n",
       "        [ 0.        ,  0.        ,  1.04252065],\n",
       "        ...,\n",
       "        [ 0.        ,  0.        ,  2.03290773],\n",
       "        [ 0.        ,  0.        ,  1.68988705],\n",
       "        [ 0.        ,  0.        ,  1.39879671]],\n",
       "\n",
       "       [[ 0.        ,  0.        ,  1.62555339],\n",
       "        [ 0.        ,  0.        ,  1.3474948 ],\n",
       "        [ 0.        ,  0.        ,  1.14331478],\n",
       "        ...,\n",
       "        [ 0.        ,  0.        ,  2.32841596],\n",
       "        [ 0.        ,  0.        ,  1.95966627],\n",
       "        [ 0.        ,  0.        ,  1.62555339]],\n",
       "\n",
       "       [[ 0.        ,  0.        ,  1.88787691],\n",
       "        [ 0.        ,  0.        ,  1.5635697 ],\n",
       "        [ 0.        ,  0.        ,  1.29929012],\n",
       "        ...,\n",
       "        [ 0.        ,  0.        ,  2.63090312],\n",
       "        [ 0.        ,  0.        ,  2.25142279],\n",
       "        [ 0.        ,  0.        ,  1.88787691]]])"
      ]
     },
     "execution_count": 162,
     "metadata": {},
     "output_type": "execute_result"
    }
   ],
   "source": [
    "B= np.swapaxes(B,0,-1)\n",
    "\n",
    "S= np.cross(E,B)\n",
    "S"
   ]
  },
  {
   "cell_type": "code",
   "execution_count": 163,
   "metadata": {},
   "outputs": [],
   "source": [
    "S= np.swapaxes(S,0,-1)\n",
    "Sx, Sy, Sz = S #Para comprobar que está bien hecho, podemos ver que Sx y Sy para este caso particular, son nulos. Y que Sz es el único no nulo."
   ]
  },
  {
   "cell_type": "code",
   "execution_count": 164,
   "metadata": {},
   "outputs": [
    {
     "data": {
      "text/plain": [
       "array([[0., 0., 0., ..., 0., 0., 0.],\n",
       "       [0., 0., 0., ..., 0., 0., 0.],\n",
       "       [0., 0., 0., ..., 0., 0., 0.],\n",
       "       ...,\n",
       "       [0., 0., 0., ..., 0., 0., 0.],\n",
       "       [0., 0., 0., ..., 0., 0., 0.],\n",
       "       [0., 0., 0., ..., 0., 0., 0.]])"
      ]
     },
     "execution_count": 164,
     "metadata": {},
     "output_type": "execute_result"
    }
   ],
   "source": [
    "Sx"
   ]
  },
  {
   "cell_type": "code",
   "execution_count": 165,
   "metadata": {},
   "outputs": [
    {
     "data": {
      "text/plain": [
       "array([[-0., -0., -0., ...,  0.,  0.,  0.],\n",
       "       [ 0.,  0., -0., ...,  0.,  0.,  0.],\n",
       "       [ 0.,  0.,  0., ...,  0.,  0.,  0.],\n",
       "       ...,\n",
       "       [-0., -0., -0., ...,  0.,  0.,  0.],\n",
       "       [-0., -0., -0., ...,  0.,  0.,  0.],\n",
       "       [-0., -0., -0., ...,  0.,  0.,  0.]])"
      ]
     },
     "execution_count": 165,
     "metadata": {},
     "output_type": "execute_result"
    }
   ],
   "source": [
    "Sy"
   ]
  },
  {
   "cell_type": "code",
   "execution_count": 166,
   "metadata": {},
   "outputs": [
    {
     "data": {
      "text/plain": [
       "array([[1.        , 1.03050516, 1.12077989, ..., 1.39879671, 1.62555339,\n",
       "        1.88787691],\n",
       "       [1.04807695, 1.00201554, 1.01688248, ..., 1.17829636, 1.3474948 ,\n",
       "        1.5635697 ],\n",
       "       [1.18922593, 1.06955062, 1.00805676, ..., 1.04252065, 1.14331478,\n",
       "        1.29929012],\n",
       "       ...,\n",
       "       [1.18922593, 1.36221508, 1.58148197, ..., 2.03290773, 2.32841596,\n",
       "        2.63090312],\n",
       "       [1.04807695, 1.15319321, 1.31308889, ..., 1.68988705, 1.95966627,\n",
       "        2.25142279],\n",
       "       [1.        , 1.03050516, 1.12077989, ..., 1.39879671, 1.62555339,\n",
       "        1.88787691]])"
      ]
     },
     "execution_count": 166,
     "metadata": {},
     "output_type": "execute_result"
    }
   ],
   "source": [
    "Sz"
   ]
  },
  {
   "attachments": {},
   "cell_type": "markdown",
   "metadata": {},
   "source": [
    "> ## Problema 3\n",
    "\n",
    "Encuentre las soluciones a $(\\frac{d^2}{dx}+(10x)^2)f=\\lambda f$ con condiciones de contorno $f(0)=f(1)=0$\n",
    "\n",
    "1. Use el método de autovalores y que $\\frac{d^2 f}{dx^2} \\approx \\frac{f_{i+1} + f_{i-1} -2f_i}{\\Delta x^2}$ donde $f_i=f(i\\Delta x)$ e $i$ es un entero.\n",
    "\n",
    "**AVISO: Mucho cuidado con los rangos de $N$ según con qué estemos trabajando. Cuidado con los $N+1, N-1$...**\n",
    "\n",
    "\n",
    "Para el desarrollo de este problema, tenemos que tener en cuenta que si $f$ va a consistir en un array de puntos $f=[f_0, f_1, f_2, f_3, ..., f_{N+1}]$ y que si $\\frac{d^2 f}{dx^2} \\approx \\frac{f_{i+1} + f_{i-1} -2f_i}{\\Delta x^2}$, entonces:\n",
    "\n",
    "$$[\\frac{d^2}{dx^2}]f_1 \\approx \\frac{f_{2} + f_{0} -2f_1}{\\Delta x^2}$$\n",
    "$$[\\frac{d^2}{dx^2}]f_2 \\approx \\frac{f_{3} + f_{1} -2f_2}{\\Delta x^2}$$\n",
    "$$\\vdots$$\n",
    "$$[\\frac{d^2}{dx^2}]f_N \\approx \\frac{f_{N+1} + f_{N-1} -2f_N}{\\Delta x^2}$$\n",
    "\n",
    "Recordemos $f_0=f_{N+1} =0$ por las condiciones de contorno.\n",
    "\n",
    "Significa entonces que $$[\\frac{d^2}{dx^2}]f = \\frac{1}{\\Delta x^2} \\begin{bmatrix} f_2 -2f_1\\\\ f_{3} + f_{1} -2f_2\\\\ \\vdots\\\\ f_{N+1} + f_{N-1} -2f_N\\\\\\end{bmatrix} = \\frac{1}{\\Delta x^2} \\begin{bmatrix}  -2 & 1 \\\\1 &-2 & 1 \\\\ & 1 &-2 & 1 \\\\ &&\\ddots \\\\&&&-1 &-2 \\end{bmatrix} \\begin{bmatrix} f_1 \\\\\\vdots \\\\\\vdots \\\\ f_N \\end{bmatrix}$$\n",
    "\n",
    "De igual forma, para el segundo operador:\n",
    "\n",
    "$$[10x]^2\\vec f = [h(x)]\\vec f =\\begin{bmatrix} h_1 f_1\\\\ h_2 f_2\\\\ \\vdots\\\\ h_{N}f_{N}\\\\ \\end{bmatrix} = \\begin{bmatrix}  h_1& & &\\\\& &h_2 & &\\\\& & &\\ddots& \\\\ & & & &h_N \\\\ \\end{bmatrix} \\begin{bmatrix} f_1 \\\\\\vdots \\\\\\vdots \\\\ f_N \\end{bmatrix}$$ \n",
    "\n",
    "¿Por qué lo hacemos así? Para poder sumar esta segunda matriz diagonal con la primera matriz \"semi-diagonal\" de antes y diagonalizar todo, ya que no sabemos *f*."
   ]
  },
  {
   "cell_type": "code",
   "execution_count": 188,
   "metadata": {},
   "outputs": [],
   "source": [
    "N= 1000\n",
    "\n",
    "x = np.linspace(0,1,N+1) #N+1 porque empezamos a contar en 0 contamos con los extremos \n",
    "dx= np.diff(x)[0] # = x[1]-x[0]"
   ]
  },
  {
   "attachments": {},
   "cell_type": "markdown",
   "metadata": {},
   "source": [
    "Vamos a definir las diagonales que nos hacen falta para caracterizar las matrices."
   ]
  },
  {
   "cell_type": "code",
   "execution_count": 189,
   "metadata": {},
   "outputs": [
    {
     "data": {
      "text/plain": [
       "array([[-2000000.,  1000000.,        0., ...,        0.,        0.,\n",
       "               0.],\n",
       "       [ 1000000., -2000000.,  1000000., ...,        0.,        0.,\n",
       "               0.],\n",
       "       [       0.,  1000000., -2000000., ...,        0.,        0.,\n",
       "               0.],\n",
       "       ...,\n",
       "       [       0.,        0.,        0., ..., -2000000.,  1000000.,\n",
       "               0.],\n",
       "       [       0.,        0.,        0., ...,  1000000., -2000000.,\n",
       "         1000000.],\n",
       "       [       0.,        0.,        0., ...,        0.,  1000000.,\n",
       "        -2000000.]])"
      ]
     },
     "execution_count": 189,
     "metadata": {},
     "output_type": "execute_result"
    }
   ],
   "source": [
    "main_diag = -2*np.ones(N-1) #diagonal principal. N-1 porque queremos los puntos interiores a los extremos\n",
    "off_diag = np.ones(N-2) #diagonal abyacente. Escribimos N-2 porque la diagonal abyacente tiene un elemento menos\n",
    "\n",
    "deriv_matrix= ((np.diag(main_diag)) + np.diag(off_diag, 1) + np.diag(off_diag, -1))/dx**2 # Primera matriz, la \"semi-diagonal\"\n",
    "deriv_matrix"
   ]
  },
  {
   "cell_type": "code",
   "execution_count": 183,
   "metadata": {},
   "outputs": [
    {
     "data": {
      "text/plain": [
       "array([[1.00000e-04, 0.00000e+00, 0.00000e+00, ..., 0.00000e+00,\n",
       "        0.00000e+00, 0.00000e+00],\n",
       "       [0.00000e+00, 4.00000e-04, 0.00000e+00, ..., 0.00000e+00,\n",
       "        0.00000e+00, 0.00000e+00],\n",
       "       [0.00000e+00, 0.00000e+00, 9.00000e-04, ..., 0.00000e+00,\n",
       "        0.00000e+00, 0.00000e+00],\n",
       "       ...,\n",
       "       [0.00000e+00, 0.00000e+00, 0.00000e+00, ..., 9.94009e+01,\n",
       "        0.00000e+00, 0.00000e+00],\n",
       "       [0.00000e+00, 0.00000e+00, 0.00000e+00, ..., 0.00000e+00,\n",
       "        9.96004e+01, 0.00000e+00],\n",
       "       [0.00000e+00, 0.00000e+00, 0.00000e+00, ..., 0.00000e+00,\n",
       "        0.00000e+00, 9.98001e+01]])"
      ]
     },
     "execution_count": 183,
     "metadata": {},
     "output_type": "execute_result"
    }
   ],
   "source": [
    "x2_matrix = np.diag((10*x[1:-1])**2) #segunda matriz\n",
    "x2_matrix"
   ]
  },
  {
   "cell_type": "code",
   "execution_count": 184,
   "metadata": {},
   "outputs": [
    {
     "data": {
      "text/plain": [
       "array([[-1999999.9999,  1000000.    ,        0.    , ...,        0.    ,\n",
       "               0.    ,        0.    ],\n",
       "       [ 1000000.    , -1999999.9996,  1000000.    , ...,        0.    ,\n",
       "               0.    ,        0.    ],\n",
       "       [       0.    ,  1000000.    , -1999999.9991, ...,        0.    ,\n",
       "               0.    ,        0.    ],\n",
       "       ...,\n",
       "       [       0.    ,        0.    ,        0.    , ..., -1999900.5991,\n",
       "         1000000.    ,        0.    ],\n",
       "       [       0.    ,        0.    ,        0.    , ...,  1000000.    ,\n",
       "        -1999900.3996,  1000000.    ],\n",
       "       [       0.    ,        0.    ,        0.    , ...,        0.    ,\n",
       "         1000000.    , -1999900.1999]])"
      ]
     },
     "execution_count": 184,
     "metadata": {},
     "output_type": "execute_result"
    }
   ],
   "source": [
    "izq= deriv_matrix + x2_matrix #primer miembro o miembro de la izquierda\n",
    "izq"
   ]
  },
  {
   "attachments": {},
   "cell_type": "markdown",
   "metadata": {},
   "source": [
    "Procedamos a diagonalizar:"
   ]
  },
  {
   "cell_type": "code",
   "execution_count": 197,
   "metadata": {},
   "outputs": [
    {
     "data": {
      "text/plain": [
       "29.855323222432386"
      ]
     },
     "execution_count": 197,
     "metadata": {},
     "output_type": "execute_result"
    }
   ],
   "source": [
    "w,v= np.linalg.eigh(izq) #diagonalizamos\n",
    "# w es el array de los autovalores\n",
    "# v es el array de los autovectores (autoarrays en nuestro caso)\n",
    "\n",
    "#los autovalores en python aparecen en orden descendente, así que el último será el autovalor de nuestro estado fundamental\n",
    "w[-1] #el último elemento"
   ]
  },
  {
   "attachments": {},
   "cell_type": "markdown",
   "metadata": {},
   "source": [
    "Las autofunciones nos vienen devueltas de manera que tenemos que coger las columnas. *(Ahora mismo tengo un poco de lío y no se por qué pero más o menos sé por donde van los tiros, así que lo dejo como ejercicio para el lector)*"
   ]
  },
  {
   "cell_type": "code",
   "execution_count": 199,
   "metadata": {},
   "outputs": [
    {
     "data": {
      "text/plain": [
       "array([[-2.68102902e-04, -3.48575667e-04,  4.58553075e-04, ...,\n",
       "         3.72473476e-04, -1.90040297e-04, -2.81768141e-05],\n",
       "       [ 5.36197747e-04,  6.97126284e-04, -9.17049631e-04, ...,\n",
       "         7.44925311e-04, -3.80078540e-04, -5.63544695e-05],\n",
       "       [-8.04276477e-04, -1.04562680e-03,  1.37543315e-03, ...,\n",
       "         1.11733387e-03, -5.70112676e-04, -8.45338073e-05],\n",
       "       ...,\n",
       "       [-8.94416123e-05,  4.41702575e-04,  9.68353537e-04, ...,\n",
       "         1.44115218e-03,  1.07670763e-03, -1.11717080e-03],\n",
       "       [ 5.96242840e-05, -2.94461568e-04, -6.45581730e-04, ...,\n",
       "         9.60894431e-04,  7.17871161e-04, -7.44823850e-04],\n",
       "       [-2.98111024e-05,  1.47228727e-04,  3.22794651e-04, ...,\n",
       "         4.80485150e-04,  3.58955432e-04, -3.72424950e-04]])"
      ]
     },
     "execution_count": 199,
     "metadata": {},
     "output_type": "execute_result"
    }
   ],
   "source": [
    "v"
   ]
  },
  {
   "cell_type": "code",
   "execution_count": 205,
   "metadata": {},
   "outputs": [
    {
     "data": {
      "text/plain": [
       "<matplotlib.legend.Legend at 0x267a5312b50>"
      ]
     },
     "execution_count": 205,
     "metadata": {},
     "output_type": "execute_result"
    },
    {
     "data": {
      "image/png": "[encoded data removed]",
      "text/plain": [
       "<Figure size 432x288 with 1 Axes>"
      ]
     },
     "metadata": {
      "needs_background": "light"
     },
     "output_type": "display_data"
    }
   ],
   "source": [
    "#\"recorre todas las filas y coge la ultima columna/penultima columna/antepenultima columna...\"\n",
    "plt.plot(v[:,-1], label= 'N=1') #la autofunción del menor autovalor\n",
    "plt.plot(v[:,-2], label= 'N=2')\n",
    "plt.plot(v[:,-3], label= 'N=3')\n",
    "plt.plot(v[:,-4], label= 'N=4')\n",
    "\n",
    "plt.legend()\n"
   ]
  },
  {
   "attachments": {},
   "cell_type": "markdown",
   "metadata": {},
   "source": [
    "Y con eso ya tendríamos determinados también los autoestados.\n",
    "\n",
    "Y con esto, tendríamos terminado el cuaderno de numpy para físicos y/o matemáticos. Numpy es mucho más amplio que esto y mi recomendación es buscar en su guía de uso más funciones chulas que nos puedan servir y aprender a utilizarlas, ésto es sólo lo básico. También podríamos ser capaces de operar con ficheros de datos en *.csv* pero eso, para otra vez."
   ]
  }
 ],
 "metadata": {
  "kernelspec": {
   "display_name": "Python 3.9.7 ('base')",
   "language": "python",
   "name": "python3"
  },
  "language_info": {
   "codemirror_mode": {
    "name": "ipython",
    "version": 3
   },
   "file_extension": ".py",
   "mimetype": "text/x-python",
   "name": "python",
   "nbconvert_exporter": "python",
   "pygments_lexer": "ipython3",
   "version": "3.9.7"
  },
  "metadata": {
   "interpreter": {
    "hash": "b2aae7782ae4367a798962cc23c8b13f95033841de453e3e0cd17426c57e03ec"
   }
  },
  "orig_nbformat": 2,
  "vscode": {
   "interpreter": {
    "hash": "63fba462be1f5b3bfb1b80b965d120debebf0123bcfa90e0815210e4e3fe190e"
   }
  }
 },
 "nbformat": 4,
 "nbformat_minor": 2
}
